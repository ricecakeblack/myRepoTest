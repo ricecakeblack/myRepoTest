{
  "nbformat": 4,
  "nbformat_minor": 0,
  "metadata": {
    "colab": {
      "provenance": [],
      "toc_visible": true,
      "include_colab_link": true
    },
    "kernelspec": {
      "name": "python3",
      "display_name": "Python 3"
    }
  },
  "cells": [
    {
      "cell_type": "markdown",
      "metadata": {
        "id": "view-in-github",
        "colab_type": "text"
      },
      "source": [
        "<a href=\"https://colab.research.google.com/github/ricecakeblack/myRepoTest/blob/main/7_python_string.ipynb\" target=\"_parent\"><img src=\"https://colab.research.google.com/assets/colab-badge.svg\" alt=\"Open In Colab\"/></a>"
      ]
    },
    {
      "cell_type": "markdown",
      "metadata": {
        "id": "yhrjrcX50_xk"
      },
      "source": [
        "## 1. 문자열을 잘 다룬다는 의미"
      ]
    },
    {
      "cell_type": "markdown",
      "metadata": {
        "id": "af-WjtP-6EHN"
      },
      "source": [
        "데이터 분석을 공부한다면, 문자열은 정말 뗄레야 뗄 수 없습니다.\n",
        "\n",
        "* 텍스트 분석\n",
        "* 크롤링 (웹사이트 내용 긁어오기)\n",
        "* 엑셀 파일 다루기\n",
        "등등..\n",
        "\n",
        "게다가 대한민국 국민은 세종대왕이 만드신 최고의 과학적인 언어, **'한글'까지 추가로 처리/ 이해** 할 수 있어야 합니다!!"
      ]
    },
    {
      "cell_type": "code",
      "metadata": {
        "id": "JjO95Db36feK"
      },
      "source": [],
      "execution_count": null,
      "outputs": []
    },
    {
      "cell_type": "code",
      "metadata": {
        "id": "LaYqkxbK6flM"
      },
      "source": [],
      "execution_count": null,
      "outputs": []
    },
    {
      "cell_type": "markdown",
      "metadata": {
        "id": "I0X0Ex-N6ftn"
      },
      "source": [
        "## 2. 문자의 길이"
      ]
    },
    {
      "cell_type": "code",
      "metadata": {
        "id": "hNYj8cE26ifd"
      },
      "source": [
        "a = 'banana'"
      ],
      "execution_count": null,
      "outputs": []
    },
    {
      "cell_type": "code",
      "metadata": {
        "id": "LHe2Vr9m6pK1",
        "colab": {
          "base_uri": "https://localhost:8080/"
        },
        "outputId": "08ea2776-448f-462d-8da6-d7f7ff5300ab"
      },
      "source": [
        "len(a)"
      ],
      "execution_count": null,
      "outputs": [
        {
          "output_type": "execute_result",
          "data": {
            "text/plain": [
              "6"
            ]
          },
          "metadata": {},
          "execution_count": 2
        }
      ]
    },
    {
      "cell_type": "code",
      "metadata": {
        "id": "AxINMVWy6tTX"
      },
      "source": [
        "a = 'banana pen'"
      ],
      "execution_count": null,
      "outputs": []
    },
    {
      "cell_type": "code",
      "metadata": {
        "id": "sWeic6eQ6vvd",
        "outputId": "1c8b456c-97fb-4471-e036-eb9e15f1415f",
        "colab": {
          "base_uri": "https://localhost:8080/"
        }
      },
      "source": [
        "len(a)"
      ],
      "execution_count": null,
      "outputs": [
        {
          "output_type": "execute_result",
          "data": {
            "text/plain": [
              "10"
            ]
          },
          "metadata": {},
          "execution_count": 4
        }
      ]
    },
    {
      "cell_type": "code",
      "metadata": {
        "id": "gz7yKY3I6wx9"
      },
      "source": [
        "a = '한글'"
      ],
      "execution_count": null,
      "outputs": []
    },
    {
      "cell_type": "code",
      "metadata": {
        "id": "C4OsD6KE64xb",
        "outputId": "a857a5de-caa6-41cd-ab21-d1d3f1ff4936",
        "colab": {
          "base_uri": "https://localhost:8080/"
        }
      },
      "source": [
        "len(a)"
      ],
      "execution_count": null,
      "outputs": [
        {
          "output_type": "execute_result",
          "data": {
            "text/plain": [
              "2"
            ]
          },
          "metadata": {},
          "execution_count": 6
        }
      ]
    },
    {
      "cell_type": "code",
      "metadata": {
        "id": "lw6mBOz465QN"
      },
      "source": [
        "a = '한글 킹왕짱'"
      ],
      "execution_count": null,
      "outputs": []
    },
    {
      "cell_type": "code",
      "metadata": {
        "id": "VqpF4dSg68cG",
        "outputId": "75d27d2b-9c2b-4edc-bb57-92a017156ad4",
        "colab": {
          "base_uri": "https://localhost:8080/"
        }
      },
      "source": [
        "len(a)"
      ],
      "execution_count": null,
      "outputs": [
        {
          "output_type": "execute_result",
          "data": {
            "text/plain": [
              "6"
            ]
          },
          "metadata": {},
          "execution_count": 8
        }
      ]
    },
    {
      "cell_type": "code",
      "metadata": {
        "id": "cBgtMYN369Od"
      },
      "source": [],
      "execution_count": null,
      "outputs": []
    },
    {
      "cell_type": "markdown",
      "metadata": {
        "id": "X3drW8_W6_cP"
      },
      "source": [
        "## 3. 문장 쪼개기"
      ]
    },
    {
      "cell_type": "markdown",
      "metadata": {
        "id": "K0mX1iZD7E7s"
      },
      "source": [
        "문자열만 가지고 있는 **고유의 편한 기능**들이 있습니다. 우리는 이들 중 몇 가지를 배워 앞으로 유용하게 활용할 예정입니다."
      ]
    },
    {
      "cell_type": "markdown",
      "metadata": {
        "id": "b3crAbCA7Oy-"
      },
      "source": [
        "### 3-1. split"
      ]
    },
    {
      "cell_type": "markdown",
      "metadata": {
        "id": "OsAWWrld7UiV"
      },
      "source": [
        "가장 많이 쓰는 기능입니다.\n",
        "\n",
        "split은 문장을 특정 규칙에 의해 쪼개 주는 기능을 합니다."
      ]
    },
    {
      "cell_type": "code",
      "metadata": {
        "id": "FC4GEYLM7WmE"
      },
      "source": [
        "a = 'This is a pen'"
      ],
      "execution_count": null,
      "outputs": []
    },
    {
      "cell_type": "code",
      "metadata": {
        "id": "0G74kkKv7gTM",
        "outputId": "86ee2298-0899-4d5c-da09-e51d86cfeb4d",
        "colab": {
          "base_uri": "https://localhost:8080/"
        }
      },
      "source": [
        "a.split(' ')"
      ],
      "execution_count": null,
      "outputs": [
        {
          "output_type": "execute_result",
          "data": {
            "text/plain": [
              "['This', 'is', 'a', 'pen']"
            ]
          },
          "metadata": {},
          "execution_count": 10
        }
      ]
    },
    {
      "cell_type": "code",
      "metadata": {
        "id": "TlbMIIrt7tNl",
        "outputId": "2ba6d170-a28a-4449-9ab7-58d5b23b1012",
        "colab": {
          "base_uri": "https://localhost:8080/"
        }
      },
      "source": [
        "# split함수는 분할조건을 입력하지 않을 경우 ' ' 스페이스를 기본으로 한다.\n",
        "a.split()"
      ],
      "execution_count": null,
      "outputs": [
        {
          "output_type": "execute_result",
          "data": {
            "text/plain": [
              "['This', 'is', 'a', 'pen']"
            ]
          },
          "metadata": {},
          "execution_count": 11
        }
      ]
    },
    {
      "cell_type": "markdown",
      "metadata": {
        "id": "JWUQvHVc7vql"
      },
      "source": [
        "쪼개려는 기준을 다르게 해봅시다"
      ]
    },
    {
      "cell_type": "code",
      "metadata": {
        "id": "-CCwHeQk7hru"
      },
      "source": [
        "a = 'This-is-a-pen'"
      ],
      "execution_count": null,
      "outputs": []
    },
    {
      "cell_type": "code",
      "metadata": {
        "id": "fr07vyKD7lJd",
        "outputId": "c8029f27-660c-4627-a5f9-f0de0c0e9a43",
        "colab": {
          "base_uri": "https://localhost:8080/"
        }
      },
      "source": [
        "a.split('-')"
      ],
      "execution_count": null,
      "outputs": [
        {
          "output_type": "execute_result",
          "data": {
            "text/plain": [
              "['This', 'is', 'a', 'pen']"
            ]
          },
          "metadata": {},
          "execution_count": 13
        }
      ]
    },
    {
      "cell_type": "markdown",
      "metadata": {
        "id": "njgIrDUG7rFP"
      },
      "source": [
        "list 형식으로 값을 return 받습니다."
      ]
    },
    {
      "cell_type": "code",
      "metadata": {
        "id": "BL7mXU7H77EE"
      },
      "source": [
        "aa = a.split('-')"
      ],
      "execution_count": null,
      "outputs": []
    },
    {
      "cell_type": "code",
      "metadata": {
        "id": "P7xGEtP679tE",
        "outputId": "a4eb947e-4897-49be-af91-ecb683a56b25",
        "colab": {
          "base_uri": "https://localhost:8080/"
        }
      },
      "source": [
        "type(aa)"
      ],
      "execution_count": null,
      "outputs": [
        {
          "output_type": "execute_result",
          "data": {
            "text/plain": [
              "list"
            ]
          },
          "metadata": {},
          "execution_count": 16
        }
      ]
    },
    {
      "cell_type": "code",
      "metadata": {
        "id": "fcoZjewf7-Cl",
        "outputId": "99a0395a-45ae-485a-96f4-80feb16a61b4",
        "colab": {
          "base_uri": "https://localhost:8080/",
          "height": 34
        }
      },
      "source": [
        "aa[0] #원하는 인덱스 넘버"
      ],
      "execution_count": null,
      "outputs": [
        {
          "output_type": "execute_result",
          "data": {
            "text/plain": [
              "'This'"
            ]
          },
          "metadata": {
            "tags": []
          },
          "execution_count": 16
        }
      ]
    },
    {
      "cell_type": "code",
      "metadata": {
        "id": "Tdu5YodD8ByV",
        "outputId": "e6c53747-547c-43c9-f09a-2e77d5399acb",
        "colab": {
          "base_uri": "https://localhost:8080/",
          "height": 34
        }
      },
      "source": [
        "aa[2]"
      ],
      "execution_count": null,
      "outputs": [
        {
          "output_type": "execute_result",
          "data": {
            "text/plain": [
              "'a'"
            ]
          },
          "metadata": {
            "tags": []
          },
          "execution_count": 17
        }
      ]
    },
    {
      "cell_type": "code",
      "metadata": {
        "id": "A3bVCP1o8CgV",
        "outputId": "cb5741ee-0a64-4ca7-ffe6-af72ce10787c",
        "colab": {
          "base_uri": "https://localhost:8080/",
          "height": 34
        }
      },
      "source": [
        "aa[0] + aa[2] #문자열+문자열 통합"
      ],
      "execution_count": null,
      "outputs": [
        {
          "output_type": "execute_result",
          "data": {
            "text/plain": [
              "'Thisa'"
            ]
          },
          "metadata": {
            "tags": []
          },
          "execution_count": 18
        }
      ]
    },
    {
      "cell_type": "code",
      "metadata": {
        "id": "8cV3DoUT8X5P"
      },
      "source": [
        "a = '한글은 어떻게 될까요?'"
      ],
      "execution_count": null,
      "outputs": []
    },
    {
      "cell_type": "code",
      "metadata": {
        "id": "Hjb4bU-a8Ebd",
        "outputId": "04c77434-95f5-4048-9e59-eb5b680a9311",
        "colab": {
          "base_uri": "https://localhost:8080/",
          "height": 34
        }
      },
      "source": [
        "a.split()"
      ],
      "execution_count": null,
      "outputs": [
        {
          "output_type": "execute_result",
          "data": {
            "text/plain": [
              "['한글은', '어떻게', '될까요?']"
            ]
          },
          "metadata": {
            "tags": []
          },
          "execution_count": 20
        }
      ]
    },
    {
      "cell_type": "markdown",
      "metadata": {
        "id": "dBxYW5wZ8GP-"
      },
      "source": [
        "### 3-2. 대문자 / 소문자로 만들기"
      ]
    },
    {
      "cell_type": "code",
      "metadata": {
        "id": "_jM72wdq8I5l"
      },
      "source": [
        "a = 'My name is Teddy'"
      ],
      "execution_count": null,
      "outputs": []
    },
    {
      "cell_type": "code",
      "metadata": {
        "id": "nzwSAYnY8PMt",
        "outputId": "1d2c1433-5a9b-4a55-f37c-4d7a2bb7c4bb",
        "colab": {
          "base_uri": "https://localhost:8080/",
          "height": 34
        }
      },
      "source": [
        "# 문자열의 문자들을 소문자로 변경\n",
        "a.lower()"
      ],
      "execution_count": null,
      "outputs": [
        {
          "output_type": "execute_result",
          "data": {
            "text/plain": [
              "'my name is teddy'"
            ]
          },
          "metadata": {
            "tags": []
          },
          "execution_count": 22
        }
      ]
    },
    {
      "cell_type": "code",
      "metadata": {
        "id": "-WzdUBjE8Q45",
        "outputId": "000f1a80-0e76-44f6-b82a-29e74cafce4f",
        "colab": {
          "base_uri": "https://localhost:8080/",
          "height": 34
        }
      },
      "source": [
        "a.upper()"
      ],
      "execution_count": null,
      "outputs": [
        {
          "output_type": "execute_result",
          "data": {
            "text/plain": [
              "'MY NAME IS TEDDY'"
            ]
          },
          "metadata": {
            "tags": []
          },
          "execution_count": 23
        }
      ]
    },
    {
      "cell_type": "code",
      "metadata": {
        "id": "LCvVGpAs8V_e"
      },
      "source": [
        "a = '한글엔 대소문자가 없어요ㅠ'"
      ],
      "execution_count": null,
      "outputs": []
    },
    {
      "cell_type": "code",
      "metadata": {
        "id": "Als5HOz28hM5",
        "outputId": "989f89f2-9645-4130-f13b-4d2399b6144d",
        "colab": {
          "base_uri": "https://localhost:8080/",
          "height": 34
        }
      },
      "source": [
        "a.lower()"
      ],
      "execution_count": null,
      "outputs": [
        {
          "output_type": "execute_result",
          "data": {
            "text/plain": [
              "'한글엔 대소문자가 없어요ㅠ'"
            ]
          },
          "metadata": {
            "tags": []
          },
          "execution_count": 25
        }
      ]
    },
    {
      "cell_type": "code",
      "metadata": {
        "id": "rjPBxrK08iFt",
        "outputId": "408c6536-db11-411e-a322-3dcda429a041",
        "colab": {
          "base_uri": "https://localhost:8080/",
          "height": 34
        }
      },
      "source": [
        "a.upper()"
      ],
      "execution_count": null,
      "outputs": [
        {
          "output_type": "execute_result",
          "data": {
            "text/plain": [
              "'한글엔 대소문자가 없어요ㅠ'"
            ]
          },
          "metadata": {
            "tags": []
          },
          "execution_count": 26
        }
      ]
    },
    {
      "cell_type": "code",
      "metadata": {
        "id": "k8tu8hTN8jv-"
      },
      "source": [],
      "execution_count": null,
      "outputs": []
    },
    {
      "cell_type": "markdown",
      "metadata": {
        "id": "ZThLS-KL8rA8"
      },
      "source": [
        "### 3-3. startswith, endswith ~로 시작하는, ~로 끝나는"
      ]
    },
    {
      "cell_type": "code",
      "metadata": {
        "id": "v1IjDRTA8wOW"
      },
      "source": [
        "a = '01-sample.png'\n",
        "b = '02-sample.jpg'\n",
        "c = '03-sample.pdf'"
      ],
      "execution_count": null,
      "outputs": []
    },
    {
      "cell_type": "code",
      "metadata": {
        "id": "8pNYKEFi85Ie",
        "outputId": "1f8452a2-9335-4371-c3dd-3c40862dbf02",
        "colab": {
          "base_uri": "https://localhost:8080/",
          "height": 34
        }
      },
      "source": [
        "# a 문자열이 01로 시작되는가?\n",
        "a.startswith('01')"
      ],
      "execution_count": null,
      "outputs": [
        {
          "output_type": "execute_result",
          "data": {
            "text/plain": [
              "True"
            ]
          },
          "metadata": {
            "tags": []
          },
          "execution_count": 28
        }
      ]
    },
    {
      "cell_type": "code",
      "metadata": {
        "id": "VCpn1plG892e",
        "outputId": "8da54f91-475f-4495-ccf2-59417af2127f",
        "colab": {
          "base_uri": "https://localhost:8080/",
          "height": 34
        }
      },
      "source": [
        "a.endswith('.jpg')"
      ],
      "execution_count": null,
      "outputs": [
        {
          "output_type": "execute_result",
          "data": {
            "text/plain": [
              "False"
            ]
          },
          "metadata": {
            "tags": []
          },
          "execution_count": 29
        }
      ]
    },
    {
      "cell_type": "code",
      "metadata": {
        "id": "1F4JLtPY9BZl",
        "outputId": "da618733-ae0f-4ab6-939a-4e74fef9d1c9",
        "colab": {
          "base_uri": "https://localhost:8080/",
          "height": 34
        }
      },
      "source": [
        "b.endswith('.jpg')"
      ],
      "execution_count": null,
      "outputs": [
        {
          "output_type": "execute_result",
          "data": {
            "text/plain": [
              "True"
            ]
          },
          "metadata": {
            "tags": []
          },
          "execution_count": 30
        }
      ]
    },
    {
      "cell_type": "code",
      "metadata": {
        "id": "zKqmZ_di9EWm"
      },
      "source": [
        "mylist = [a, b]"
      ],
      "execution_count": null,
      "outputs": []
    },
    {
      "cell_type": "code",
      "metadata": {
        "id": "je9TtSJm9Gxj",
        "outputId": "54663bf8-c612-4dbf-9633-7a812e38af19",
        "colab": {
          "base_uri": "https://localhost:8080/",
          "height": 34
        }
      },
      "source": [
        "for file in mylist:\n",
        "    if file.endswith('jpg'):\n",
        "        print(file)"
      ],
      "execution_count": null,
      "outputs": [
        {
          "output_type": "stream",
          "text": [
            "02-sample.jpg\n"
          ],
          "name": "stdout"
        }
      ]
    },
    {
      "cell_type": "code",
      "metadata": {
        "id": "6ej-fQV69TF0"
      },
      "source": [],
      "execution_count": null,
      "outputs": []
    },
    {
      "cell_type": "markdown",
      "metadata": {
        "id": "BlmsgCrK9VVk"
      },
      "source": [
        "### 3-4. replace (바꾸기)"
      ]
    },
    {
      "cell_type": "code",
      "metadata": {
        "id": "ANj2HqcK9Vb8"
      },
      "source": [
        "a = '01-sample.png'"
      ],
      "execution_count": null,
      "outputs": []
    },
    {
      "cell_type": "code",
      "metadata": {
        "id": "EEjlaLiV9end",
        "outputId": "90038bfe-e204-4690-cd37-021eaedc0988",
        "colab": {
          "base_uri": "https://localhost:8080/",
          "height": 34
        }
      },
      "source": [
        "a.replace('.png', '.jpg')"
      ],
      "execution_count": null,
      "outputs": [
        {
          "output_type": "execute_result",
          "data": {
            "text/plain": [
              "'01-sample.jpg'"
            ]
          },
          "metadata": {
            "tags": []
          },
          "execution_count": 35
        }
      ]
    },
    {
      "cell_type": "code",
      "metadata": {
        "id": "GWeRrKH59h6M",
        "outputId": "36bff7ca-50b0-43cc-83b9-9ef08c2e41b3",
        "colab": {
          "base_uri": "https://localhost:8080/",
          "height": 34
        }
      },
      "source": [
        "a"
      ],
      "execution_count": null,
      "outputs": [
        {
          "output_type": "execute_result",
          "data": {
            "text/plain": [
              "'01-sample.png'"
            ]
          },
          "metadata": {
            "tags": []
          },
          "execution_count": 36
        }
      ]
    },
    {
      "cell_type": "code",
      "metadata": {
        "id": "ecF_C16h9jYs"
      },
      "source": [
        "new_a = a.replace('.png', '.jpg')"
      ],
      "execution_count": null,
      "outputs": []
    },
    {
      "cell_type": "code",
      "metadata": {
        "id": "A3tvDKm39nW0",
        "outputId": "94829ba2-1ed3-419c-885b-e010d5ad618c",
        "colab": {
          "base_uri": "https://localhost:8080/",
          "height": 34
        }
      },
      "source": [
        "new_a"
      ],
      "execution_count": null,
      "outputs": [
        {
          "output_type": "execute_result",
          "data": {
            "text/plain": [
              "'01-sample.jpg'"
            ]
          },
          "metadata": {
            "tags": []
          },
          "execution_count": 40
        }
      ]
    },
    {
      "cell_type": "code",
      "metadata": {
        "id": "y4A2Yvoo9n8c"
      },
      "source": [],
      "execution_count": null,
      "outputs": []
    },
    {
      "cell_type": "code",
      "metadata": {
        "id": "9kLRbwl597PL"
      },
      "source": [],
      "execution_count": null,
      "outputs": []
    },
    {
      "cell_type": "markdown",
      "metadata": {
        "id": "f2XosBBa97Uk"
      },
      "source": [
        "### 3-5. 불필요한 공백 제거하기"
      ]
    },
    {
      "cell_type": "code",
      "metadata": {
        "id": "KsUFyKpj9-eL"
      },
      "source": [
        "a = '    01-sample.png                '\n",
        "b = '01-sample.png'"
      ],
      "execution_count": null,
      "outputs": []
    },
    {
      "cell_type": "code",
      "metadata": {
        "id": "5fiGWrpC-CH0",
        "outputId": "7619f0df-8205-49ef-b8e7-2a5f137b023f",
        "colab": {
          "base_uri": "https://localhost:8080/",
          "height": 34
        }
      },
      "source": [
        "a == b"
      ],
      "execution_count": null,
      "outputs": [
        {
          "output_type": "execute_result",
          "data": {
            "text/plain": [
              "False"
            ]
          },
          "metadata": {
            "tags": []
          },
          "execution_count": 42
        }
      ]
    },
    {
      "cell_type": "markdown",
      "metadata": {
        "id": "x2BIXr3a-IbK"
      },
      "source": [
        "strip은 양 끝 불필요한 공백을 제거해 줍니다."
      ]
    },
    {
      "cell_type": "code",
      "metadata": {
        "id": "YiShmptM-G_b",
        "outputId": "eb7f19fc-c875-48f8-958b-a5a26ab3cb84",
        "colab": {
          "base_uri": "https://localhost:8080/",
          "height": 34
        }
      },
      "source": [
        "a.strip()"
      ],
      "execution_count": null,
      "outputs": [
        {
          "output_type": "execute_result",
          "data": {
            "text/plain": [
              "'01-sample.png'"
            ]
          },
          "metadata": {
            "tags": []
          },
          "execution_count": 43
        }
      ]
    },
    {
      "cell_type": "code",
      "metadata": {
        "id": "DgQU8rDY-C3T",
        "outputId": "594bc006-c8a2-4a26-c01c-d9c63ec4c4b7",
        "colab": {
          "base_uri": "https://localhost:8080/",
          "height": 34
        }
      },
      "source": [
        "a.strip() == b"
      ],
      "execution_count": null,
      "outputs": [
        {
          "output_type": "execute_result",
          "data": {
            "text/plain": [
              "True"
            ]
          },
          "metadata": {
            "tags": []
          },
          "execution_count": 44
        }
      ]
    },
    {
      "cell_type": "code",
      "metadata": {
        "id": "QCAjZJkD-Erk"
      },
      "source": [],
      "execution_count": null,
      "outputs": []
    }
  ]
}