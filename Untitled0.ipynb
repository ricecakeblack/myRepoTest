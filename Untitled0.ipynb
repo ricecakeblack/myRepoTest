{
  "nbformat": 4,
  "nbformat_minor": 0,
  "metadata": {
    "colab": {
      "private_outputs": true,
      "provenance": [],
      "authorship_tag": "ABX9TyPRzxCazobf+Jnz6OZsh6u1",
      "include_colab_link": true
    },
    "kernelspec": {
      "name": "python3",
      "display_name": "Python 3"
    },
    "language_info": {
      "name": "python"
    }
  },
  "cells": [
    {
      "cell_type": "markdown",
      "metadata": {
        "id": "view-in-github",
        "colab_type": "text"
      },
      "source": [
        "<a href=\"https://colab.research.google.com/github/ricecakeblack/myRepoTest/blob/main/Untitled0.ipynb\" target=\"_parent\"><img src=\"https://colab.research.google.com/assets/colab-badge.svg\" alt=\"Open In Colab\"/></a>"
      ]
    },
    {
      "cell_type": "code",
      "execution_count": null,
      "metadata": {
        "id": "TNpc3ZQ96o_R"
      },
      "outputs": [],
      "source": [
        "from google.colab import drive\n",
        "drive.mount('/content/drive')"
      ]
    },
    {
      "cell_type": "code",
      "source": [
        "!sudo apt-get install -y fonts-nanum\n",
        "!sudo fc-cache -fv\n",
        "!rm ~/.cache/matplotlib -rf"
      ],
      "metadata": {
        "id": "fd9aWOt27HaZ"
      },
      "execution_count": null,
      "outputs": []
    },
    {
      "cell_type": "markdown",
      "source": [
        "1.5호선만 데이터를 선택하기\n",
        "2. 5호선중에 승차+하차 인우너수 TOP5역을 순서대로 가져오기(컬럼추가) apply, lanmda 시리즈 함수 / sort_values(정렬)\n",
        "3. matplotlib이나 seaborn으로 bar graph 그리기\n",
        "4. 전체 역중에 Top5를 순서대로 가져와서 시각화\n",
        "5, 승차 인원이 TOP5\n",
        "6. 하차 인원이 TOP5"
      ],
      "metadata": {
        "id": "o9SJL18Z6pbt"
      }
    },
    {
      "cell_type": "code",
      "source": [
        "import matplotlib.pyplot as plt\n",
        "\n",
        "plt.rc('font', family='NanumBarunGothic')"
      ],
      "metadata": {
        "id": "FnP-u0xl7Q4g"
      },
      "execution_count": null,
      "outputs": []
    },
    {
      "cell_type": "code",
      "source": [
        "subPath = '/content/drive/MyDrive/구글클라우드/수업(코드)/Pandas/ds/CARD_SUBWAY_MONTH_202309.csv'"
      ],
      "metadata": {
        "id": "9nzp9grH7RLq"
      },
      "execution_count": null,
      "outputs": []
    },
    {
      "cell_type": "code",
      "source": [
        "import pandas as pd\n",
        "import numpy as np\n",
        "import os"
      ],
      "metadata": {
        "id": "EmU4L_P67gSA"
      },
      "execution_count": null,
      "outputs": []
    },
    {
      "cell_type": "code",
      "source": [
        "sub_df = pd.read_csv(subPath, index_col = False)\n"
      ],
      "metadata": {
        "id": "XDuPDqEB7iEJ"
      },
      "execution_count": null,
      "outputs": []
    },
    {
      "cell_type": "code",
      "source": [
        "sub_df.head()"
      ],
      "metadata": {
        "id": "R-38SLtK7r04"
      },
      "execution_count": null,
      "outputs": []
    },
    {
      "cell_type": "code",
      "source": [
        "sub_df.info()"
      ],
      "metadata": {
        "id": "SBw6_JP_7t7w"
      },
      "execution_count": null,
      "outputs": []
    },
    {
      "cell_type": "code",
      "source": [],
      "metadata": {
        "id": "D2l1lRhG-F4P"
      },
      "execution_count": null,
      "outputs": []
    },
    {
      "cell_type": "code",
      "source": [
        "sub_df.head()"
      ],
      "metadata": {
        "id": "0s1a7XSs-W0f"
      },
      "execution_count": null,
      "outputs": []
    },
    {
      "cell_type": "code",
      "source": [
        "lineFive = sub_df[(sub_df['노선명'] == '5호선')]"
      ],
      "metadata": {
        "id": "h0gpWSMB-Yrn"
      },
      "execution_count": null,
      "outputs": []
    },
    {
      "cell_type": "code",
      "source": [
        "lineFive.head()"
      ],
      "metadata": {
        "id": "V0LzpFOKBbpl"
      },
      "execution_count": null,
      "outputs": []
    },
    {
      "cell_type": "code",
      "source": [
        "lineFive.info()"
      ],
      "metadata": {
        "id": "3kUtsydEBspm"
      },
      "execution_count": null,
      "outputs": []
    },
    {
      "cell_type": "code",
      "source": [
        "type(lineFive)"
      ],
      "metadata": {
        "id": "qPoMgu2JIUNB"
      },
      "execution_count": null,
      "outputs": []
    },
    {
      "cell_type": "code",
      "source": [
        "# 5호선중에 승차+하차 인원 TOP5역을 순서대로 가져오기(컬럼추가) apply, lanmda 시리즈 함수 / sort_values(정렬)\n",
        "lineFive['승하차총합'] = \\\n",
        "lineFive[['승차총승객수','하차총승객수']].apply(lamda series : series.sum(), axis=1)"
      ],
      "metadata": {
        "id": "DEfb2pfPByAE"
      },
      "execution_count": null,
      "outputs": []
    },
    {
      "cell_type": "code",
      "source": [],
      "metadata": {
        "id": "NU9JaVFzGLhD"
      },
      "execution_count": null,
      "outputs": []
    }
  ]
}