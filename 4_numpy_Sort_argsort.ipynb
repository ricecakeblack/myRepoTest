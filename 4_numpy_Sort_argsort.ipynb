{
  "nbformat": 4,
  "nbformat_minor": 0,
  "metadata": {
    "colab": {
      "provenance": [],
      "include_colab_link": true
    },
    "kernelspec": {
      "name": "python3",
      "display_name": "Python 3"
    }
  },
  "cells": [
    {
      "cell_type": "markdown",
      "metadata": {
        "id": "view-in-github",
        "colab_type": "text"
      },
      "source": [
        "<a href=\"https://colab.research.google.com/github/ricecakeblack/myRepoTest/blob/main/4_numpy_Sort_argsort.ipynb\" target=\"_parent\"><img src=\"https://colab.research.google.com/assets/colab-badge.svg\" alt=\"Open In Colab\"/></a>"
      ]
    },
    {
      "cell_type": "code",
      "metadata": {
        "id": "MHrD2Y3QJq7l"
      },
      "source": [
        "import numpy as np"
      ],
      "execution_count": null,
      "outputs": []
    },
    {
      "cell_type": "markdown",
      "metadata": {
        "id": "VGNy7j4vAWGC"
      },
      "source": [
        "## 1. 1차원 정렬"
      ]
    },
    {
      "cell_type": "markdown",
      "metadata": {
        "id": "-9nSxjZEJ4WH"
      },
      "source": [
        "1차원 정렬은 매우 간단합니다."
      ]
    },
    {
      "cell_type": "code",
      "metadata": {
        "id": "N8srXe3kJ1CI"
      },
      "source": [
        "import numpy as np\n",
        "arr = np.array([1, 10, 5, 8, 2, 4, 3, 6, 8, 7, 9])"
      ],
      "execution_count": null,
      "outputs": []
    },
    {
      "cell_type": "code",
      "metadata": {
        "id": "qjKfuAWwKHuv",
        "colab": {
          "base_uri": "https://localhost:8080/"
        },
        "outputId": "bdc1709a-a1c5-46d1-9379-512349236775"
      },
      "source": [
        "arr"
      ],
      "execution_count": null,
      "outputs": [
        {
          "output_type": "execute_result",
          "data": {
            "text/plain": [
              "array([ 1, 10,  5,  8,  2,  4,  3,  6,  8,  7,  9])"
            ]
          },
          "metadata": {},
          "execution_count": 5
        }
      ]
    },
    {
      "cell_type": "markdown",
      "metadata": {
        "id": "qJgxXiw6KJoo"
      },
      "source": [
        "np.sort(arr)"
      ]
    },
    {
      "cell_type": "code",
      "metadata": {
        "id": "7KvWPPaPKLep",
        "colab": {
          "base_uri": "https://localhost:8080/"
        },
        "outputId": "ec0e8b38-6521-4a33-b8b4-53f2b1e7c615"
      },
      "source": [
        "# 오름차순 정렬 #< ndarray가 아닌걸 ndarray 가능하게 해줌\n",
        "np.sort(arr)"
      ],
      "execution_count": null,
      "outputs": [
        {
          "output_type": "execute_result",
          "data": {
            "text/plain": [
              "array([ 1,  2,  3,  4,  5,  6,  7,  8,  8,  9, 10])"
            ]
          },
          "metadata": {},
          "execution_count": 6
        }
      ]
    },
    {
      "cell_type": "markdown",
      "metadata": {
        "id": "pvJTDEsTKORq"
      },
      "source": [
        "기본적으로 오름차순 정렬을 수행합니다."
      ]
    },
    {
      "cell_type": "code",
      "metadata": {
        "id": "rAO6KvBXKMMw",
        "colab": {
          "base_uri": "https://localhost:8080/"
        },
        "outputId": "02d84585-b0df-452b-b275-e974dc1171bc"
      },
      "source": [
        "# 내림차순 정렬 -> [::-1]\n",
        "np.sort(arr)[::-1]"
      ],
      "execution_count": null,
      "outputs": [
        {
          "output_type": "execute_result",
          "data": {
            "text/plain": [
              "array([10,  9,  8,  8,  7,  6,  5,  4,  3,  2,  1])"
            ]
          },
          "metadata": {
            "tags": []
          },
          "execution_count": 8
        }
      ]
    },
    {
      "cell_type": "markdown",
      "metadata": {
        "id": "OsuNJIbtKNLw"
      },
      "source": [
        "내림차순 정렬은 옵션에 -1 값을 주면됩니다."
      ]
    },
    {
      "cell_type": "markdown",
      "metadata": {
        "id": "pua2SnjpKWln"
      },
      "source": [
        "하지만, 이 값들은 **유지가 되지 않습니다**!"
      ]
    },
    {
      "cell_type": "markdown",
      "metadata": {
        "id": "mWfIMYU4K24Q"
      },
      "source": [
        "값을 sort 된 상태로 저장하려면, 배열 자체에 sort를 해줄 수 있습니다."
      ]
    },
    {
      "cell_type": "code",
      "metadata": {
        "id": "eiDxXfm9qwqs",
        "colab": {
          "base_uri": "https://localhost:8080/"
        },
        "outputId": "55edaa16-fd2e-43de-f1bd-121c94bbdc82"
      },
      "source": [
        "np.sort(arr)"
      ],
      "execution_count": null,
      "outputs": [
        {
          "output_type": "execute_result",
          "data": {
            "text/plain": [
              "array([ 1,  2,  3,  4,  5,  6,  7,  8,  8,  9, 10])"
            ]
          },
          "metadata": {
            "tags": []
          },
          "execution_count": 9
        }
      ]
    },
    {
      "cell_type": "code",
      "metadata": {
        "id": "jMN43SI_qyXN"
      },
      "source": [
        "arr2 = np.sort(arr)"
      ],
      "execution_count": null,
      "outputs": []
    },
    {
      "cell_type": "code",
      "metadata": {
        "id": "00DnLZIxq7eA",
        "colab": {
          "base_uri": "https://localhost:8080/"
        },
        "outputId": "472ab103-3db0-4ea3-d4eb-bce06862e4e0"
      },
      "source": [
        "arr"
      ],
      "execution_count": null,
      "outputs": [
        {
          "output_type": "execute_result",
          "data": {
            "text/plain": [
              "array([ 1, 10,  5,  8,  2,  4,  3,  6,  8,  7,  9])"
            ]
          },
          "metadata": {
            "tags": []
          },
          "execution_count": 11
        }
      ]
    },
    {
      "cell_type": "code",
      "metadata": {
        "id": "YNG3GMwxq5sn",
        "colab": {
          "base_uri": "https://localhost:8080/"
        },
        "outputId": "4bdf8355-12bf-4414-e363-0fc0d17c44ab"
      },
      "source": [
        "arr2"
      ],
      "execution_count": null,
      "outputs": [
        {
          "output_type": "execute_result",
          "data": {
            "text/plain": [
              "array([ 1,  2,  3,  4,  5,  6,  7,  8,  8,  9, 10])"
            ]
          },
          "metadata": {
            "tags": []
          },
          "execution_count": 12
        }
      ]
    },
    {
      "cell_type": "code",
      "metadata": {
        "id": "9K9cV72ZK-Ko"
      },
      "source": [
        "arr.sort()"
      ],
      "execution_count": null,
      "outputs": []
    },
    {
      "cell_type": "code",
      "metadata": {
        "id": "6uMEnTSnK_Mw",
        "colab": {
          "base_uri": "https://localhost:8080/"
        },
        "outputId": "1a3f522c-bce0-4419-c96d-708fdaa0065d"
      },
      "source": [
        "arr"
      ],
      "execution_count": null,
      "outputs": [
        {
          "output_type": "execute_result",
          "data": {
            "text/plain": [
              "array([ 1,  2,  3,  4,  5,  6,  7,  8,  8,  9, 10])"
            ]
          },
          "metadata": {
            "tags": []
          },
          "execution_count": 14
        }
      ]
    },
    {
      "cell_type": "code",
      "metadata": {
        "id": "v6kMjKTRK_-o"
      },
      "source": [],
      "execution_count": null,
      "outputs": []
    },
    {
      "cell_type": "markdown",
      "metadata": {
        "id": "baXVQJQxLCww"
      },
      "source": [
        "## 2. N차원 정렬"
      ]
    },
    {
      "cell_type": "code",
      "metadata": {
        "id": "Z065jsH2LGlg"
      },
      "source": [
        "arr2d = np.array([[5, 6, 7, 8],\n",
        "                  [4, 3, 2, 1],\n",
        "                  [10, 9, 12, 11]])"
      ],
      "execution_count": null,
      "outputs": []
    },
    {
      "cell_type": "code",
      "metadata": {
        "id": "U9ch4G44rieM",
        "colab": {
          "base_uri": "https://localhost:8080/"
        },
        "outputId": "e8ecda53-2d9a-4a34-b7da-f98fb5e4211e"
      },
      "source": [
        "arr2d.shape"
      ],
      "execution_count": null,
      "outputs": [
        {
          "output_type": "execute_result",
          "data": {
            "text/plain": [
              "(3, 4)"
            ]
          },
          "metadata": {
            "tags": []
          },
          "execution_count": 16
        }
      ]
    },
    {
      "cell_type": "code",
      "metadata": {
        "id": "-05V5VoCLTCd",
        "colab": {
          "base_uri": "https://localhost:8080/"
        },
        "outputId": "99c79799-e018-485b-9b18-109f7054bcbe"
      },
      "source": [
        "arr2d"
      ],
      "execution_count": null,
      "outputs": [
        {
          "output_type": "execute_result",
          "data": {
            "text/plain": [
              "array([[ 5,  6,  7,  8],\n",
              "       [ 4,  3,  2,  1],\n",
              "       [10,  9, 12, 11]])"
            ]
          },
          "metadata": {
            "tags": []
          },
          "execution_count": 17
        }
      ]
    },
    {
      "cell_type": "markdown",
      "metadata": {
        "id": "oHGGgf9cLxxQ"
      },
      "source": [
        "### 2-1. 열 정렬 (왼쪽에서 오른쪽으로)"
      ]
    },
    {
      "cell_type": "code",
      "metadata": {
        "id": "qQqbg2nyL8Cw",
        "colab": {
          "base_uri": "https://localhost:8080/"
        },
        "outputId": "5be70d68-bf1e-4445-fd0c-776f4db0b943"
      },
      "source": [
        "arr2d"
      ],
      "execution_count": null,
      "outputs": [
        {
          "output_type": "execute_result",
          "data": {
            "text/plain": [
              "array([[ 5,  6,  7,  8],\n",
              "       [ 4,  3,  2,  1],\n",
              "       [10,  9, 12, 11]])"
            ]
          },
          "metadata": {
            "tags": []
          },
          "execution_count": 18
        }
      ]
    },
    {
      "cell_type": "code",
      "metadata": {
        "id": "tw5Wrw_ZLVkf",
        "colab": {
          "base_uri": "https://localhost:8080/"
        },
        "outputId": "f2e9df5f-9c24-471d-c0f5-9d05555f026d"
      },
      "source": [
        "import numpy as np\n",
        "# 가로방향 같은 행 데이터 안에서 정렬\n",
        "np.sort(arr2d, axis=1)"
      ],
      "execution_count": null,
      "outputs": [
        {
          "output_type": "execute_result",
          "data": {
            "text/plain": [
              "array([[ 5,  6,  7,  8],\n",
              "       [ 1,  2,  3,  4],\n",
              "       [ 9, 10, 11, 12]])"
            ]
          },
          "metadata": {},
          "execution_count": 5
        }
      ]
    },
    {
      "cell_type": "markdown",
      "metadata": {
        "id": "5gKzuuOJLr-P"
      },
      "source": [
        "### 2-2. 행 정렬 (위에서 아래로)"
      ]
    },
    {
      "cell_type": "code",
      "metadata": {
        "id": "tuZHbojFL5az",
        "colab": {
          "base_uri": "https://localhost:8080/"
        },
        "outputId": "d2dd547b-82a2-42c9-c361-8bc557d8c4ae"
      },
      "source": [
        "arr2d"
      ],
      "execution_count": null,
      "outputs": [
        {
          "output_type": "execute_result",
          "data": {
            "text/plain": [
              "array([[ 5,  6,  7,  8],\n",
              "       [ 4,  3,  2,  1],\n",
              "       [10,  9, 12, 11]])"
            ]
          },
          "metadata": {
            "tags": []
          },
          "execution_count": 22
        }
      ]
    },
    {
      "cell_type": "code",
      "metadata": {
        "id": "50fUgOYtLYbg",
        "colab": {
          "base_uri": "https://localhost:8080/"
        },
        "outputId": "0534291e-9c9a-4dfb-d9ca-4b631cb49daa"
      },
      "source": [
        "# 세로방향 열 데이터간의 정렬\n",
        "np.sort(arr2d, axis=0)"
      ],
      "execution_count": null,
      "outputs": [
        {
          "output_type": "execute_result",
          "data": {
            "text/plain": [
              "array([[ 4,  3,  2,  1],\n",
              "       [ 5,  6,  7,  8],\n",
              "       [10,  9, 12, 11]])"
            ]
          },
          "metadata": {
            "tags": []
          },
          "execution_count": 23
        }
      ]
    },
    {
      "cell_type": "code",
      "metadata": {
        "id": "D-lDUXjYLcOQ"
      },
      "source": [],
      "execution_count": null,
      "outputs": []
    },
    {
      "cell_type": "markdown",
      "metadata": {
        "id": "shL5hUigMKVf"
      },
      "source": [
        "## 3. index를 반환하는 argsort"
      ]
    },
    {
      "cell_type": "markdown",
      "metadata": {
        "id": "jZTm3IVRMOys"
      },
      "source": [
        "정렬된 값을 반환하는 것이 아닌 index를 반환합니다."
      ]
    },
    {
      "cell_type": "code",
      "metadata": {
        "id": "KMIrKnTNMSeP"
      },
      "source": [
        "arr2d = np.array([[5, 6, 7, 8],\n",
        "                  [4, 3, 2, 1],\n",
        "                  [10, 9, 12, 11]])"
      ],
      "execution_count": null,
      "outputs": []
    },
    {
      "cell_type": "markdown",
      "metadata": {
        "id": "OSVeVt9MMYf_"
      },
      "source": [
        "\n",
        "### 3-1. 열 정렬 (왼쪽에서 오른쪽으로)"
      ]
    },
    {
      "cell_type": "code",
      "metadata": {
        "id": "a0iDxGE3MFfF",
        "colab": {
          "base_uri": "https://localhost:8080/"
        },
        "outputId": "4ebc88e5-6357-46df-8b82-bef3c3d9958b"
      },
      "source": [
        "# sort를 해야할 index의 순서를 리턴한다.\n",
        "np.argsort(arr2d, axis=1)"
      ],
      "execution_count": null,
      "outputs": [
        {
          "output_type": "execute_result",
          "data": {
            "text/plain": [
              "array([[0, 1, 2, 3],\n",
              "       [3, 2, 1, 0],\n",
              "       [1, 0, 3, 2]])"
            ]
          },
          "metadata": {
            "tags": []
          },
          "execution_count": 25
        }
      ]
    },
    {
      "cell_type": "markdown",
      "metadata": {
        "id": "ae1f3EujMH-X"
      },
      "source": [
        "### 3-2. 행 정렬"
      ]
    },
    {
      "cell_type": "code",
      "metadata": {
        "id": "usl8PioHMp4A",
        "colab": {
          "base_uri": "https://localhost:8080/"
        },
        "outputId": "4e119ee2-018a-4674-8dc8-422429b30ed9"
      },
      "source": [
        "arr2d"
      ],
      "execution_count": null,
      "outputs": [
        {
          "output_type": "execute_result",
          "data": {
            "text/plain": [
              "array([[ 5,  6,  7,  8],\n",
              "       [ 4,  3,  2,  1],\n",
              "       [10,  9, 12, 11]])"
            ]
          },
          "metadata": {
            "tags": []
          },
          "execution_count": 26
        }
      ]
    },
    {
      "cell_type": "code",
      "metadata": {
        "id": "stPz_OloMsV3",
        "colab": {
          "base_uri": "https://localhost:8080/"
        },
        "outputId": "a79b3e27-297f-45de-a310-58adbd1e510a"
      },
      "source": [
        "np.sort(arr2d, axis=0)"
      ],
      "execution_count": null,
      "outputs": [
        {
          "output_type": "execute_result",
          "data": {
            "text/plain": [
              "array([[ 4,  3,  2,  1],\n",
              "       [ 5,  6,  7,  8],\n",
              "       [10,  9, 12, 11]])"
            ]
          },
          "metadata": {
            "tags": []
          },
          "execution_count": 27
        }
      ]
    },
    {
      "cell_type": "code",
      "metadata": {
        "id": "PzfQlskGMkxG",
        "colab": {
          "base_uri": "https://localhost:8080/"
        },
        "outputId": "b9771803-b6e5-4e0e-ce6e-bcaa9ac8ce37"
      },
      "source": [
        "np.argsort(arr2d, axis=0)"
      ],
      "execution_count": null,
      "outputs": [
        {
          "output_type": "execute_result",
          "data": {
            "text/plain": [
              "array([[1, 1, 1, 1],\n",
              "       [0, 0, 0, 0],\n",
              "       [2, 2, 2, 2]])"
            ]
          },
          "metadata": {
            "tags": []
          },
          "execution_count": 28
        }
      ]
    },
    {
      "cell_type": "code",
      "metadata": {
        "id": "FkR8MHeGMoHo"
      },
      "source": [],
      "execution_count": null,
      "outputs": []
    }
  ]
}