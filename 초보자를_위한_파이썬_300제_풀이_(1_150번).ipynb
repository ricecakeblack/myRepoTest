{
  "nbformat": 4,
  "nbformat_minor": 0,
  "metadata": {
    "colab": {
      "name": "초보자를 위한 파이썬 300제 풀이 (1-150번).ipynb",
      "provenance": [],
      "include_colab_link": true
    },
    "kernelspec": {
      "name": "python3",
      "display_name": "Python 3"
    }
  },
  "cells": [
    {
      "cell_type": "markdown",
      "metadata": {
        "id": "view-in-github",
        "colab_type": "text"
      },
      "source": [
        "<a href=\"https://colab.research.google.com/github/ricecakeblack/myRepoTest/blob/main/%EC%B4%88%EB%B3%B4%EC%9E%90%EB%A5%BC_%EC%9C%84%ED%95%9C_%ED%8C%8C%EC%9D%B4%EC%8D%AC_300%EC%A0%9C_%ED%92%80%EC%9D%B4_(1_150%EB%B2%88).ipynb\" target=\"_parent\"><img src=\"https://colab.research.google.com/assets/colab-badge.svg\" alt=\"Open In Colab\"/></a>"
      ]
    },
    {
      "cell_type": "markdown",
      "metadata": {
        "id": "S9fr4nHpu2Ox"
      },
      "source": [
        "##초보자를 위한 파이썬 300제 정답 및 여러가지 풀이\n",
        "컨트롤/커맨드 + F 를 이용하여 다음의 범위(10 단위)를 검색하여 정답을 확인하세요. 검색 예: 1~10\n",
        "\n",
        "#1~10"
      ]
    },
    {
      "cell_type": "code",
      "metadata": {
        "colab": {
          "base_uri": "https://localhost:8080/"
        },
        "id": "2fShJziz-C5s",
        "outputId": "f582ad79-60e1-471f-f2e5-5e26d182787a"
      },
      "source": [
        "print(\"Hello World\")"
      ],
      "execution_count": null,
      "outputs": [
        {
          "output_type": "stream",
          "text": [
            "Hello World\n"
          ],
          "name": "stdout"
        }
      ]
    },
    {
      "cell_type": "code",
      "metadata": {
        "colab": {
          "base_uri": "https://localhost:8080/"
        },
        "id": "Mvp5OqT5-qUr",
        "outputId": "4d27c26b-8f3c-43b6-9baa-d44d7eba81e2"
      },
      "source": [
        "print(\"Mary's cosmetics\")"
      ],
      "execution_count": null,
      "outputs": [
        {
          "output_type": "stream",
          "text": [
            "Mary's cosmetics\n"
          ],
          "name": "stdout"
        }
      ]
    },
    {
      "cell_type": "code",
      "metadata": {
        "colab": {
          "base_uri": "https://localhost:8080/"
        },
        "id": "IuJlwPVC_DsP",
        "outputId": "7c1b8c8f-66b8-4692-d7c0-0f88a03eb225"
      },
      "source": [
        "print('신씨가 소리질렀다. \"도둑이야\".')"
      ],
      "execution_count": null,
      "outputs": [
        {
          "output_type": "stream",
          "text": [
            "신씨가 소리질렀다. \"도둑이야\".\n"
          ],
          "name": "stdout"
        }
      ]
    },
    {
      "cell_type": "code",
      "metadata": {
        "colab": {
          "base_uri": "https://localhost:8080/"
        },
        "id": "zd-c0ZSlAe4k",
        "outputId": "a7d4e092-17f4-46f3-9149-a28f9f462465"
      },
      "source": [
        "print('C:\\Windows')"
      ],
      "execution_count": null,
      "outputs": [
        {
          "output_type": "stream",
          "text": [
            "C:\\Windows\n"
          ],
          "name": "stdout"
        }
      ]
    },
    {
      "cell_type": "code",
      "metadata": {
        "colab": {
          "base_uri": "https://localhost:8080/"
        },
        "id": "jPYewHSk_N6D",
        "outputId": "73736878-f541-4be9-ad15-61a1527c28bf"
      },
      "source": [
        "print(\"안녕하세요. \\n만나서\\t\\t반갑습니다.\")\n",
        "#\\t는 탭을 의미하고 \\n'은 줄바꿈을 의미합니다."
      ],
      "execution_count": null,
      "outputs": [
        {
          "output_type": "stream",
          "text": [
            "안녕하세요. \n",
            "만나서\t\t반갑습니다.\n"
          ],
          "name": "stdout"
        }
      ]
    },
    {
      "cell_type": "code",
      "metadata": {
        "colab": {
          "base_uri": "https://localhost:8080/"
        },
        "id": "_obxQKsx_eF9",
        "outputId": "416a3f3d-9d27-4bc2-cc09-cee1fb9bdb3c"
      },
      "source": [
        "print(\"오늘은\", \"일요일\")"
      ],
      "execution_count": null,
      "outputs": [
        {
          "output_type": "stream",
          "text": [
            "오늘은 일요일\n"
          ],
          "name": "stdout"
        }
      ]
    },
    {
      "cell_type": "code",
      "metadata": {
        "colab": {
          "base_uri": "https://localhost:8080/"
        },
        "id": "KDUwGdpkBvxK",
        "outputId": "3249afb7-c873-4923-e333-08a54eda19c4"
      },
      "source": [
        "print(\"naver;kakao;sk;samsung\")\n",
        "print(\"naver\", \"kakao\", 'sk', 'samsung', sep=\";\")"
      ],
      "execution_count": null,
      "outputs": [
        {
          "output_type": "stream",
          "text": [
            "naver;kakao;sk;samsung\n",
            "naver;kakao;sk;samsung\n"
          ],
          "name": "stdout"
        }
      ]
    },
    {
      "cell_type": "code",
      "metadata": {
        "colab": {
          "base_uri": "https://localhost:8080/"
        },
        "id": "Dur5HXqUB2U7",
        "outputId": "376a7c7e-386d-4dcf-b8f9-cd7eb9c0f948"
      },
      "source": [
        "print(\"naver\", \"kakao\", 'sk', 'samsung', sep=\"/\")"
      ],
      "execution_count": null,
      "outputs": [
        {
          "output_type": "stream",
          "text": [
            "naver/kakao/sk/samsung\n"
          ],
          "name": "stdout"
        }
      ]
    },
    {
      "cell_type": "code",
      "metadata": {
        "colab": {
          "base_uri": "https://localhost:8080/"
        },
        "id": "vFEl5BuxTbvd",
        "outputId": "09b86835-6a43-4700-d168-d6105d125440"
      },
      "source": [
        "print(\"first\", end=' ')\n",
        "print(\"second\")"
      ],
      "execution_count": null,
      "outputs": [
        {
          "output_type": "stream",
          "text": [
            "first second\n"
          ],
          "name": "stdout"
        }
      ]
    },
    {
      "cell_type": "code",
      "metadata": {
        "colab": {
          "base_uri": "https://localhost:8080/"
        },
        "id": "848Ar_OjTr7g",
        "outputId": "6a45c1eb-960e-4ec3-fa39-9882106ade76"
      },
      "source": [
        "print(5/3)"
      ],
      "execution_count": null,
      "outputs": [
        {
          "output_type": "stream",
          "text": [
            "1.6666666666666667\n"
          ],
          "name": "stdout"
        }
      ]
    },
    {
      "cell_type": "markdown",
      "metadata": {
        "id": "b-1nxBSdvr2X"
      },
      "source": [
        "#11~20"
      ]
    },
    {
      "cell_type": "code",
      "metadata": {
        "colab": {
          "base_uri": "https://localhost:8080/"
        },
        "id": "OsE27BBiTxFZ",
        "outputId": "fd0d5cd0-af48-42cc-d749-c86570abf59a"
      },
      "source": [
        "samsung=5000\n",
        "print(samsung*10)"
      ],
      "execution_count": null,
      "outputs": [
        {
          "output_type": "stream",
          "text": [
            "50000\n"
          ],
          "name": "stdout"
        }
      ]
    },
    {
      "cell_type": "code",
      "metadata": {
        "colab": {
          "base_uri": "https://localhost:8080/"
        },
        "id": "rro5zrd8UUyF",
        "outputId": "49f3e730-b334-4d0b-9306-de6492fdeed4"
      },
      "source": [
        "시가총액 = 298000000000000\n",
        "현재가 = 5000\n",
        "PER = 15.79\n",
        "print(시가총액, type(시가총액))\n",
        "print(현재가, type(현재가))\n",
        "print(PER, type(PER))"
      ],
      "execution_count": null,
      "outputs": [
        {
          "output_type": "stream",
          "text": [
            "298000000000000 <class 'int'>\n",
            "5000 <class 'int'>\n",
            "15.79 <class 'float'>\n"
          ],
          "name": "stdout"
        }
      ]
    },
    {
      "cell_type": "code",
      "metadata": {
        "colab": {
          "base_uri": "https://localhost:8080/"
        },
        "id": "eaBEqBlRU-iE",
        "outputId": "83ab6188-3f11-4e13-b285-37cc17178ee8"
      },
      "source": [
        "# s = \"hello\"\n",
        "# t = \"python\"\n",
        "# print(s,\"!\", t)\n",
        "\n",
        "s = \"hello\"\n",
        "t = \"python\"\n",
        "print(s+\"!\", t)"
      ],
      "execution_count": null,
      "outputs": [
        {
          "output_type": "stream",
          "text": [
            "hello! python\n"
          ],
          "name": "stdout"
        }
      ]
    },
    {
      "cell_type": "code",
      "metadata": {
        "colab": {
          "base_uri": "https://localhost:8080/"
        },
        "id": "TIERyWtGV-Cb",
        "outputId": "c1b17b7f-5f02-4b07-9ccd-fcf7815895e7"
      },
      "source": [
        " 2 + 2 * 3"
      ],
      "execution_count": null,
      "outputs": [
        {
          "output_type": "execute_result",
          "data": {
            "text/plain": [
              "8"
            ]
          },
          "metadata": {
            "tags": []
          },
          "execution_count": 32
        }
      ]
    },
    {
      "cell_type": "code",
      "metadata": {
        "colab": {
          "base_uri": "https://localhost:8080/"
        },
        "id": "aOYbHWkhiWCw",
        "outputId": "b255e75b-70b7-4c7b-989f-ecb6597c0875"
      },
      "source": [
        "a = 128\n",
        "print (type(a))"
      ],
      "execution_count": null,
      "outputs": [
        {
          "output_type": "stream",
          "text": [
            "<class 'int'>\n"
          ],
          "name": "stdout"
        }
      ]
    },
    {
      "cell_type": "code",
      "metadata": {
        "colab": {
          "base_uri": "https://localhost:8080/"
        },
        "id": "RebuyKGdZRfm",
        "outputId": "d41e41d8-0ded-4fa1-fa19-1a5d88b6ef8e"
      },
      "source": [
        "a = \"132\"\n",
        "print(type(a))"
      ],
      "execution_count": null,
      "outputs": [
        {
          "output_type": "stream",
          "text": [
            "<class 'str'>\n"
          ],
          "name": "stdout"
        }
      ]
    },
    {
      "cell_type": "code",
      "metadata": {
        "colab": {
          "base_uri": "https://localhost:8080/"
        },
        "id": "kNd2XRUTiQOT",
        "outputId": "556cd136-e4a9-442f-9299-33d271955687"
      },
      "source": [
        "num_str = \"720\"\n",
        "int(num_str)"
      ],
      "execution_count": null,
      "outputs": [
        {
          "output_type": "execute_result",
          "data": {
            "text/plain": [
              "720"
            ]
          },
          "metadata": {
            "tags": []
          },
          "execution_count": 36
        }
      ]
    },
    {
      "cell_type": "code",
      "metadata": {
        "colab": {
          "base_uri": "https://localhost:8080/",
          "height": 37
        },
        "id": "IFuqZrD5l8jv",
        "outputId": "37fcb208-d1f9-4053-8086-7271bcd5d1b7"
      },
      "source": [
        "num=100\n",
        "str(num)"
      ],
      "execution_count": null,
      "outputs": [
        {
          "output_type": "execute_result",
          "data": {
            "application/vnd.google.colaboratory.intrinsic+json": {
              "type": "string"
            },
            "text/plain": [
              "'100'"
            ]
          },
          "metadata": {
            "tags": []
          },
          "execution_count": 38
        }
      ]
    },
    {
      "cell_type": "code",
      "metadata": {
        "colab": {
          "base_uri": "https://localhost:8080/"
        },
        "id": "GwJbs0eymsXp",
        "outputId": "c4918b0b-cb9b-48d2-8f53-dd64f5bbb3ee"
      },
      "source": [
        "float(\"15.79\")"
      ],
      "execution_count": null,
      "outputs": [
        {
          "output_type": "execute_result",
          "data": {
            "text/plain": [
              "15.79"
            ]
          },
          "metadata": {
            "tags": []
          },
          "execution_count": 39
        }
      ]
    },
    {
      "cell_type": "code",
      "metadata": {
        "colab": {
          "base_uri": "https://localhost:8080/"
        },
        "id": "t0woX8x_m4eZ",
        "outputId": "8d00496b-9fe8-4b2a-dbbf-017e0b2e759c"
      },
      "source": [
        "year = \"2020\"\n",
        "year = int(year)\n",
        "print(year-3, year-2, year-1)\n"
      ],
      "execution_count": null,
      "outputs": [
        {
          "output_type": "stream",
          "text": [
            "2017 2018 2019\n"
          ],
          "name": "stdout"
        }
      ]
    },
    {
      "cell_type": "code",
      "metadata": {
        "colab": {
          "base_uri": "https://localhost:8080/"
        },
        "id": "q_2KJS4xnt8X",
        "outputId": "76792d00-e0a4-4e61-8a3d-343859927142"
      },
      "source": [
        "월별_금액 = 48584\n",
        "무이자 = 36\n",
        "총_금액 = 월별_금액 * 무이자\n",
        "print(총_금액)"
      ],
      "execution_count": null,
      "outputs": [
        {
          "output_type": "stream",
          "text": [
            "1749024\n"
          ],
          "name": "stdout"
        }
      ]
    },
    {
      "cell_type": "markdown",
      "metadata": {
        "id": "r21b9IamvxU4"
      },
      "source": [
        "#21~30"
      ]
    },
    {
      "cell_type": "code",
      "metadata": {
        "colab": {
          "base_uri": "https://localhost:8080/"
        },
        "id": "CX7a9-bJ0GFV",
        "outputId": "4310ed3e-2b4b-4984-ee60-9a7a4f00b85d"
      },
      "source": [
        "letters = 'python'\n",
        "print(letters[0], letters[2])"
      ],
      "execution_count": null,
      "outputs": [
        {
          "output_type": "stream",
          "text": [
            "p t\n"
          ],
          "name": "stdout"
        }
      ]
    },
    {
      "cell_type": "code",
      "metadata": {
        "colab": {
          "base_uri": "https://localhost:8080/"
        },
        "id": "h6vcICgy1--Z",
        "outputId": "bfe3bb6f-9df6-41eb-de2b-3e245e4b5ebf"
      },
      "source": [
        "license_plate = \"24가 2210\"\n",
        "print(license_plate[4:])\n",
        "print(license_plate[-4:])"
      ],
      "execution_count": null,
      "outputs": [
        {
          "output_type": "stream",
          "text": [
            "2210\n",
            "2210\n"
          ],
          "name": "stdout"
        }
      ]
    },
    {
      "cell_type": "code",
      "metadata": {
        "colab": {
          "base_uri": "https://localhost:8080/"
        },
        "id": "GN_NTAYw3zd3",
        "outputId": "4019fef5-c183-4322-b91e-5343071e3b66"
      },
      "source": [
        "# string = \"홀짝홀짝홀짝\"\n",
        "# print(string[0], string[2], string[4])\n",
        "\n",
        "string = \"홀짝홀짝홀짝\"\n",
        "print(string[::2])"
      ],
      "execution_count": null,
      "outputs": [
        {
          "output_type": "stream",
          "text": [
            "홀홀홀\n"
          ],
          "name": "stdout"
        }
      ]
    },
    {
      "cell_type": "code",
      "metadata": {
        "colab": {
          "base_uri": "https://localhost:8080/"
        },
        "id": "Gu2lS30e4CrG",
        "outputId": "2f39eb74-ee71-4131-acf8-90817e3204d5"
      },
      "source": [
        "string = \"PYTHON\"\n",
        "print(string[::-1])"
      ],
      "execution_count": null,
      "outputs": [
        {
          "output_type": "stream",
          "text": [
            "NOHTYP\n"
          ],
          "name": "stdout"
        }
      ]
    },
    {
      "cell_type": "code",
      "metadata": {
        "colab": {
          "base_uri": "https://localhost:8080/"
        },
        "id": "8LqWF6bOUTO9",
        "outputId": "dee29a31-a1eb-4439-987a-752fec211d2b"
      },
      "source": [
        "phone_number = \"010-1111-2222\"\n",
        "phone_number1 = phone_number.replace(\"-\", \" \")\n",
        "print(phone_number1)"
      ],
      "execution_count": null,
      "outputs": [
        {
          "output_type": "stream",
          "text": [
            "010 1111 2222\n"
          ],
          "name": "stdout"
        }
      ]
    },
    {
      "cell_type": "code",
      "metadata": {
        "colab": {
          "base_uri": "https://localhost:8080/"
        },
        "id": "a5FFVCNO7Qda",
        "outputId": "676ecbf1-1601-4384-98c1-762e912e2575"
      },
      "source": [
        "phone_number = \"010-1111-2222\"\n",
        "phone_number1 = phone_number.replace(\"-\", \"\")\n",
        "print(phone_number1)"
      ],
      "execution_count": null,
      "outputs": [
        {
          "output_type": "stream",
          "text": [
            "01011112222\n"
          ],
          "name": "stdout"
        }
      ]
    },
    {
      "cell_type": "code",
      "metadata": {
        "colab": {
          "base_uri": "https://localhost:8080/"
        },
        "id": "cOg1OoCSX415",
        "outputId": "cc95419b-3e37-4ee1-863b-4ade06534ec9"
      },
      "source": [
        "# url = \"http://sharebook.kr\"\n",
        "# list_url = list(url)\n",
        "# print(list_url[-2:])\n",
        "\n",
        "url = \"http://sharebook.kr\"\n",
        "print(type(url))\n",
        "url_split = url.split('.')\n",
        "print(url_split[-1])\n",
        "\n",
        "print(url_split)\n",
        "print(url_split[1])"
      ],
      "execution_count": null,
      "outputs": [
        {
          "output_type": "stream",
          "text": [
            "<class 'str'>\n",
            "kr\n",
            "['http://sharebook', 'kr']\n",
            "kr\n"
          ],
          "name": "stdout"
        }
      ]
    },
    {
      "cell_type": "code",
      "metadata": {
        "colab": {
          "base_uri": "https://localhost:8080/"
        },
        "id": "DrJhyW_WYMoO",
        "outputId": "aa3ec547-9824-4f03-c4b7-ac326ffaceeb"
      },
      "source": [
        "lang = 'python'\n",
        "lang[0] = 'P'\n",
        "print(lang)\n",
        "#오류남! 문자열은 수정할 수 없기 떄문"
      ],
      "execution_count": null,
      "outputs": [
        {
          "output_type": "error",
          "ename": "TypeError",
          "evalue": "ignored",
          "traceback": [
            "\u001b[0;31m---------------------------------------------------------------------------\u001b[0m",
            "\u001b[0;31mTypeError\u001b[0m                                 Traceback (most recent call last)",
            "\u001b[0;32m<ipython-input-8-8b06a5196be2>\u001b[0m in \u001b[0;36m<module>\u001b[0;34m()\u001b[0m\n\u001b[1;32m      1\u001b[0m \u001b[0mlang\u001b[0m \u001b[0;34m=\u001b[0m \u001b[0;34m'python'\u001b[0m\u001b[0;34m\u001b[0m\u001b[0;34m\u001b[0m\u001b[0m\n\u001b[0;32m----> 2\u001b[0;31m \u001b[0mlang\u001b[0m\u001b[0;34m[\u001b[0m\u001b[0;36m0\u001b[0m\u001b[0;34m]\u001b[0m \u001b[0;34m=\u001b[0m \u001b[0;34m'P'\u001b[0m\u001b[0;34m\u001b[0m\u001b[0;34m\u001b[0m\u001b[0m\n\u001b[0m\u001b[1;32m      3\u001b[0m \u001b[0mprint\u001b[0m\u001b[0;34m(\u001b[0m\u001b[0mlang\u001b[0m\u001b[0;34m)\u001b[0m\u001b[0;34m\u001b[0m\u001b[0;34m\u001b[0m\u001b[0m\n\u001b[1;32m      4\u001b[0m \u001b[0;31m#오류남! 문자열은 수정할 수 없기 떄문\u001b[0m\u001b[0;34m\u001b[0m\u001b[0;34m\u001b[0m\u001b[0;34m\u001b[0m\u001b[0m\n",
            "\u001b[0;31mTypeError\u001b[0m: 'str' object does not support item assignment"
          ]
        }
      ]
    },
    {
      "cell_type": "code",
      "metadata": {
        "colab": {
          "base_uri": "https://localhost:8080/"
        },
        "id": "VCu2ODo-m96x",
        "outputId": "f763ff7c-6287-4162-a7b6-c5f02b42745c"
      },
      "source": [
        "string = 'abcdfe2a354a32a'\n",
        "string = string.replace('a', 'A')\n",
        "print(string)"
      ],
      "execution_count": null,
      "outputs": [
        {
          "output_type": "stream",
          "text": [
            "Abcdfe2A354A32A\n"
          ],
          "name": "stdout"
        }
      ]
    },
    {
      "cell_type": "code",
      "metadata": {
        "colab": {
          "base_uri": "https://localhost:8080/"
        },
        "id": "JNv4SsEfqbSj",
        "outputId": "ce792120-6feb-45c1-80b8-2d1ee8116396"
      },
      "source": [
        "string = 'abcd'\n",
        "string.replace('b', 'B')\n",
        "print(string)\n",
        "\n",
        "string = 'abcd'\n",
        "string = string.replace('b', 'B')\n",
        "print(string)"
      ],
      "execution_count": null,
      "outputs": [
        {
          "output_type": "stream",
          "text": [
            "abcd\n",
            "aBcd\n"
          ],
          "name": "stdout"
        }
      ]
    },
    {
      "cell_type": "markdown",
      "metadata": {
        "id": "5SxOJApNv7XK"
      },
      "source": [
        "#31~40"
      ]
    },
    {
      "cell_type": "code",
      "metadata": {
        "colab": {
          "base_uri": "https://localhost:8080/"
        },
        "id": "mF_9qTcDqn4Z",
        "outputId": "d8a299f4-8d4d-4ac4-e770-f267636b379b"
      },
      "source": [
        "a = '3'\n",
        "b = '4'\n",
        "print(a + b)\n",
        "\n",
        "print(int(a) + int(b))"
      ],
      "execution_count": null,
      "outputs": [
        {
          "output_type": "stream",
          "text": [
            "34\n",
            "7\n"
          ],
          "name": "stdout"
        }
      ]
    },
    {
      "cell_type": "code",
      "metadata": {
        "colab": {
          "base_uri": "https://localhost:8080/"
        },
        "id": "nfbC13d3q5Bd",
        "outputId": "83a1e5b6-bc4b-4acf-a23f-c1aa178de3ab"
      },
      "source": [
        "print(\"Hi\" * 3)\n"
      ],
      "execution_count": null,
      "outputs": [
        {
          "output_type": "stream",
          "text": [
            "HiHiHi\n"
          ],
          "name": "stdout"
        }
      ]
    },
    {
      "cell_type": "code",
      "metadata": {
        "colab": {
          "base_uri": "https://localhost:8080/"
        },
        "id": "QtJd7-uKrf4e",
        "outputId": "4b411a02-2d0b-4ee6-d63d-4c5fbd50546b"
      },
      "source": [
        "print(\"-\"*80)"
      ],
      "execution_count": null,
      "outputs": [
        {
          "output_type": "stream",
          "text": [
            "--------------------------------------------------------------------------------\n"
          ],
          "name": "stdout"
        }
      ]
    },
    {
      "cell_type": "code",
      "metadata": {
        "colab": {
          "base_uri": "https://localhost:8080/"
        },
        "id": "2A4gMBKTrkhY",
        "outputId": "6bd1c153-882c-4308-9f27-98ddebbb6e59"
      },
      "source": [
        "t1 = 'python'\n",
        "t2 = 'java'\n",
        "for i in range(3):\n",
        "  print(t1, t2, end=' ')\n",
        "\n",
        "\n",
        "t1 = 'python'\n",
        "t2 = 'java'\n",
        "t3 = t1 + ' ' + t2 + ' '\n",
        "print(t3 * 4)"
      ],
      "execution_count": null,
      "outputs": [
        {
          "output_type": "stream",
          "text": [
            "python java python java python java python java python java python java python java \n"
          ],
          "name": "stdout"
        }
      ]
    },
    {
      "cell_type": "code",
      "metadata": {
        "id": "Ol_FrGZqryD_",
        "colab": {
          "base_uri": "https://localhost:8080/"
        },
        "outputId": "808c6f6e-77c2-4b9a-d4db-ba23d5e1c855"
      },
      "source": [
        "name1 = \"김민수\"\n",
        "age1 = 10\n",
        "name2 = \"이철희\"\n",
        "age2 = 13\n",
        "\n",
        "print(\"이름: %s 나이: %d\" %(name1, age1))\n",
        "print(\"이름: %s 나이: %d\" %(name2, age2))\n",
        "#print 포맷팅에서 %s는 문자열 데이터 타입의 값을 %d는 정수형 데이터 타입 값, %f는 소수형 데이터 타입의 출력을 의미합니다."
      ],
      "execution_count": null,
      "outputs": [
        {
          "output_type": "stream",
          "text": [
            "이름: 김민수 나이: 10\n",
            "이름: 이철희 나이: 13\n"
          ],
          "name": "stdout"
        }
      ]
    },
    {
      "cell_type": "code",
      "metadata": {
        "colab": {
          "base_uri": "https://localhost:8080/"
        },
        "id": "pCT9wbFlL-4M",
        "outputId": "2c747c3b-2942-4fc2-b31b-3b780880f51c"
      },
      "source": [
        "name1 = \"김민수\"\n",
        "age1 = 10\n",
        "name2 = \"이철희\"\n",
        "age2 = 13\n",
        "print(\"이름: {} 나이: {}\".format(name1, age1))\n",
        "print(\"이름: {} 나이: {}\".format(name2, age2))"
      ],
      "execution_count": null,
      "outputs": [
        {
          "output_type": "stream",
          "text": [
            "이름: 김민수 나이: 10\n",
            "이름: 이철희 나이: 13\n"
          ],
          "name": "stdout"
        }
      ]
    },
    {
      "cell_type": "code",
      "metadata": {
        "colab": {
          "base_uri": "https://localhost:8080/"
        },
        "id": "qEG-B8_tTZ26",
        "outputId": "eba53f1e-67bc-4b12-b5d4-4dac9ca306af"
      },
      "source": [
        "name1 = \"김민수\"\n",
        "age1 = 10\n",
        "name2 = \"이철희\"\n",
        "age2 = 13\n",
        "print(f\"이름: {name1} 나이: {age1}\")\n",
        "print(f\"이름: {name2} 나이: {age2}\")"
      ],
      "execution_count": null,
      "outputs": [
        {
          "output_type": "stream",
          "text": [
            "이름: 김민수 나이: 10\n",
            "이름: 이철희 나이: 13\n"
          ],
          "name": "stdout"
        }
      ]
    },
    {
      "cell_type": "code",
      "metadata": {
        "colab": {
          "base_uri": "https://localhost:8080/"
        },
        "id": "C92GfJmiT7-_",
        "outputId": "e36f1e2b-9f65-43b0-b177-a04c8e036277"
      },
      "source": [
        "상장주식수 = \"5,969,782,550\"\n",
        "컴마제거 = 상장주식수.replace(\",\", \"\")\n",
        "타입변환 = int(컴마제거)\n",
        "print(타입변환, type(타입변환))"
      ],
      "execution_count": null,
      "outputs": [
        {
          "output_type": "stream",
          "text": [
            "5969782550 <class 'int'>\n"
          ],
          "name": "stdout"
        }
      ]
    },
    {
      "cell_type": "code",
      "metadata": {
        "id": "69YIYBPVUCmI",
        "colab": {
          "base_uri": "https://localhost:8080/"
        },
        "outputId": "44dbdbd9-23a1-48de-ce9a-cb745df7c88c"
      },
      "source": [
        "분기 = \"2020/03(E) (IFRS연결)\"\n",
        "print(분기[0:7])"
      ],
      "execution_count": null,
      "outputs": [
        {
          "output_type": "stream",
          "text": [
            "2020/03\n"
          ],
          "name": "stdout"
        }
      ]
    },
    {
      "cell_type": "code",
      "metadata": {
        "colab": {
          "base_uri": "https://localhost:8080/"
        },
        "id": "0gC2c70UmHtQ",
        "outputId": "6e0a339b-ea76-47d2-a480-b7058f9a43e6"
      },
      "source": [
        "data = \"   삼성전자    \"\n",
        "data2 = data.replace(\" \", \"\")\n",
        "print(data2)"
      ],
      "execution_count": null,
      "outputs": [
        {
          "output_type": "stream",
          "text": [
            "삼성전자\n"
          ],
          "name": "stdout"
        }
      ]
    },
    {
      "cell_type": "code",
      "metadata": {
        "colab": {
          "base_uri": "https://localhost:8080/"
        },
        "id": "yH5VtauemO_1",
        "outputId": "f83883b9-ab42-46e2-ba99-8e9df0d994f2"
      },
      "source": [
        "#이 방법도 있음\n",
        "data = \"   삼성전자    \"\n",
        "data1 = data.strip()\n",
        "print(data1)"
      ],
      "execution_count": null,
      "outputs": [
        {
          "output_type": "stream",
          "text": [
            "삼성전자\n"
          ],
          "name": "stdout"
        }
      ]
    },
    {
      "cell_type": "markdown",
      "metadata": {
        "id": "Wg77cQt8mlhw"
      },
      "source": [
        "#41~50"
      ]
    },
    {
      "cell_type": "code",
      "metadata": {
        "colab": {
          "base_uri": "https://localhost:8080/"
        },
        "id": "xAjNz_vSmk1x",
        "outputId": "eaaf1ad8-6858-451b-f706-fcae4fcbed7d"
      },
      "source": [
        "ticker = \"btc_krw\"\n",
        "ticker1 = ticker.upper()\n",
        "print(ticker1)"
      ],
      "execution_count": null,
      "outputs": [
        {
          "output_type": "stream",
          "text": [
            "BTC_KRW\n"
          ],
          "name": "stdout"
        }
      ]
    },
    {
      "cell_type": "code",
      "metadata": {
        "colab": {
          "base_uri": "https://localhost:8080/"
        },
        "id": "-0kbCLgUm2ZN",
        "outputId": "f337de86-003c-4eca-8675-bd1e03563846"
      },
      "source": [
        "ticker = \"BTC_KRW\"\n",
        "ticker1 = ticker.lower()\n",
        "print(ticker1)"
      ],
      "execution_count": null,
      "outputs": [
        {
          "output_type": "stream",
          "text": [
            "btc_krw\n"
          ],
          "name": "stdout"
        }
      ]
    },
    {
      "cell_type": "code",
      "metadata": {
        "colab": {
          "base_uri": "https://localhost:8080/"
        },
        "id": "GrP4E1a_mxpz",
        "outputId": "6c4365ce-3e2f-4527-a932-2a6b60d1fd79"
      },
      "source": [
        "hi = \"hello\"\n",
        "hi = hi.capitalize()\n",
        "print(hi)"
      ],
      "execution_count": null,
      "outputs": [
        {
          "output_type": "stream",
          "text": [
            "Hello\n"
          ],
          "name": "stdout"
        }
      ]
    },
    {
      "cell_type": "code",
      "metadata": {
        "colab": {
          "base_uri": "https://localhost:8080/"
        },
        "id": "qOD0_3viqf11",
        "outputId": "3903fa46-da9a-4f09-f94d-dcaf495aae3d"
      },
      "source": [
        "file_name = \"보고서.xlsx\"\n",
        "file_name.endswith((\"xlsx\", \"xls\"))"
      ],
      "execution_count": null,
      "outputs": [
        {
          "output_type": "execute_result",
          "data": {
            "text/plain": [
              "True"
            ]
          },
          "metadata": {
            "tags": []
          },
          "execution_count": 28
        }
      ]
    },
    {
      "cell_type": "code",
      "metadata": {
        "colab": {
          "base_uri": "https://localhost:8080/"
        },
        "id": "JRM-mKDZqzJG",
        "outputId": "84887193-8aff-421a-cf0d-d2ea20a5e98b"
      },
      "source": [
        "file_name = \"2020_보고서.xlsx\"\n",
        "file_name.startswith(\"2020\")"
      ],
      "execution_count": null,
      "outputs": [
        {
          "output_type": "execute_result",
          "data": {
            "text/plain": [
              "True"
            ]
          },
          "metadata": {
            "tags": []
          },
          "execution_count": 29
        }
      ]
    },
    {
      "cell_type": "code",
      "metadata": {
        "colab": {
          "base_uri": "https://localhost:8080/"
        },
        "id": "LViiDoFIqowk",
        "outputId": "91965303-8e75-4c7f-f774-0d699c339c91"
      },
      "source": [
        "a = \"hello world\"\n",
        "a.split()"
      ],
      "execution_count": null,
      "outputs": [
        {
          "output_type": "execute_result",
          "data": {
            "text/plain": [
              "['hello', 'world']"
            ]
          },
          "metadata": {
            "tags": []
          },
          "execution_count": 30
        }
      ]
    },
    {
      "cell_type": "code",
      "metadata": {
        "colab": {
          "base_uri": "https://localhost:8080/"
        },
        "id": "pmiOfWqTrPv8",
        "outputId": "edc452c5-f540-490b-e025-ae22597752b5"
      },
      "source": [
        "ticker = \"btc_krw\"\n",
        "ticker.split(\"_\")"
      ],
      "execution_count": null,
      "outputs": [
        {
          "output_type": "execute_result",
          "data": {
            "text/plain": [
              "['btc', 'krw']"
            ]
          },
          "metadata": {
            "tags": []
          },
          "execution_count": 33
        }
      ]
    },
    {
      "cell_type": "code",
      "metadata": {
        "colab": {
          "base_uri": "https://localhost:8080/"
        },
        "id": "ihKC-U6orYTx",
        "outputId": "8c717a9e-9d87-4055-8071-2820df8da907"
      },
      "source": [
        "date = \"2020-05-01\"\n",
        "date.split(\"-\")"
      ],
      "execution_count": null,
      "outputs": [
        {
          "output_type": "execute_result",
          "data": {
            "text/plain": [
              "['2020', '05', '01']"
            ]
          },
          "metadata": {
            "tags": []
          },
          "execution_count": 34
        }
      ]
    },
    {
      "cell_type": "code",
      "metadata": {
        "colab": {
          "base_uri": "https://localhost:8080/",
          "height": 37
        },
        "id": "ueyZRjtFr1L8",
        "outputId": "fc3d5635-4d61-4d44-bacc-d03c580dc465"
      },
      "source": [
        "data = \"039490     \"\n",
        "data.strip()"
      ],
      "execution_count": null,
      "outputs": [
        {
          "output_type": "execute_result",
          "data": {
            "application/vnd.google.colaboratory.intrinsic+json": {
              "type": "string"
            },
            "text/plain": [
              "'039490'"
            ]
          },
          "metadata": {
            "tags": []
          },
          "execution_count": 35
        }
      ]
    },
    {
      "cell_type": "code",
      "metadata": {
        "colab": {
          "base_uri": "https://localhost:8080/"
        },
        "id": "G4XdH7X9sAG2",
        "outputId": "d2f6533d-7910-458f-b5f6-7241276b6096"
      },
      "source": [
        "#or\n",
        "data = \"039490     \"\n",
        "data = data.rstrip()\n",
        "print(data)"
      ],
      "execution_count": null,
      "outputs": [
        {
          "output_type": "stream",
          "text": [
            "039490\n"
          ],
          "name": "stdout"
        }
      ]
    },
    {
      "cell_type": "markdown",
      "metadata": {
        "id": "svCpFv5qwA5H"
      },
      "source": [
        "#51~60"
      ]
    },
    {
      "cell_type": "code",
      "metadata": {
        "colab": {
          "base_uri": "https://localhost:8080/"
        },
        "id": "tjn5htglsgxj",
        "outputId": "42334f89-c147-4b0f-9215-343de910c846"
      },
      "source": [
        "movie_rank = [\"닥터 스트레인지\", \"스플릿\", \"럭키\"]\n",
        "print(movie_rank)"
      ],
      "execution_count": null,
      "outputs": [
        {
          "output_type": "stream",
          "text": [
            "['닥터 스트레인지', '스플릿', '럭키']\n"
          ],
          "name": "stdout"
        }
      ]
    },
    {
      "cell_type": "code",
      "metadata": {
        "colab": {
          "base_uri": "https://localhost:8080/"
        },
        "id": "wcutwJJswN-A",
        "outputId": "e5f3a7bd-ab18-4c27-d8b4-971d0340572e"
      },
      "source": [
        "movie_rank = [\"닥터 스트레인지\", \"스플릿\", \"럭키\"]\n",
        "movie_rank.append(\"배트맨\")\n",
        "print(movie_rank)"
      ],
      "execution_count": null,
      "outputs": [
        {
          "output_type": "stream",
          "text": [
            "['닥터 스트레인지', '스플릿', '럭키', '배트맨']\n"
          ],
          "name": "stdout"
        }
      ]
    },
    {
      "cell_type": "code",
      "metadata": {
        "colab": {
          "base_uri": "https://localhost:8080/"
        },
        "id": "fVo_z6l7N_dh",
        "outputId": "9c7838d1-3591-4157-b449-f74d49f725f0"
      },
      "source": [
        "movie_rank = ['닥터 스트레인지', '스플릿', '럭키', '배트맨']\n",
        "movie_rank.insert(1, \"슈퍼맨\")\n",
        "print(movie_rank)"
      ],
      "execution_count": null,
      "outputs": [
        {
          "output_type": "stream",
          "text": [
            "['닥터 스트레인지', '슈퍼맨', '스플릿', '럭키', '배트맨']\n"
          ],
          "name": "stdout"
        }
      ]
    },
    {
      "cell_type": "code",
      "metadata": {
        "colab": {
          "base_uri": "https://localhost:8080/"
        },
        "id": "PIE03rQsOcA8",
        "outputId": "5e236d2c-9fc1-4f7a-a355-d18f3811b38e"
      },
      "source": [
        "movie_rank = ['닥터 스트레인지', '슈퍼맨', '스플릿', '럭키', '배트맨']\n",
        "movie_rank.remove(\"럭키\")\n",
        "print(movie_rank)"
      ],
      "execution_count": null,
      "outputs": [
        {
          "output_type": "stream",
          "text": [
            "['닥터 스트레인지', '슈퍼맨', '스플릿', '배트맨']\n"
          ],
          "name": "stdout"
        }
      ]
    },
    {
      "cell_type": "code",
      "metadata": {
        "colab": {
          "base_uri": "https://localhost:8080/"
        },
        "id": "dBZApPmQOpC9",
        "outputId": "9543dcc2-e6bf-4223-dd70-51048c23162a"
      },
      "source": [
        "#이 방법도 있음\n",
        "movie_rank = ['닥터 스트레인지', '슈퍼맨', '스플릿', '럭키', '배트맨']\n",
        "del movie_rank[3]\n",
        "print(movie_rank)"
      ],
      "execution_count": null,
      "outputs": [
        {
          "output_type": "stream",
          "text": [
            "['닥터 스트레인지', '슈퍼맨', '스플릿', '배트맨']\n"
          ],
          "name": "stdout"
        }
      ]
    },
    {
      "cell_type": "code",
      "metadata": {
        "colab": {
          "base_uri": "https://localhost:8080/"
        },
        "id": "Pkv_1PI5Rf18",
        "outputId": "14773ee5-02d0-48fc-de29-05bb998266f3"
      },
      "source": [
        "movie_rank = ['닥터 스트레인지', '슈퍼맨', '스플릿', '배트맨']\n",
        "del movie_rank[2:]\n",
        "print(movie_rank)"
      ],
      "execution_count": null,
      "outputs": [
        {
          "output_type": "stream",
          "text": [
            "['닥터 스트레인지', '슈퍼맨']\n"
          ],
          "name": "stdout"
        }
      ]
    },
    {
      "cell_type": "code",
      "metadata": {
        "colab": {
          "base_uri": "https://localhost:8080/"
        },
        "id": "nvRBv45VSuor",
        "outputId": "fa3b44f2-6aae-41ad-e682-747945fc6466"
      },
      "source": [
        "lang1 = [\"C\", \"C++\", \"JAVA\"]\n",
        "lang2 = [\"Python\", \"Go\", \"C#\"]\n",
        "langs = lang1 + lang2\n",
        "print(langs)"
      ],
      "execution_count": null,
      "outputs": [
        {
          "output_type": "stream",
          "text": [
            "['C', 'C++', 'JAVA', 'Python', 'Go', 'C#']\n"
          ],
          "name": "stdout"
        }
      ]
    },
    {
      "cell_type": "code",
      "metadata": {
        "colab": {
          "base_uri": "https://localhost:8080/"
        },
        "id": "KDRiZuWETA75",
        "outputId": "384bc886-351f-43c0-e699-bf984abeb14d"
      },
      "source": [
        "nums = [1, 2, 3, 4, 5, 6, 7]\n",
        "print(\"max: \", max(nums))\n",
        "print(\"min: \", min(nums))"
      ],
      "execution_count": null,
      "outputs": [
        {
          "output_type": "stream",
          "text": [
            "max:  7\n",
            "min:  1\n"
          ],
          "name": "stdout"
        }
      ]
    },
    {
      "cell_type": "code",
      "metadata": {
        "colab": {
          "base_uri": "https://localhost:8080/"
        },
        "id": "pzBFDWClTJxY",
        "outputId": "922681eb-59f4-4547-dcca-846a15035bac"
      },
      "source": [
        "nums = [1, 2, 3, 4, 5]\n",
        "print(sum(nums))"
      ],
      "execution_count": null,
      "outputs": [
        {
          "output_type": "stream",
          "text": [
            "15\n"
          ],
          "name": "stdout"
        }
      ]
    },
    {
      "cell_type": "code",
      "metadata": {
        "colab": {
          "base_uri": "https://localhost:8080/"
        },
        "id": "SCD9womwTRt_",
        "outputId": "39dc547c-9f2a-46f1-be08-e5cee45a95dc"
      },
      "source": [
        "cook = [\"피자\", \"김밥\", \"만두\", \"양념치킨\", \"족발\", \"피자\", \"김치만두\", \"쫄면\", \"쏘세지\", \"라면\", \"팥빙수\", \"김치전\"]\n",
        "print(len(cook))"
      ],
      "execution_count": null,
      "outputs": [
        {
          "output_type": "stream",
          "text": [
            "12\n"
          ],
          "name": "stdout"
        }
      ]
    },
    {
      "cell_type": "code",
      "metadata": {
        "colab": {
          "base_uri": "https://localhost:8080/"
        },
        "id": "3gNQRrxRTY5I",
        "outputId": "47280aee-b14f-4033-ccb9-c32f1c2ef900"
      },
      "source": [
        "nums = [1, 2, 3, 4, 5]\n",
        "av = sum(nums) / len(nums)\n",
        "print(av)"
      ],
      "execution_count": null,
      "outputs": [
        {
          "output_type": "stream",
          "text": [
            "3.0\n"
          ],
          "name": "stdout"
        }
      ]
    },
    {
      "cell_type": "markdown",
      "metadata": {
        "id": "xOdjQtthToWX"
      },
      "source": [
        "#61~70"
      ]
    },
    {
      "cell_type": "code",
      "metadata": {
        "colab": {
          "base_uri": "https://localhost:8080/"
        },
        "id": "oPbymxj8TdLR",
        "outputId": "8459d981-8a18-4cc6-d9ad-074042a0c3fc"
      },
      "source": [
        "price = ['20180728', 100, 130, 140, 150, 160, 170]\n",
        "print(price[1:])"
      ],
      "execution_count": null,
      "outputs": [
        {
          "output_type": "stream",
          "text": [
            "[100, 130, 140, 150, 160, 170]\n"
          ],
          "name": "stdout"
        }
      ]
    },
    {
      "cell_type": "code",
      "metadata": {
        "colab": {
          "base_uri": "https://localhost:8080/"
        },
        "id": "UQR84fFaT7Hz",
        "outputId": "3429c00e-c94a-49c5-b2e5-b9b5c0dffde2"
      },
      "source": [
        "nums = [1, 2, 3, 4, 5, 6, 7, 8, 9, 10]\n",
        "print(nums[::2])"
      ],
      "execution_count": null,
      "outputs": [
        {
          "output_type": "stream",
          "text": [
            "[1, 3, 5, 7, 9]\n"
          ],
          "name": "stdout"
        }
      ]
    },
    {
      "cell_type": "code",
      "metadata": {
        "colab": {
          "base_uri": "https://localhost:8080/"
        },
        "id": "HNFn2b6IUHw_",
        "outputId": "491b0853-047c-4232-de27-6b90a19c6274"
      },
      "source": [
        "nums = [1, 2, 3, 4, 5, 6, 7, 8, 9, 10]\n",
        "print(nums[1::2])"
      ],
      "execution_count": null,
      "outputs": [
        {
          "output_type": "stream",
          "text": [
            "[2, 4, 6, 8, 10]\n"
          ],
          "name": "stdout"
        }
      ]
    },
    {
      "cell_type": "code",
      "metadata": {
        "colab": {
          "base_uri": "https://localhost:8080/"
        },
        "id": "FUj6-1efUi14",
        "outputId": "87a720b2-52d2-44e7-96e3-92ce11a49bbe"
      },
      "source": [
        "nums = [1, 2, 3, 4, 5]\n",
        "print(nums[::-1])"
      ],
      "execution_count": null,
      "outputs": [
        {
          "output_type": "stream",
          "text": [
            "[5, 4, 3, 2, 1]\n"
          ],
          "name": "stdout"
        }
      ]
    },
    {
      "cell_type": "code",
      "metadata": {
        "colab": {
          "base_uri": "https://localhost:8080/"
        },
        "id": "t0BHbIBZUqfa",
        "outputId": "e31a8fe1-272b-48e8-8596-ceab84f90cbd"
      },
      "source": [
        "interest = ['삼성전자', 'LG전자', 'Naver']\n",
        "print(interest[0], interest[2])\n",
        "#or\n",
        "print(interest[::2])"
      ],
      "execution_count": null,
      "outputs": [
        {
          "output_type": "stream",
          "text": [
            "삼성전자 Naver\n",
            "['삼성전자', 'Naver']\n"
          ],
          "name": "stdout"
        }
      ]
    },
    {
      "cell_type": "code",
      "metadata": {
        "colab": {
          "base_uri": "https://localhost:8080/"
        },
        "id": "opDNrzWOU09U",
        "outputId": "b0bd3027-42fe-4992-f647-f087f9e3b871"
      },
      "source": [
        "interest = ['삼성전자', 'LG전자', 'Naver', 'SK하이닉스', '미래에셋대우']\n",
        "print(\" \".join(interest))"
      ],
      "execution_count": null,
      "outputs": [
        {
          "output_type": "stream",
          "text": [
            "삼성전자 LG전자 Naver SK하이닉스 미래에셋대우\n"
          ],
          "name": "stdout"
        }
      ]
    },
    {
      "cell_type": "code",
      "metadata": {
        "colab": {
          "base_uri": "https://localhost:8080/"
        },
        "id": "pXLxhKFo8dBu",
        "outputId": "97cfa1bb-53f1-47cd-c63b-84838cb55194"
      },
      "source": [
        "interest = ['삼성전자', 'LG전자', 'Naver', 'SK하이닉스', '미래에셋대우']\n",
        "print(\"/\".join(interest))"
      ],
      "execution_count": null,
      "outputs": [
        {
          "output_type": "stream",
          "text": [
            "삼성전자/LG전자/Naver/SK하이닉스/미래에셋대우\n"
          ],
          "name": "stdout"
        }
      ]
    },
    {
      "cell_type": "code",
      "metadata": {
        "colab": {
          "base_uri": "https://localhost:8080/"
        },
        "id": "_IZkgTw-8U3T",
        "outputId": "43437900-dd1f-439a-ea72-a6f0ff37ab75"
      },
      "source": [
        "interest = ['삼성전자', 'LG전자', 'Naver', 'SK하이닉스', '미래에셋대우']\n",
        "print(\"\\n\".join(interest))"
      ],
      "execution_count": null,
      "outputs": [
        {
          "output_type": "stream",
          "text": [
            "삼성전자\n",
            "LG전자\n",
            "Naver\n",
            "SK하이닉스\n",
            "미래에셋대우\n"
          ],
          "name": "stdout"
        }
      ]
    },
    {
      "cell_type": "code",
      "metadata": {
        "colab": {
          "base_uri": "https://localhost:8080/"
        },
        "id": "NW3IOclQ8pxM",
        "outputId": "e601ee70-0b40-4c85-d3c5-24bf1ead1ced"
      },
      "source": [
        "string = \"삼성전자/LG전자/Naver\"\n",
        "interest = string.split(\"/\")\n",
        "print(interest)"
      ],
      "execution_count": null,
      "outputs": [
        {
          "output_type": "stream",
          "text": [
            "['삼성전자', 'LG전자', 'Naver']\n"
          ],
          "name": "stdout"
        }
      ]
    },
    {
      "cell_type": "code",
      "metadata": {
        "colab": {
          "base_uri": "https://localhost:8080/"
        },
        "id": "9kDktZ038SpA",
        "outputId": "484e8a6c-0f41-45bc-8d59-4abf3a4e8e65"
      },
      "source": [
        "data = [2, 4, 3, 1, 5, 10, 9]\n",
        "print(sorted(data))"
      ],
      "execution_count": null,
      "outputs": [
        {
          "output_type": "stream",
          "text": [
            "[1, 2, 3, 4, 5, 9, 10]\n"
          ],
          "name": "stdout"
        }
      ]
    },
    {
      "cell_type": "code",
      "metadata": {
        "colab": {
          "base_uri": "https://localhost:8080/"
        },
        "id": "4ilSw8OU_Xna",
        "outputId": "34dc24ee-281a-4bf4-a588-e2870931fd33"
      },
      "source": [
        "#다음과 같이 해결할 수도 있음\n",
        "data = [2, 4, 3, 1, 5, 10, 9]\n",
        "data.sort()\n",
        "print(data)"
      ],
      "execution_count": null,
      "outputs": [
        {
          "output_type": "stream",
          "text": [
            "[1, 2, 3, 4, 5, 9, 10]\n"
          ],
          "name": "stdout"
        }
      ]
    },
    {
      "cell_type": "markdown",
      "metadata": {
        "id": "JgecQOAk_-Oy"
      },
      "source": [
        "#71~80"
      ]
    },
    {
      "cell_type": "code",
      "metadata": {
        "colab": {
          "base_uri": "https://localhost:8080/"
        },
        "id": "8sCbsS5a_4lz",
        "outputId": "e670db8b-47c3-451b-aa1a-e8168c9f7f7a"
      },
      "source": [
        "my_variable = ()\n",
        "print(type(my_variable))"
      ],
      "execution_count": null,
      "outputs": [
        {
          "output_type": "stream",
          "text": [
            "<class 'tuple'>\n"
          ],
          "name": "stdout"
        }
      ]
    },
    {
      "cell_type": "code",
      "metadata": {
        "id": "TZCKPByH_shL"
      },
      "source": [
        "movie_rank = (\"닥터 스트레인지\", \"스플릿\", \"럭키\")"
      ],
      "execution_count": null,
      "outputs": []
    },
    {
      "cell_type": "code",
      "metadata": {
        "id": "kG7IYhG0BMGN"
      },
      "source": [
        "#my_tuple = (1) 의 1은 int(정수)형이다.\n",
        "my_tuple = (1, )\n",
        "#따라서 다음과 같이 하나의 데이터가 저장될때는 쉼표를 입력해야 튜플로 인식된다."
      ],
      "execution_count": null,
      "outputs": []
    },
    {
      "cell_type": "code",
      "metadata": {
        "id": "bwsDsmUKBPSH"
      },
      "source": [
        "# t = (1, 2, 3)\n",
        "# t[0] = 'a'\n",
        "# #튜플은 원소의 값을 변경할 수 없다."
      ],
      "execution_count": null,
      "outputs": []
    },
    {
      "cell_type": "code",
      "metadata": {
        "colab": {
          "base_uri": "https://localhost:8080/"
        },
        "id": "oMYpom62BuSu",
        "outputId": "c5522ccf-e686-4e69-a8a0-dc0afc3eebb3"
      },
      "source": [
        "t = 1, 2, 3, 4\n",
        "type(t)"
      ],
      "execution_count": null,
      "outputs": [
        {
          "output_type": "execute_result",
          "data": {
            "text/plain": [
              "tuple"
            ]
          },
          "metadata": {
            "tags": []
          },
          "execution_count": 58
        }
      ]
    },
    {
      "cell_type": "code",
      "metadata": {
        "id": "1RE1czYaCHOT"
      },
      "source": [
        "t = ('a', 'b', 'c')\n",
        "#튜플의 값은 변경할 수 없기 때문에 새롭게 t를 정의해주어야 한다.\n",
        "t = ('A', 'b', 'c')"
      ],
      "execution_count": null,
      "outputs": []
    },
    {
      "cell_type": "code",
      "metadata": {
        "colab": {
          "base_uri": "https://localhost:8080/"
        },
        "id": "_mwBTYRECUOV",
        "outputId": "85579f4a-ce30-4218-95fe-8c12f6a7e024"
      },
      "source": [
        "interest = ('삼성전자', 'LG전자', 'SK Hynix')\n",
        "data = list(interest)\n",
        "print(data)"
      ],
      "execution_count": null,
      "outputs": [
        {
          "output_type": "stream",
          "text": [
            "['삼성전자', 'LG전자', 'SK Hynix']\n"
          ],
          "name": "stdout"
        }
      ]
    },
    {
      "cell_type": "code",
      "metadata": {
        "colab": {
          "base_uri": "https://localhost:8080/"
        },
        "id": "fkR3J8fACb_z",
        "outputId": "54bcf8fa-e573-4972-8ee5-edca2ffe1eb5"
      },
      "source": [
        "interest = ['삼성전자', 'LG전자', 'SK Hynix']\n",
        "data = tuple(interest)\n",
        "print(data)"
      ],
      "execution_count": null,
      "outputs": [
        {
          "output_type": "stream",
          "text": [
            "('삼성전자', 'LG전자', 'SK Hynix')\n"
          ],
          "name": "stdout"
        }
      ]
    },
    {
      "cell_type": "code",
      "metadata": {
        "colab": {
          "base_uri": "https://localhost:8080/"
        },
        "id": "H5hEJxK8ChYI",
        "outputId": "1a20f5b0-d90e-4a14-e8a5-6e8f85978630"
      },
      "source": [
        "temp = ('apple', 'banana', 'cake')\n",
        "a, b, c = temp\n",
        "print(a, b, c)"
      ],
      "execution_count": null,
      "outputs": [
        {
          "output_type": "stream",
          "text": [
            "apple banana cake\n"
          ],
          "name": "stdout"
        }
      ]
    },
    {
      "cell_type": "code",
      "metadata": {
        "colab": {
          "base_uri": "https://localhost:8080/"
        },
        "id": "Nd-F8TyLCn1c",
        "outputId": "10d08d09-6413-4a03-f98a-84f23c678850"
      },
      "source": [
        "data = tuple(range(2, 100, 2))\n",
        "print(data)"
      ],
      "execution_count": null,
      "outputs": [
        {
          "output_type": "stream",
          "text": [
            "(2, 4, 6, 8, 10, 12, 14, 16, 18, 20, 22, 24, 26, 28, 30, 32, 34, 36, 38, 40, 42, 44, 46, 48, 50, 52, 54, 56, 58, 60, 62, 64, 66, 68, 70, 72, 74, 76, 78, 80, 82, 84, 86, 88, 90, 92, 94, 96, 98)\n"
          ],
          "name": "stdout"
        }
      ]
    },
    {
      "cell_type": "markdown",
      "metadata": {
        "id": "-r1-74PsPGw4"
      },
      "source": [
        "#81~90"
      ]
    },
    {
      "cell_type": "code",
      "metadata": {
        "id": "OxpZPYGOO6l-"
      },
      "source": [
        "#기본적으로 데이터 언패킹은 좌변의 변수와 우변 데이터 개수가 같아야 합니다. 하지만 star expression을 사용하면 변수의 개수가 달라도 데이터 언패킹을 할 수 있습니다. 튜플에 저장된 데이터 중에서 앞에 있는 두 개의 데이터만 필요할 경우 나머지 데이터의 언패킹 코드를 작성할 필요가 없습니다.\n",
        "\n",
        "# a, b, *c = (0, 1, 2, 3, 4, 5)\n",
        "# a\n",
        "# 0\n",
        "\n",
        "# b\n",
        "# 1\n",
        "\n",
        "# c\n",
        "# [2, 3, 4, 5]"
      ],
      "execution_count": null,
      "outputs": []
    },
    {
      "cell_type": "code",
      "metadata": {
        "colab": {
          "base_uri": "https://localhost:8080/"
        },
        "id": "4RMCPq41VGf9",
        "outputId": "437f0759-f302-4800-d330-56d2fb386aa2"
      },
      "source": [
        "scores = [8.8, 8.9, 8.7, 9.2, 9.3, 9.7, 9.9, 9.5, 7.8, 9.4]\n",
        "*valid_score, a, b= scores\n",
        "print(valid_score)"
      ],
      "execution_count": null,
      "outputs": [
        {
          "output_type": "stream",
          "text": [
            "[8.8, 8.9, 8.7, 9.2, 9.3, 9.7, 9.9, 9.5]\n"
          ],
          "name": "stdout"
        }
      ]
    },
    {
      "cell_type": "code",
      "metadata": {
        "colab": {
          "base_uri": "https://localhost:8080/"
        },
        "id": "R3vVgRvIVymn",
        "outputId": "22153c58-55bc-4dc1-bbec-c93d15dcb754"
      },
      "source": [
        "scores = [8.8, 8.9, 8.7, 9.2, 9.3, 9.7, 9.9, 9.5, 7.8, 9.4]\n",
        "a, b, *valid_score = scores\n",
        "print(valid_score)"
      ],
      "execution_count": null,
      "outputs": [
        {
          "output_type": "stream",
          "text": [
            "[8.7, 9.2, 9.3, 9.7, 9.9, 9.5, 7.8, 9.4]\n"
          ],
          "name": "stdout"
        }
      ]
    },
    {
      "cell_type": "code",
      "metadata": {
        "colab": {
          "base_uri": "https://localhost:8080/"
        },
        "id": "gRm650_8WHhx",
        "outputId": "7984946d-a16d-4851-cd2e-c8afe2574c70"
      },
      "source": [
        "scores = [8.8, 8.9, 8.7, 9.2, 9.3, 9.7, 9.9, 9.5, 7.8, 9.4]\n",
        "a, *valid_score, b = scores\n",
        "print(valid_score)"
      ],
      "execution_count": null,
      "outputs": [
        {
          "output_type": "stream",
          "text": [
            "[8.9, 8.7, 9.2, 9.3, 9.7, 9.9, 9.5, 7.8]\n"
          ],
          "name": "stdout"
        }
      ]
    },
    {
      "cell_type": "code",
      "metadata": {
        "id": "jO-pPtSWWOMq"
      },
      "source": [
        "temp = {}"
      ],
      "execution_count": null,
      "outputs": []
    },
    {
      "cell_type": "code",
      "metadata": {
        "colab": {
          "base_uri": "https://localhost:8080/"
        },
        "id": "DBwzSnk5Wchh",
        "outputId": "ef1fa75c-5152-4ece-b4e6-c4111ea4bfa5"
      },
      "source": [
        "ice = {\"메로나\": 1000, \"폴라포\": 1200, \"빵빠레\": 1800}\n",
        "print(ice)"
      ],
      "execution_count": null,
      "outputs": [
        {
          "output_type": "stream",
          "text": [
            "{'메로나': 1000, '폴라포': 1200, '빵빠레': 1800}\n"
          ],
          "name": "stdout"
        }
      ]
    },
    {
      "cell_type": "code",
      "metadata": {
        "colab": {
          "base_uri": "https://localhost:8080/"
        },
        "id": "LDDtyuH-W77L",
        "outputId": "541b94c1-7afe-40e5-8169-c3e0b1c302d1"
      },
      "source": [
        "ice = {\"메로나\": 1000, \"폴라포\": 1200, \"빵빠레\": 1800}\n",
        "ice[\"죠스바\"] = 1200\n",
        "ice[\"월드콘\"] = 1500\n",
        "print(ice)"
      ],
      "execution_count": null,
      "outputs": [
        {
          "output_type": "stream",
          "text": [
            "{'메로나': 1000, '폴라포': 1200, '빵빠레': 1800, '죠스바': 1200, '월드콘': 1500}\n"
          ],
          "name": "stdout"
        }
      ]
    },
    {
      "cell_type": "code",
      "metadata": {
        "colab": {
          "base_uri": "https://localhost:8080/"
        },
        "id": "EY4DRqPQYU_j",
        "outputId": "5873a28b-f50e-450d-c685-1cb6d1d94d6e"
      },
      "source": [
        "ice = {'메로나': 1000,\n",
        "       '폴로포': 1200,\n",
        "       '빵빠레': 1800,\n",
        "       '죠스바': 1200,\n",
        "       '월드콘': 1500}\n",
        "\n",
        "print(ice[\"메로나\"])"
      ],
      "execution_count": null,
      "outputs": [
        {
          "output_type": "stream",
          "text": [
            "1000\n"
          ],
          "name": "stdout"
        }
      ]
    },
    {
      "cell_type": "code",
      "metadata": {
        "colab": {
          "base_uri": "https://localhost:8080/"
        },
        "id": "tW7MtIlaYTC4",
        "outputId": "655a5ee7-43c8-4ff5-f936-d3e0f11be946"
      },
      "source": [
        "ice = {'메로나': 1000,\n",
        "       '폴로포': 1200,\n",
        "       '빵빠레': 1800,\n",
        "       '죠스바': 1200,\n",
        "       '월드콘': 1500}\n",
        "\n",
        "ice[\"메로나\"] = 1300\n",
        "print(ice)"
      ],
      "execution_count": null,
      "outputs": [
        {
          "output_type": "stream",
          "text": [
            "{'메로나': 1300, '폴로포': 1200, '빵빠레': 1800, '죠스바': 1200, '월드콘': 1500}\n"
          ],
          "name": "stdout"
        }
      ]
    },
    {
      "cell_type": "code",
      "metadata": {
        "colab": {
          "base_uri": "https://localhost:8080/"
        },
        "id": "hQL6W0bqCHCW",
        "outputId": "85612b19-dd33-4abd-d243-85531eed1cb4"
      },
      "source": [
        "ice = {'메로나': 1000,\n",
        "       '폴로포': 1200,\n",
        "       '빵빠레': 1800,\n",
        "       '죠스바': 1200,\n",
        "       '월드콘': 1500}\n",
        "del(ice[\"메로나\"])\n",
        "print(ice)"
      ],
      "execution_count": null,
      "outputs": [
        {
          "output_type": "stream",
          "text": [
            "{'폴로포': 1200, '빵빠레': 1800, '죠스바': 1200, '월드콘': 1500}\n"
          ],
          "name": "stdout"
        }
      ]
    },
    {
      "cell_type": "code",
      "metadata": {
        "colab": {
          "base_uri": "https://localhost:8080/"
        },
        "id": "JBVI2M87UvGt",
        "outputId": "fab81a89-2097-46da-dca8-f4c6420df629"
      },
      "source": [
        "#or\n",
        "ice = {'메로나': 1000,\n",
        "       '폴로포': 1200,\n",
        "       '빵빠레': 1800,\n",
        "       '죠스바': 1200,\n",
        "       '월드콘': 1500}\n",
        "del ice[\"메로나\"]\n",
        "print(ice)"
      ],
      "execution_count": null,
      "outputs": [
        {
          "output_type": "stream",
          "text": [
            "{'폴로포': 1200, '빵빠레': 1800, '죠스바': 1200, '월드콘': 1500}\n"
          ],
          "name": "stdout"
        }
      ]
    },
    {
      "cell_type": "code",
      "metadata": {
        "id": "QU84hZGjU-5M"
      },
      "source": [
        "# >> icecream = {'폴라포': 1200, '빵빠레': 1800, '월드콘': 1500, '메로나': 1000}\n",
        "# >> icecream['누가바']"
      ],
      "execution_count": null,
      "outputs": []
    },
    {
      "cell_type": "markdown",
      "metadata": {
        "id": "XeUCPIpDVLWN"
      },
      "source": [
        "#91~100"
      ]
    },
    {
      "cell_type": "code",
      "metadata": {
        "colab": {
          "base_uri": "https://localhost:8080/"
        },
        "id": "bLTRc5hGVQvP",
        "outputId": "704e2e09-147e-4268-cf30-b8dd0c008c14"
      },
      "source": [
        "inventory = {\"메로나\": [300, 20],\n",
        "             \"비비빅\": [400, 3],\n",
        "             \"죠스바\": [250, 100]}\n",
        "print(inventory)"
      ],
      "execution_count": null,
      "outputs": [
        {
          "output_type": "stream",
          "text": [
            "{'메로나': [300, 20], '비비빅': [400, 3], '죠스바': [250, 100]}\n"
          ],
          "name": "stdout"
        }
      ]
    },
    {
      "cell_type": "code",
      "metadata": {
        "colab": {
          "base_uri": "https://localhost:8080/"
        },
        "id": "pT47MvjtVbuH",
        "outputId": "6fb8bc74-b159-461c-d235-4d3d5f4e3422"
      },
      "source": [
        "inventory = {\"메로나\": [300, 20],\n",
        "              \"비비빅\": [400, 3],\n",
        "              \"죠스바\": [250, 100]}\n",
        "print(inventory[\"메로나\"][0], \"원\")"
      ],
      "execution_count": null,
      "outputs": [
        {
          "output_type": "stream",
          "text": [
            "300 원\n"
          ],
          "name": "stdout"
        }
      ]
    },
    {
      "cell_type": "code",
      "metadata": {
        "colab": {
          "base_uri": "https://localhost:8080/"
        },
        "id": "ZjCJqZ3xVlBC",
        "outputId": "e9bc89f5-f787-4616-d23f-4f3acb8846cd"
      },
      "source": [
        "inventory = {\"메로나\": [300, 20],\n",
        "              \"비비빅\": [400, 3],\n",
        "              \"죠스바\": [250, 100]}\n",
        "print(inventory[\"메로나\"][1], \"개\")"
      ],
      "execution_count": null,
      "outputs": [
        {
          "output_type": "stream",
          "text": [
            "20 개\n"
          ],
          "name": "stdout"
        }
      ]
    },
    {
      "cell_type": "code",
      "metadata": {
        "colab": {
          "base_uri": "https://localhost:8080/"
        },
        "id": "_woHPwEDXsNK",
        "outputId": "2cf7d6e3-fff9-4389-dc24-aeb2ed8c9efd"
      },
      "source": [
        "inventory = {\"메로나\": [300, 20],\n",
        "              \"비비빅\": [400, 3],\n",
        "              \"죠스바\": [250, 100]}\n",
        "inventory[\"월드콘\"] = [500, 7]\n",
        "print(inventory)"
      ],
      "execution_count": null,
      "outputs": [
        {
          "output_type": "stream",
          "text": [
            "{'메로나': [300, 20], '비비빅': [400, 3], '죠스바': [250, 100], '월드콘': [500, 7]}\n"
          ],
          "name": "stdout"
        }
      ]
    },
    {
      "cell_type": "code",
      "metadata": {
        "colab": {
          "base_uri": "https://localhost:8080/"
        },
        "id": "4LYtuJ3mbVx8",
        "outputId": "6672fd8a-a97a-4a02-c325-42ae173aab62"
      },
      "source": [
        "icecream = {'탱크보이': 1200, '폴라포': 1200, '빵빠레': 1800, '월드콘': 1500, '메로나': 1000}\n",
        "key = list(icecream.keys())\n",
        "print(key)"
      ],
      "execution_count": null,
      "outputs": [
        {
          "output_type": "stream",
          "text": [
            "['탱크보이', '폴라포', '빵빠레', '월드콘', '메로나']\n"
          ],
          "name": "stdout"
        }
      ]
    },
    {
      "cell_type": "code",
      "metadata": {
        "colab": {
          "base_uri": "https://localhost:8080/"
        },
        "id": "Fb3X6uGWdmYu",
        "outputId": "1a4e6877-42d3-4d5d-d757-bb4a2f7ba162"
      },
      "source": [
        "icecream = {'탱크보이': 1200, '폴라포': 1200, '빵빠레': 1800, '월드콘': 1500, '메로나': 1000}\n",
        "value = list(icecream.values())\n",
        "print(value)"
      ],
      "execution_count": null,
      "outputs": [
        {
          "output_type": "stream",
          "text": [
            "[1200, 1200, 1800, 1500, 1000]\n"
          ],
          "name": "stdout"
        }
      ]
    },
    {
      "cell_type": "code",
      "metadata": {
        "colab": {
          "base_uri": "https://localhost:8080/"
        },
        "id": "P-AS2Qhgd8uO",
        "outputId": "14d77d0f-3c11-40a6-db56-871bc7d958d9"
      },
      "source": [
        "icecream = {'탱크보이': 1200, '폴라포': 1200, '빵빠레': 1800, '월드콘': 1500, '메로나': 1000}\n",
        "value = list(icecream.values())\n",
        "print(sum(value))"
      ],
      "execution_count": null,
      "outputs": [
        {
          "output_type": "stream",
          "text": [
            "6700\n"
          ],
          "name": "stdout"
        }
      ]
    },
    {
      "cell_type": "code",
      "metadata": {
        "colab": {
          "base_uri": "https://localhost:8080/"
        },
        "id": "Cb2WiM6GeBJ2",
        "outputId": "4a8b4da0-7844-4264-d853-3d3a9fb647de"
      },
      "source": [
        "icecream = {'탱크보이': 1200, '폴라포': 1200, '빵빠레': 1800, '월드콘': 1500, '메로나': 1000}\n",
        "new_product = {'팥빙수':2700, '아맛나':1000}\n",
        "icecream.update(new_product)\n",
        "print(icecream)"
      ],
      "execution_count": null,
      "outputs": [
        {
          "output_type": "stream",
          "text": [
            "{'탱크보이': 1200, '폴라포': 1200, '빵빠레': 1800, '월드콘': 1500, '메로나': 1000, '팥빙수': 2700, '아맛나': 1000}\n"
          ],
          "name": "stdout"
        }
      ]
    },
    {
      "cell_type": "code",
      "metadata": {
        "id": "cXMrIMnLxSSx",
        "colab": {
          "base_uri": "https://localhost:8080/"
        },
        "outputId": "d5556623-02a5-49f7-ec0c-d2256c69d44c"
      },
      "source": [
        "keys = (\"apple\", \"pear\", \"peach\")\n",
        "vals = (300, 250, 400)\n",
        "result = dict(zip(keys, vals))\n",
        "print(result)"
      ],
      "execution_count": null,
      "outputs": [
        {
          "output_type": "stream",
          "text": [
            "{'apple': 300, 'pear': 250, 'peach': 400}\n"
          ],
          "name": "stdout"
        }
      ]
    },
    {
      "cell_type": "code",
      "metadata": {
        "colab": {
          "base_uri": "https://localhost:8080/"
        },
        "id": "dveWU4lR1EyR",
        "outputId": "4ac05ac3-4a17-41a0-f4e3-4d4b1792a6aa"
      },
      "source": [
        "date = ['09/05', '09/06', '09/07', '09/08', '09/09']\n",
        "close_price = [10500, 10300, 10100, 10800, 11000]\n",
        "close_table = dict(zip(date, close_price))\n",
        "print(close_table)"
      ],
      "execution_count": null,
      "outputs": [
        {
          "output_type": "stream",
          "text": [
            "{'09/05': 10500, '09/06': 10300, '09/07': 10100, '09/08': 10800, '09/09': 11000}\n"
          ],
          "name": "stdout"
        }
      ]
    },
    {
      "cell_type": "markdown",
      "metadata": {
        "id": "U7OHWVXL2LFO"
      },
      "source": [
        "#101~110"
      ]
    },
    {
      "cell_type": "code",
      "metadata": {
        "id": "orscpqxK1vb7"
      },
      "source": [
        "#Boolean"
      ],
      "execution_count": null,
      "outputs": []
    },
    {
      "cell_type": "code",
      "metadata": {
        "id": "zjaCYrEm2R_x"
      },
      "source": [
        "#False"
      ],
      "execution_count": null,
      "outputs": []
    },
    {
      "cell_type": "code",
      "metadata": {
        "id": "iTM3XDHM2bwU"
      },
      "source": [
        "#True"
      ],
      "execution_count": null,
      "outputs": []
    },
    {
      "cell_type": "code",
      "metadata": {
        "id": "L5ZaK-DE2eUr"
      },
      "source": [
        "#True"
      ],
      "execution_count": null,
      "outputs": []
    },
    {
      "cell_type": "code",
      "metadata": {
        "id": "IcLkq3Xk2ilp"
      },
      "source": [
        "#True"
      ],
      "execution_count": null,
      "outputs": []
    },
    {
      "cell_type": "code",
      "metadata": {
        "colab": {
          "base_uri": "https://localhost:8080/"
        },
        "id": "eWcGloWc2nNq",
        "outputId": "7ebbe822-0af2-4759-e2ff-7076ddc0f1bf"
      },
      "source": [
        "# print(3 => 4) : 지원하지 않은 연산자\n",
        "print(3 >= 4)"
      ],
      "execution_count": null,
      "outputs": [
        {
          "output_type": "stream",
          "text": [
            "False\n"
          ],
          "name": "stdout"
        }
      ]
    },
    {
      "cell_type": "code",
      "metadata": {
        "id": "qtDYAAF52sp5"
      },
      "source": [
        "if 4 < 3:\n",
        "    print(\"Hello World\")\n",
        "#조건을 만족하지 않기 때문에 코드 자체가 실행되지 않는다."
      ],
      "execution_count": null,
      "outputs": []
    },
    {
      "cell_type": "code",
      "metadata": {
        "colab": {
          "base_uri": "https://localhost:8080/"
        },
        "id": "9ZfSGv2D26jh",
        "outputId": "35a1a3ec-ee75-4f09-e84b-35f5ad188940"
      },
      "source": [
        "if 4 < 3:\n",
        "    print(\"Hello World.\")\n",
        "else:\n",
        "    print(\"Hi, there.\")"
      ],
      "execution_count": null,
      "outputs": [
        {
          "output_type": "stream",
          "text": [
            "Hi, there.\n"
          ],
          "name": "stdout"
        }
      ]
    },
    {
      "cell_type": "code",
      "metadata": {
        "colab": {
          "base_uri": "https://localhost:8080/"
        },
        "id": "btvyPeCJ4qbz",
        "outputId": "f83c4c82-a001-4f8d-f4fa-94e9ffcb7fa3"
      },
      "source": [
        "if True :\n",
        "    print (\"1\")\n",
        "    print (\"2\")\n",
        "else :\n",
        "    print(\"3\")\n",
        "print(\"4\")"
      ],
      "execution_count": null,
      "outputs": [
        {
          "output_type": "stream",
          "text": [
            "1\n",
            "2\n",
            "4\n"
          ],
          "name": "stdout"
        }
      ]
    },
    {
      "cell_type": "code",
      "metadata": {
        "colab": {
          "base_uri": "https://localhost:8080/"
        },
        "id": "aJEQKWoW4sIM",
        "outputId": "9f17947a-0b2e-420f-c5dd-e6694f5c4497"
      },
      "source": [
        "if True :\n",
        "    if False:\n",
        "        print(\"1\")\n",
        "        print(\"2\")\n",
        "    else:\n",
        "        print(\"3\")\n",
        "else :\n",
        "    print(\"4\")\n",
        "print(\"5\")"
      ],
      "execution_count": null,
      "outputs": [
        {
          "output_type": "stream",
          "text": [
            "3\n",
            "5\n"
          ],
          "name": "stdout"
        }
      ]
    },
    {
      "cell_type": "markdown",
      "metadata": {
        "id": "NWTMAJhL5a_k"
      },
      "source": [
        "#111~120"
      ]
    },
    {
      "cell_type": "code",
      "metadata": {
        "colab": {
          "base_uri": "https://localhost:8080/"
        },
        "id": "7WRDqI4b5b7n",
        "outputId": "0d5b583d-0a7d-4b17-9512-70c4bf335cdd"
      },
      "source": [
        "user = input(\"입력:\")\n",
        "print(user * 2)\n",
        "\n",
        "or\n",
        "# hi = input()\n",
        "# for i in range(2):\n",
        "#   print(hi, end=\"\")"
      ],
      "execution_count": null,
      "outputs": [
        {
          "output_type": "stream",
          "text": [
            "입력:안녕하세요\n",
            "안녕하세요안녕하세요\n"
          ],
          "name": "stdout"
        }
      ]
    },
    {
      "cell_type": "code",
      "metadata": {
        "colab": {
          "base_uri": "https://localhost:8080/"
        },
        "id": "0hoxmbmrV25l",
        "outputId": "999bacba-c95f-4ddc-9a32-ea49fab797b1"
      },
      "source": [
        "user = input(\"숫자를 입력하세요: \")\n",
        "print(int(user) + 10)"
      ],
      "execution_count": null,
      "outputs": [
        {
          "output_type": "stream",
          "text": [
            "숫자를 입력하세요: 30\n",
            "40\n"
          ],
          "name": "stdout"
        }
      ]
    },
    {
      "cell_type": "code",
      "metadata": {
        "colab": {
          "base_uri": "https://localhost:8080/"
        },
        "id": "JKT2q2RvWu7z",
        "outputId": "5eda5153-2a9d-42ce-f999-1b33b620ad56"
      },
      "source": [
        "user = input(\"숫자를 입력하세요: \")\n",
        "if int(user)%2 == 0:\n",
        "  print(\"짝수\")\n",
        "else : print(\"홀수\")"
      ],
      "execution_count": null,
      "outputs": [
        {
          "output_type": "stream",
          "text": [
            "숫자를 입력하세요: 30\n",
            "짝수\n"
          ],
          "name": "stdout"
        }
      ]
    },
    {
      "cell_type": "code",
      "metadata": {
        "colab": {
          "base_uri": "https://localhost:8080/"
        },
        "id": "6YRDqy3iW-rB",
        "outputId": "0b62cf04-940c-4556-8a28-6ef6f3b7d2e1"
      },
      "source": [
        "user = input(\"입력값: \")\n",
        "if int(user)+20 > 255:\n",
        "  print(255)\n",
        "else : print(int(user)+20)"
      ],
      "execution_count": null,
      "outputs": [
        {
          "output_type": "stream",
          "text": [
            "입력값: 240\n",
            "255\n"
          ],
          "name": "stdout"
        }
      ]
    },
    {
      "cell_type": "code",
      "metadata": {
        "colab": {
          "base_uri": "https://localhost:8080/"
        },
        "id": "odSJAkEnXW-H",
        "outputId": "cc6c1724-2997-4075-ffe7-3690d83273d2"
      },
      "source": [
        "user = int(input(\"숫자를 입력하세요: \")) - 20\n",
        "if user < 0:\n",
        "  print(0)\n",
        "elif user > 255:\n",
        "  print(255)\n",
        "else : print(user)\n"
      ],
      "execution_count": null,
      "outputs": [
        {
          "output_type": "stream",
          "text": [
            "숫자를 입력하세요: 15\n",
            "0\n"
          ],
          "name": "stdout"
        }
      ]
    },
    {
      "cell_type": "code",
      "metadata": {
        "colab": {
          "base_uri": "https://localhost:8080/"
        },
        "id": "jRrG-ApfX0s2",
        "outputId": "ee4d3000-900b-419c-e7cb-51d8208d707a"
      },
      "source": [
        "user = input(\"시간 입력: \")\n",
        "if user[-2:] == \"00\":\n",
        "  print(\"정각 입니다.\")\n",
        "else: print(\"정각이 아닙니다\")\n",
        "\n",
        "#or\n",
        "# user = input(\"시간 입력: \")\n",
        "# if user[3:] == \"00\":\n",
        "#   print(\"정각 입니다.\")\n",
        "# else: print(\"정각이 아닙니다\")"
      ],
      "execution_count": null,
      "outputs": [
        {
          "output_type": "stream",
          "text": [
            "시간 입력: 02:00\n",
            "정각 입니다.\n"
          ],
          "name": "stdout"
        }
      ]
    },
    {
      "cell_type": "code",
      "metadata": {
        "colab": {
          "base_uri": "https://localhost:8080/"
        },
        "id": "wpJi-ZnAg3hO",
        "outputId": "3642bcf5-6791-430b-c761-8a227377a18e"
      },
      "source": [
        "fruit = [\"사과\", \"포도\", \"홍시\"]\n",
        "user = input(\"입력: \")\n",
        "if user in fruit:\n",
        "  print(\"정답입니다.\")\n",
        "else: print(\"오답입니다.\")"
      ],
      "execution_count": null,
      "outputs": [
        {
          "output_type": "stream",
          "text": [
            "입력: 사과\n",
            "정답입니다.\n"
          ],
          "name": "stdout"
        }
      ]
    },
    {
      "cell_type": "code",
      "metadata": {
        "colab": {
          "base_uri": "https://localhost:8080/"
        },
        "id": "wU_1VtWlh25P",
        "outputId": "1baff1db-41ae-4432-8c3f-fce2a87608ba"
      },
      "source": [
        "warn_investment_list = [\"Microsoft\", \"Google\", \"Naver\", \"Kakao\", \"SAMSUNG\", \"LG\"]\n",
        "user = input(\"입력: \")\n",
        "if user in warn_investment_list:\n",
        "  print(\"투자 경고 종목입니다\")\n",
        "else: print(\"투자 경고 종목이 아닙니다\")"
      ],
      "execution_count": null,
      "outputs": [
        {
          "output_type": "stream",
          "text": [
            "입력: Microsoft\n",
            "투자 경고 종목입니다\n"
          ],
          "name": "stdout"
        }
      ]
    },
    {
      "cell_type": "code",
      "metadata": {
        "colab": {
          "base_uri": "https://localhost:8080/"
        },
        "id": "wYoFFRdCiGf7",
        "outputId": "3ee76272-256e-4240-97dc-090bb8baddf8"
      },
      "source": [
        "fruit = {\"봄\" : \"딸기\", \"여름\" : \"토마토\", \"가을\" : \"사과\"}\n",
        "user = input(\"제가 좋아하는 계절은: \")\n",
        "if user in fruit:\n",
        "  print(\"정답입니다.\")\n",
        "else: print(\"오답입니다.\")"
      ],
      "execution_count": null,
      "outputs": [
        {
          "output_type": "stream",
          "text": [
            "제가 좋아하는 계절은: 봄\n",
            "정답입니다.\n"
          ],
          "name": "stdout"
        }
      ]
    },
    {
      "cell_type": "code",
      "metadata": {
        "colab": {
          "base_uri": "https://localhost:8080/"
        },
        "id": "t0pBLaflk8r5",
        "outputId": "a84870a3-7cd6-417f-cb34-51c4e658b959"
      },
      "source": [
        "fruit = {\"봄\" : \"딸기\", \"여름\" : \"토마토\", \"가을\" : \"사과\"}\n",
        "user = input(\"좋아하는 과일은? \")\n",
        "if user in fruit.values():\n",
        "  print(\"정답입니다.\")\n",
        "else: print(\"오답입니다.\")"
      ],
      "execution_count": null,
      "outputs": [
        {
          "output_type": "stream",
          "text": [
            "좋아하는 과일은? 한라봉\n",
            "오답입니다.\n"
          ],
          "name": "stdout"
        }
      ]
    },
    {
      "cell_type": "markdown",
      "metadata": {
        "id": "w6nv6DdXmNAW"
      },
      "source": [
        "#121~130"
      ]
    },
    {
      "cell_type": "code",
      "metadata": {
        "colab": {
          "base_uri": "https://localhost:8080/"
        },
        "id": "_aQm_M_hmLZF",
        "outputId": "703bd2f8-509f-42b7-b55c-450634536c40"
      },
      "source": [
        "user = input(\"입력: \")\n",
        "if user.islower():\n",
        "  print(user.upper())\n",
        "else:\n",
        "  print(user.lower())"
      ],
      "execution_count": null,
      "outputs": [
        {
          "output_type": "stream",
          "text": [
            "입력: a\n",
            "A\n"
          ],
          "name": "stdout"
        }
      ]
    },
    {
      "cell_type": "code",
      "metadata": {
        "colab": {
          "base_uri": "https://localhost:8080/"
        },
        "id": "quP9HJlOmaZb",
        "outputId": "dc4b6ad5-dd0d-4829-c98c-6cb3013235fc"
      },
      "source": [
        "score = int(input(\"score: \"))\n",
        "if 81 <= score <= 100:\n",
        "    print(\"grade is A\")\n",
        "elif 61 <= score <= 80:\n",
        "    print(\"grade is B\")\n",
        "elif 41 <= score <= 60:\n",
        "    print(\"grade is C\")\n",
        "elif 21 <= score <= 40:\n",
        "    print(\"grade is D\")\n",
        "else:\n",
        "    print(\"grade is E\")"
      ],
      "execution_count": null,
      "outputs": [
        {
          "output_type": "stream",
          "text": [
            "score: 81\n",
            "grade is A\n"
          ],
          "name": "stdout"
        }
      ]
    },
    {
      "cell_type": "code",
      "metadata": {
        "colab": {
          "base_uri": "https://localhost:8080/"
        },
        "id": "6fwzpWzxxw3-",
        "outputId": "c2549178-4177-4c61-8bb7-8cda7e29f871"
      },
      "source": [
        "환율 = {\"달러\": 1167,\n",
        "        \"엔\": 1.096,\n",
        "        \"유로\": 1268,\n",
        "        \"위안\": 171}\n",
        "user = input(\"입력: \")\n",
        "num, currency = user.split()\n",
        "print(float(num) * 환율[currency], \"원\")"
      ],
      "execution_count": null,
      "outputs": [
        {
          "output_type": "stream",
          "text": [
            "입력: 100 엔\n",
            "109.60000000000001 원\n"
          ],
          "name": "stdout"
        }
      ]
    },
    {
      "cell_type": "code",
      "metadata": {
        "colab": {
          "base_uri": "https://localhost:8080/"
        },
        "id": "iHwbYxS76-7F",
        "outputId": "685d2fb2-1d65-4c41-9813-6a9037fcf478"
      },
      "source": [
        "num1 = int(input(\"입력: \"))\n",
        "num2 = int(input(\"입력: \"))\n",
        "num3 = int(input(\"입력: \"))\n",
        "user = set([num1, num2, num3])\n",
        "print(max(user))\n",
        "\n",
        "\n",
        "# or\n",
        "# num1 = input(\"input number1: \")\n",
        "# num2 = input(\"input number2: \")\n",
        "# num3 = input(\"input number3: \")\n",
        "# num1 = int(num1)\n",
        "# num2 = int(num2)\n",
        "# num3 = int(num3)\n",
        "\n",
        "# if num1 > num2 and num1 > num3:\n",
        "#     print(num1)\n",
        "# elif num2 > num1 and num2 > num3:\n",
        "#     print(num2)\n",
        "# else:\n",
        "#     print(num3)"
      ],
      "execution_count": null,
      "outputs": [
        {
          "output_type": "stream",
          "text": [
            "입력: 45\n",
            "입력: 23425\n",
            "입력: 131\n",
            "23425\n"
          ],
          "name": "stdout"
        }
      ]
    },
    {
      "cell_type": "code",
      "metadata": {
        "colab": {
          "base_uri": "https://localhost:8080/"
        },
        "id": "2ws8DaOp7qkM",
        "outputId": "02b05041-45e2-49df-da92-4d7b9c3d2009"
      },
      "source": [
        "number = input(\"휴대전화 번호 입력: \")\n",
        "num = number.split(\"-\")[0]\n",
        "if num == \"011\":\n",
        "    com = \"SKT\"\n",
        "elif num == \"016\":\n",
        "    com = \"KT\"\n",
        "elif num == \"019\":\n",
        "    com = \"LGU\"\n",
        "else:\n",
        "    com = \"알수없음\"\n",
        "print(f\"당신은 {com} 사용자입니다.\")"
      ],
      "execution_count": null,
      "outputs": [
        {
          "output_type": "stream",
          "text": [
            "휴대전화 번호 입력: 01078928789\n",
            "당신은 알수없음 사용자입니다.\n"
          ],
          "name": "stdout"
        }
      ]
    },
    {
      "cell_type": "code",
      "metadata": {
        "colab": {
          "base_uri": "https://localhost:8080/"
        },
        "id": "6YP-CUnVAa2H",
        "outputId": "b5189dbd-1cf4-4e88-c8a1-32452f491af1"
      },
      "source": [
        "number = input(\"입력: \")\n",
        "num = number[2:3]\n",
        "if num == \"0\" or num ==\"1\" or num ==\"2\":\n",
        "    gu = \"강북구\"\n",
        "elif num == \"3\" or num ==\"4\" or num ==\"5\":\n",
        "    gu = \"도봉구\"\n",
        "else:\n",
        "    gu = \"노원구\"\n",
        "print(f\"{gu}\")\n",
        "\n",
        "# or\n",
        "# 우편번호 = input(\"우편번호: \")\n",
        "# 우편번호 = 우편번호[:3]\n",
        "# if 우편번호 in [\"010\", \"011\", \"012\"]:\n",
        "#     print(\"강북구\")\n",
        "# elif 우편번호 in [\"014\", \"015\", \"016\"]:\n",
        "#     print(\"도봉구\")\n",
        "# else:\n",
        "#     print(\"노원구\")"
      ],
      "execution_count": null,
      "outputs": [
        {
          "output_type": "stream",
          "text": [
            "입력: 01400\n",
            "도봉구\n"
          ],
          "name": "stdout"
        }
      ]
    },
    {
      "cell_type": "code",
      "metadata": {
        "colab": {
          "base_uri": "https://localhost:8080/"
        },
        "id": "cK9PeT34ricR",
        "outputId": "9b084729-2b16-4c41-d1f9-f2419d9a07b5"
      },
      "source": [
        "user = input(\"입력: \")\n",
        "if user[-7:-6] == \"1\" or user[-7:-6] == \"3\":\n",
        "  print(\"남자\")\n",
        "else:\n",
        "  print(\"여자\")\n",
        "\n",
        "# or\n",
        "# 주민번호 = input(\"주민등록번호: \")\n",
        "# 주민번호 = 주민번호.split(\"-\")[1]\n",
        "# if 주민번호[0] == \"1\" or 주민번호[0] == \"3\":\n",
        "#     print(\"남자\")\n",
        "# else:\n",
        "#     print(\"여자\")"
      ],
      "execution_count": null,
      "outputs": [
        {
          "output_type": "stream",
          "text": [
            "입력: 821010-1635210\n",
            "남자\n"
          ],
          "name": "stdout"
        }
      ]
    },
    {
      "cell_type": "code",
      "metadata": {
        "colab": {
          "base_uri": "https://localhost:8080/"
        },
        "id": "cl2apjTOygZ8",
        "outputId": "5ad434ed-5820-49f5-9e50-c8cf9143d172"
      },
      "source": [
        "user = input(\"입력: \")\n",
        "if int(user[-6:-4]) in range(0, 8):\n",
        "  print(\"서울입니다.\")\n",
        "else:\n",
        "  print(\"서울이 아닙니다.\")\n",
        "\n",
        "# or\n",
        "# 주민번호 = input(\"주민등록번호: \")\n",
        "# 뒷자리 = 주민번호.split(\"-\")[1]\n",
        "# if 0 <= int(뒷자리[1:3]) <= 8:\n",
        "#     print(\"서울입니다.\")\n",
        "# else:\n",
        "#     print(\"서울이 아닙니다.\")\n",
        "\n",
        "# or\n",
        "# user = input(\"입력: \")\n",
        "# if user[-6:-4] in [\"00\", \"01\", \"02\", \"03\", \"04\", \"05\", \"06\", \"07\", \"08\"]:\n",
        "#   print(\"서울입니다.\")\n",
        "# else:\n",
        "#   print(\"서울이 아닙니다.\")\n"
      ],
      "execution_count": null,
      "outputs": [
        {
          "output_type": "stream",
          "text": [
            "입력: 861010-1015210\n",
            "서울입니다.\n"
          ],
          "name": "stdout"
        }
      ]
    },
    {
      "cell_type": "code",
      "metadata": {
        "id": "cmZa0dPkEnBj",
        "colab": {
          "base_uri": "https://localhost:8080/"
        },
        "outputId": "c5761308-8ca9-4d4f-bebd-9e77ee16d121"
      },
      "source": [
        "user = input(\"입력: \")\n",
        "num1 = int(user[0])*2 + int(user[1])*3 + int(user[2])*4 + int(user[3])*5 + int(user[4])*6 + int(user[5])*7 + int(user[7])*8 + int(user[8])*9 + int(user[9])*2 + int(user[10])*3 + int(user[11])*4 + int(user[12])*5\n",
        "#이렇게하면 오류! num1 = int(user[0]*2) + int(user[1]*3) + int(user[2]*4) + int(user[3]*5) + int(user[4]*6) + int(user[5]*7) + int(user[7]*8) + int(user[8]*9) + int(user[9]*2) + int(user[10]*3) + int(user[11]*4) + int(user[12]*5)\n",
        "num2 = 11 - (num1%11)\n",
        "print(num2)\n",
        "\n",
        "if num2 == int(user[13]) :\n",
        "  print(\"유효한 주민등록번호입니다.\")\n",
        "else :\n",
        "  print(\"유효하지 않은 주민등록번호입니다.\")"
      ],
      "execution_count": null,
      "outputs": [
        {
          "output_type": "stream",
          "text": [
            "입력: 821010-1635210\n",
            "4\n",
            "유효하지 않은 주민등록번호입니다.\n"
          ],
          "name": "stdout"
        }
      ]
    },
    {
      "cell_type": "code",
      "metadata": {
        "colab": {
          "base_uri": "https://localhost:8080/"
        },
        "id": "FgkEbvmMD9wf",
        "outputId": "54808787-a4ea-4b28-d4d8-85afcd200029"
      },
      "source": [
        "#map함수 설명\n",
        "lst = ['1','2','3']\n",
        "a = list(map(int, lst))\n",
        "a\n",
        "\n",
        "#예시\n",
        "user = input(\"입력: \")\n",
        "num = user.split(\"-\")\n",
        "num_int = list(map(int, num)) #map함수\n",
        "num_int[]"
      ],
      "execution_count": null,
      "outputs": [
        {
          "output_type": "execute_result",
          "data": {
            "text/plain": [
              "[1, 2, 3]"
            ]
          },
          "metadata": {
            "tags": []
          },
          "execution_count": 27
        }
      ]
    },
    {
      "cell_type": "code",
      "metadata": {
        "colab": {
          "base_uri": "https://localhost:8080/"
        },
        "id": "RADbwp5lcXpP",
        "outputId": "18ea4bbf-cb14-4b61-88d8-1b9a5ec898bd"
      },
      "source": [
        "import requests\n",
        "btc = requests.get(\"https://api.bithumb.com/public/ticker/\").json()['data']\n",
        "\n",
        "btc"
      ],
      "execution_count": null,
      "outputs": [
        {
          "output_type": "execute_result",
          "data": {
            "text/plain": [
              "{'acc_trade_value': '118271368769.8103',\n",
              " 'acc_trade_value_24H': '382783495057.0542',\n",
              " 'closing_price': '63230000',\n",
              " 'date': '1620954994670',\n",
              " 'fluctate_24H': '-461000',\n",
              " 'fluctate_rate_24H': '-0.72',\n",
              " 'max_price': '63500000',\n",
              " 'min_price': '60510000',\n",
              " 'opening_price': '63034000',\n",
              " 'prev_closing_price': '63068000',\n",
              " 'units_traded': '1901.39231253',\n",
              " 'units_traded_24H': '6098.0398144'}"
            ]
          },
          "metadata": {
            "tags": []
          },
          "execution_count": 4
        }
      ]
    },
    {
      "cell_type": "code",
      "metadata": {
        "colab": {
          "base_uri": "https://localhost:8080/"
        },
        "id": "cNIeyMXAcoNV",
        "outputId": "f2906b93-756c-426b-9d64-171d0eecac63"
      },
      "source": [
        "변동폭 = float(btc['max_price']) - float(btc['min_price'])\n",
        "시가 = float(btc['opening_price'])\n",
        "최고가 = float(btc['max_price'])\n",
        "\n",
        "if 시가 + 변동폭 > 최고가:\n",
        "  print(\"상승장\")\n",
        "else :\n",
        "  print(\"하락장\")"
      ],
      "execution_count": null,
      "outputs": [
        {
          "output_type": "stream",
          "text": [
            "상승장\n"
          ],
          "name": "stdout"
        }
      ]
    },
    {
      "cell_type": "markdown",
      "metadata": {
        "id": "goto0MC-gmt6"
      },
      "source": [
        "#131~140"
      ]
    },
    {
      "cell_type": "code",
      "metadata": {
        "colab": {
          "base_uri": "https://localhost:8080/"
        },
        "id": "8rqYCNGRgGWl",
        "outputId": "60f7a053-0625-4a66-ff16-693d2dff1ee6"
      },
      "source": [
        "과일 = [\"사과\", \"귤\", \"수박\"]\n",
        "for 변수 in 과일:\n",
        "    print(변수)"
      ],
      "execution_count": null,
      "outputs": [
        {
          "output_type": "stream",
          "text": [
            "사과\n",
            "귤\n",
            "수박\n"
          ],
          "name": "stdout"
        }
      ]
    },
    {
      "cell_type": "code",
      "metadata": {
        "colab": {
          "base_uri": "https://localhost:8080/"
        },
        "id": "BM8Z504NgpzT",
        "outputId": "424c32ed-70b3-4fb5-9aa7-13cb413a1d2e"
      },
      "source": [
        "과일 = [\"사과\", \"귤\", \"수박\"]\n",
        "for 변수 in 과일:\n",
        "  print(\"#####\")"
      ],
      "execution_count": null,
      "outputs": [
        {
          "output_type": "stream",
          "text": [
            "#####\n",
            "#####\n",
            "#####\n"
          ],
          "name": "stdout"
        }
      ]
    },
    {
      "cell_type": "code",
      "metadata": {
        "colab": {
          "base_uri": "https://localhost:8080/"
        },
        "id": "dFMEARgXgvKT",
        "outputId": "c9bcdd42-3886-4f86-b42d-dcea28febdb5"
      },
      "source": [
        "for 변수 in [\"A\", \"B\", \"C\"]:\n",
        "  print(변수)\n",
        "\n",
        "# =\n",
        "print(\"A\")\n",
        "print(\"B\")\n",
        "print(\"C\")"
      ],
      "execution_count": null,
      "outputs": [
        {
          "output_type": "stream",
          "text": [
            "A\n",
            "B\n",
            "C\n",
            "A\n",
            "B\n",
            "C\n"
          ],
          "name": "stdout"
        }
      ]
    },
    {
      "cell_type": "code",
      "metadata": {
        "colab": {
          "base_uri": "https://localhost:8080/"
        },
        "id": "KbCgZ4GLg-tE",
        "outputId": "4f443029-5587-408c-8bc7-2dcd27b55b44"
      },
      "source": [
        "for 변수 in [\"A\", \"B\", \"C\"]:\n",
        "  print(\"출력:\", 변수)\n",
        "\n",
        "# =\n",
        "print(\"출력:\", \"A\")\n",
        "print(\"출력:\", \"B\")\n",
        "print(\"출력:\", \"C\")"
      ],
      "execution_count": null,
      "outputs": [
        {
          "output_type": "stream",
          "text": [
            "출력: A\n",
            "출력: B\n",
            "출력: C\n",
            "출력: A\n",
            "출력: B\n",
            "출력: C\n"
          ],
          "name": "stdout"
        }
      ]
    },
    {
      "cell_type": "code",
      "metadata": {
        "colab": {
          "base_uri": "https://localhost:8080/"
        },
        "id": "x9JPjvADhq9g",
        "outputId": "d3d3bc8e-7aa4-4eea-8502-1b75ce431a4e"
      },
      "source": [
        "for 변수 in [\"A\", \"B\", \"C\"]:\n",
        "  b = 변수.lower()\n",
        "  print(\"변환:\", b)\n",
        "\n",
        "# =\n",
        "print(\"변환:\", \"A\".lower())\n",
        "print(\"변환:\", \"B\".lower())\n",
        "print(\"변환:\", \"C\".lower())"
      ],
      "execution_count": null,
      "outputs": [
        {
          "output_type": "stream",
          "text": [
            "변환: a\n",
            "변환: b\n",
            "변환: c\n",
            "변환: a\n",
            "변환: b\n",
            "변환: c\n"
          ],
          "name": "stdout"
        }
      ]
    },
    {
      "cell_type": "code",
      "metadata": {
        "colab": {
          "base_uri": "https://localhost:8080/"
        },
        "id": "f0bcrBrMh7Yo",
        "outputId": "c8ea4092-7e13-4368-f56c-0df9073efe4f"
      },
      "source": [
        "for 변수 in range(10, 31, 10):\n",
        "  print(변수)\n",
        "\n",
        "#or\n",
        "for 변수 in [10, 20, 30]:\n",
        "  print(변수)"
      ],
      "execution_count": null,
      "outputs": [
        {
          "output_type": "stream",
          "text": [
            "10\n",
            "20\n",
            "30\n",
            "10\n",
            "20\n",
            "30\n"
          ],
          "name": "stdout"
        }
      ]
    },
    {
      "cell_type": "code",
      "metadata": {
        "colab": {
          "base_uri": "https://localhost:8080/"
        },
        "id": "GN0JF4s1jTT6",
        "outputId": "b3d86e3f-7ce1-4c21-f505-b755a1e737ba"
      },
      "source": [
        "for x in range (1,4):\n",
        "  print(10*x)\n",
        "\n",
        "# =\n",
        "for 변수 in [10, 20, 30]:\n",
        "  print(변수)"
      ],
      "execution_count": null,
      "outputs": [
        {
          "output_type": "stream",
          "text": [
            "10\n",
            "20\n",
            "30\n",
            "10\n",
            "20\n",
            "30\n"
          ],
          "name": "stdout"
        }
      ]
    },
    {
      "cell_type": "code",
      "metadata": {
        "colab": {
          "base_uri": "https://localhost:8080/"
        },
        "id": "CodUH3FVkEzb",
        "outputId": "3f03d92f-385b-447d-82ec-ca3776cee14c"
      },
      "source": [
        "for x in range (1,4):\n",
        "  print(10*x)\n",
        "  print(\"-------\")"
      ],
      "execution_count": null,
      "outputs": [
        {
          "output_type": "stream",
          "text": [
            "10\n",
            "-------\n",
            "20\n",
            "-------\n",
            "30\n",
            "-------\n"
          ],
          "name": "stdout"
        }
      ]
    },
    {
      "cell_type": "code",
      "metadata": {
        "colab": {
          "base_uri": "https://localhost:8080/"
        },
        "id": "-Nl08iVVkaLp",
        "outputId": "ca65ee7b-1c99-4436-aaf7-1b1515ee6d48"
      },
      "source": [
        "print(\"++++\")\n",
        "for x in range (1,4):\n",
        "  print(10*x)"
      ],
      "execution_count": null,
      "outputs": [
        {
          "output_type": "stream",
          "text": [
            "++++\n",
            "10\n",
            "20\n",
            "30\n"
          ],
          "name": "stdout"
        }
      ]
    },
    {
      "cell_type": "code",
      "metadata": {
        "colab": {
          "base_uri": "https://localhost:8080/"
        },
        "id": "IcAw81WBoIS4",
        "outputId": "a04b8e1c-9662-4fa6-d694-0dcb99595190"
      },
      "source": [
        "for x in range (1,5):\n",
        "  print(\"-------\")"
      ],
      "execution_count": null,
      "outputs": [
        {
          "output_type": "stream",
          "text": [
            "-------\n",
            "-------\n",
            "-------\n",
            "-------\n"
          ],
          "name": "stdout"
        }
      ]
    },
    {
      "cell_type": "markdown",
      "metadata": {
        "id": "GCY2to1fod6I"
      },
      "source": [
        "#141~150"
      ]
    },
    {
      "cell_type": "code",
      "metadata": {
        "colab": {
          "base_uri": "https://localhost:8080/"
        },
        "id": "QGLebm6Kof0n",
        "outputId": "1089de70-68c1-47c3-e435-b40d8b89f827"
      },
      "source": [
        "리스트 = [100, 200, 300]\n",
        "for x in 리스트:\n",
        "  print(int(x) + 10)"
      ],
      "execution_count": null,
      "outputs": [
        {
          "output_type": "stream",
          "text": [
            "110\n",
            "210\n",
            "310\n"
          ],
          "name": "stdout"
        }
      ]
    },
    {
      "cell_type": "code",
      "metadata": {
        "colab": {
          "base_uri": "https://localhost:8080/"
        },
        "id": "WdnGph1bqNfW",
        "outputId": "917bcbee-addd-4b12-c223-926dbd6e28c1"
      },
      "source": [
        "리스트 = [\"김밥\", \"라면\", \"튀김\"]\n",
        "for x in 리스트:\n",
        "  print(\"오늘의 메뉴:\", x)\n",
        "\n",
        "#or\n",
        "리스트 = [\"김밥\", \"라면\", \"튀김\"]\n",
        "for 메뉴 in 리스트:\n",
        "  print(\"오늘의 메뉴: \" + 메뉴)"
      ],
      "execution_count": null,
      "outputs": [
        {
          "output_type": "stream",
          "text": [
            "오늘의 메뉴: 김밥\n",
            "오늘의 메뉴: 라면\n",
            "오늘의 메뉴: 튀김\n",
            "오늘의 메뉴: 김밥\n",
            "오늘의 메뉴: 라면\n",
            "오늘의 메뉴: 튀김\n"
          ],
          "name": "stdout"
        }
      ]
    },
    {
      "cell_type": "code",
      "metadata": {
        "colab": {
          "base_uri": "https://localhost:8080/"
        },
        "id": "tkmxS6THqxHq",
        "outputId": "696222e5-24a0-4426-a874-2f2a68d50108"
      },
      "source": [
        "리스트 = [\"SK하이닉스\", \"삼성전자\", \"LG전자\"]\n",
        "for x in 리스트:\n",
        "  print(len(x))"
      ],
      "execution_count": null,
      "outputs": [
        {
          "output_type": "stream",
          "text": [
            "6\n",
            "4\n",
            "4\n"
          ],
          "name": "stdout"
        }
      ]
    },
    {
      "cell_type": "code",
      "metadata": {
        "colab": {
          "base_uri": "https://localhost:8080/"
        },
        "id": "hkmLjENdq6jp",
        "outputId": "9acd8847-019a-4a2a-b7b1-990643e5a0d5"
      },
      "source": [
        "리스트 = ['dog', 'cat', 'parrot']\n",
        "for x in 리스트:\n",
        "  print(x, len(x))"
      ],
      "execution_count": null,
      "outputs": [
        {
          "output_type": "stream",
          "text": [
            "dog 3\n",
            "cat 3\n",
            "parrot 6\n"
          ],
          "name": "stdout"
        }
      ]
    },
    {
      "cell_type": "code",
      "metadata": {
        "colab": {
          "base_uri": "https://localhost:8080/"
        },
        "id": "UDzrQC9SrEVP",
        "outputId": "e416b7cd-a4f0-4cd3-e411-eac60551d69b"
      },
      "source": [
        "리스트 = ['dog', 'cat', 'parrot']\n",
        "for x in 리스트:\n",
        "  print(x[0])"
      ],
      "execution_count": null,
      "outputs": [
        {
          "output_type": "stream",
          "text": [
            "d\n",
            "c\n",
            "p\n"
          ],
          "name": "stdout"
        }
      ]
    },
    {
      "cell_type": "code",
      "metadata": {
        "colab": {
          "base_uri": "https://localhost:8080/"
        },
        "id": "dWOIq5TJr8-B",
        "outputId": "0aace5c1-f935-42f6-9bbf-c7ffc7386761"
      },
      "source": [
        "리스트 = [1, 2, 3]\n",
        "for x in 리스트:\n",
        "  print(\"3 x\", x)"
      ],
      "execution_count": null,
      "outputs": [
        {
          "output_type": "stream",
          "text": [
            "3 x 1\n",
            "3 x 2\n",
            "3 x 3\n"
          ],
          "name": "stdout"
        }
      ]
    },
    {
      "cell_type": "code",
      "metadata": {
        "colab": {
          "base_uri": "https://localhost:8080/"
        },
        "id": "HsFjV9Uvxe7N",
        "outputId": "7e954c8d-4db4-43be-c63a-ccb2233e5c93"
      },
      "source": [
        "리스트 = [\"가\", \"나\", \"다\", \"라\"]\n",
        "for 변수 in 리스트[: :2]:\n",
        "  print(변수)\n",
        "\n",
        "#or\n",
        "리스트 = [\"가\", \"나\", \"다\", \"라\"]\n",
        "for x in 리스트:\n",
        "   if x == \"가\" or x == \"다\" :\n",
        "      print(x)"
      ],
      "execution_count": null,
      "outputs": [
        {
          "output_type": "stream",
          "text": [
            "가\n",
            "다\n"
          ],
          "name": "stdout"
        }
      ]
    },
    {
      "cell_type": "code",
      "metadata": {
        "colab": {
          "base_uri": "https://localhost:8080/"
        },
        "id": "u0MoiRIRG6ht",
        "outputId": "c2aeba74-10af-4004-afae-ef81ddfc06db"
      },
      "source": [
        "리스트 = [\"가\", \"나\", \"다\", \"라\"]\n",
        "for 변수 in 리스트[::-1]:\n",
        "  print(변수)"
      ],
      "execution_count": null,
      "outputs": [
        {
          "output_type": "stream",
          "text": [
            "라\n",
            "다\n",
            "나\n",
            "가\n"
          ],
          "name": "stdout"
        }
      ]
    },
    {
      "cell_type": "code",
      "metadata": {
        "colab": {
          "base_uri": "https://localhost:8080/"
        },
        "id": "dbfJZFF8JWrg",
        "outputId": "ffb58a3c-8b63-4355-e03e-cda932648db2"
      },
      "source": [
        "리스트 = [3, -20, -3, 44]\n",
        "for 변수 in 리스트:\n",
        "  if 변수 < 0 :\n",
        "    print(변수)"
      ],
      "execution_count": null,
      "outputs": [
        {
          "output_type": "stream",
          "text": [
            "-20\n",
            "-3\n"
          ],
          "name": "stdout"
        }
      ]
    },
    {
      "cell_type": "code",
      "metadata": {
        "colab": {
          "base_uri": "https://localhost:8080/"
        },
        "id": "7dFOqyBNKOfU",
        "outputId": "39aa382d-d300-40b3-c862-8e58c4272e2a"
      },
      "source": [
        "리스트 = [3, 100, 23, 44]\n",
        "for 변수 in 리스트:\n",
        "  if 변수 % 3 == 0:\n",
        "    print(변수)"
      ],
      "execution_count": null,
      "outputs": [
        {
          "output_type": "stream",
          "text": [
            "3\n"
          ],
          "name": "stdout"
        }
      ]
    },
    {
      "cell_type": "code",
      "metadata": {
        "colab": {
          "base_uri": "https://localhost:8080/"
        },
        "id": "lL1Fb6-NLj23",
        "outputId": "453f99e7-f0ba-4c65-8c8f-22e3a7cf12a0"
      },
      "source": [
        "리스트 = [13, 21, 12, 14, 30, 18]\n",
        "for 변수 in 리스트:\n",
        "  if 변수 < 20 and 변수 % 3 == 0:\n",
        "    print(변수)"
      ],
      "execution_count": null,
      "outputs": [
        {
          "output_type": "stream",
          "text": [
            "12\n",
            "18\n"
          ],
          "name": "stdout"
        }
      ]
    },
    {
      "cell_type": "code",
      "metadata": {
        "colab": {
          "base_uri": "https://localhost:8080/"
        },
        "id": "c3fqqNCZYrH2",
        "outputId": "e9731a37-374a-4bae-fe7f-adfeccd15704"
      },
      "source": [
        "리스트 = [\"I\", \"study\", \"python\", \"language\", \"!\"]\n",
        "for 변수 in 리스트:\n",
        "  if len(변수) > 2:\n",
        "    print(변수)"
      ],
      "execution_count": null,
      "outputs": [
        {
          "output_type": "stream",
          "text": [
            "study\n",
            "python\n",
            "language\n"
          ],
          "name": "stdout"
        }
      ]
    },
    {
      "cell_type": "code",
      "metadata": {
        "colab": {
          "base_uri": "https://localhost:8080/"
        },
        "id": "U0MPcASKZM8r",
        "outputId": "4bac729b-dd8b-4c44-c2b7-79e64b31d00a"
      },
      "source": [
        "리스트 = [\"A\", \"b\", \"c\", \"D\"]\n",
        "for 변수 in 리스트:\n",
        "  if 변수.isupper() == True:\n",
        "    print(변수)\n",
        "\n",
        "#or\n",
        "리스트 = [\"A\", \"b\", \"c\", \"D\"]\n",
        "for 변수 in 리스트:\n",
        "  if 변수.isupper():\n",
        "    print(변수)"
      ],
      "execution_count": null,
      "outputs": [
        {
          "output_type": "stream",
          "text": [
            "A\n",
            "D\n",
            "A\n",
            "D\n"
          ],
          "name": "stdout"
        }
      ]
    },
    {
      "cell_type": "code",
      "metadata": {
        "colab": {
          "base_uri": "https://localhost:8080/"
        },
        "id": "zLAh9I5-Zzbk",
        "outputId": "ca24472b-9def-4d3b-8003-91f3ad1b9e0f"
      },
      "source": [
        "리스트 = [\"A\", \"b\", \"c\", \"D\"]\n",
        "for 변수 in 리스트:\n",
        "  if 변수.isupper() == False:\n",
        "    print(변수)\n",
        "\n",
        "#or\n",
        "리스트 = [\"A\", \"b\", \"c\", \"D\"]\n",
        "for 변수 in 리스트:\n",
        "  if 변수.isupper() != True:\n",
        "    print(변수)\n",
        "\n",
        "#or\n",
        "리스트 = [\"A\", \"b\", \"c\", \"D\"]\n",
        "for 변수 in 리스트:\n",
        "  if not 변수.isupper():\n",
        "    print(변수)"
      ],
      "execution_count": null,
      "outputs": [
        {
          "output_type": "stream",
          "text": [
            "b\n",
            "c\n",
            "b\n",
            "c\n",
            "b\n",
            "c\n"
          ],
          "name": "stdout"
        }
      ]
    },
    {
      "cell_type": "code",
      "metadata": {
        "colab": {
          "base_uri": "https://localhost:8080/"
        },
        "id": "7vON_R1haDaw",
        "outputId": "5c860ed4-757e-4e20-c1be-0190494de715"
      },
      "source": [
        "리스트 = ['dog', 'cat', 'parrot']\n",
        "for 변수 in 리스트:\n",
        "  print(변수[0].upper() + 변수[1:])"
      ],
      "execution_count": null,
      "outputs": [
        {
          "output_type": "stream",
          "text": [
            "Dog\n",
            "Cat\n",
            "Parrot\n"
          ],
          "name": "stdout"
        }
      ]
    },
    {
      "cell_type": "code",
      "metadata": {
        "colab": {
          "base_uri": "https://localhost:8080/"
        },
        "id": "Yn1hCVZsgNiZ",
        "outputId": "5f12423b-da15-4d57-e78b-29be7014fb56"
      },
      "source": [
        "리스트 = ['hello.py', 'ex01.py', 'intro.hwp']\n",
        "for 변수 in 리스트:\n",
        "   print(변수.split(\".\")[0])"
      ],
      "execution_count": null,
      "outputs": [
        {
          "output_type": "stream",
          "text": [
            "hello\n",
            "ex01\n",
            "intro\n"
          ],
          "name": "stdout"
        }
      ]
    },
    {
      "cell_type": "code",
      "metadata": {
        "colab": {
          "base_uri": "https://localhost:8080/"
        },
        "id": "CBJDAM3Ri59E",
        "outputId": "e1f4ad97-d528-4c51-cff2-ca1ca8bb911e"
      },
      "source": [
        "리스트 = ['intra.h', 'intra.c', 'define.h', 'run.py']\n",
        "for 변수 in 리스트:\n",
        "   if 변수.split(\".\")[1] == \"h\":\n",
        "     print(변수)"
      ],
      "execution_count": null,
      "outputs": [
        {
          "output_type": "stream",
          "text": [
            "intra.h\n",
            "define.h\n"
          ],
          "name": "stdout"
        }
      ]
    },
    {
      "cell_type": "code",
      "metadata": {
        "colab": {
          "base_uri": "https://localhost:8080/"
        },
        "id": "y5S-keSRjHwR",
        "outputId": "caad8bbd-d5a7-42b8-c3ce-37ebffd4f2d1"
      },
      "source": [
        "리스트 = ['intra.h', 'intra.c', 'define.h', 'run.py']\n",
        "for 변수 in 리스트:\n",
        "   if 변수.split(\".\")[1] == \"h\" or 변수.split(\".\")[1] == \"c\" :\n",
        "     print(변수)"
      ],
      "execution_count": null,
      "outputs": [
        {
          "output_type": "stream",
          "text": [
            "intra.h\n",
            "intra.c\n",
            "define.h\n"
          ],
          "name": "stdout"
        }
      ]
    },
    {
      "cell_type": "code",
      "metadata": {
        "colab": {
          "base_uri": "https://localhost:8080/"
        },
        "id": "t5AUOkupjRdX",
        "outputId": "cf3c4ba3-dea4-4c22-a618-781c1fc16d44"
      },
      "source": [
        "for i in range(0, 100):\n",
        "  print(i, end='\\n')"
      ],
      "execution_count": null,
      "outputs": [
        {
          "output_type": "stream",
          "text": [
            "0\n",
            "1\n",
            "2\n",
            "3\n",
            "4\n",
            "5\n",
            "6\n",
            "7\n",
            "8\n",
            "9\n",
            "10\n",
            "11\n",
            "12\n",
            "13\n",
            "14\n",
            "15\n",
            "16\n",
            "17\n",
            "18\n",
            "19\n",
            "20\n",
            "21\n",
            "22\n",
            "23\n",
            "24\n",
            "25\n",
            "26\n",
            "27\n",
            "28\n",
            "29\n",
            "30\n",
            "31\n",
            "32\n",
            "33\n",
            "34\n",
            "35\n",
            "36\n",
            "37\n",
            "38\n",
            "39\n",
            "40\n",
            "41\n",
            "42\n",
            "43\n",
            "44\n",
            "45\n",
            "46\n",
            "47\n",
            "48\n",
            "49\n",
            "50\n",
            "51\n",
            "52\n",
            "53\n",
            "54\n",
            "55\n",
            "56\n",
            "57\n",
            "58\n",
            "59\n",
            "60\n",
            "61\n",
            "62\n",
            "63\n",
            "64\n",
            "65\n",
            "66\n",
            "67\n",
            "68\n",
            "69\n",
            "70\n",
            "71\n",
            "72\n",
            "73\n",
            "74\n",
            "75\n",
            "76\n",
            "77\n",
            "78\n",
            "79\n",
            "80\n",
            "81\n",
            "82\n",
            "83\n",
            "84\n",
            "85\n",
            "86\n",
            "87\n",
            "88\n",
            "89\n",
            "90\n",
            "91\n",
            "92\n",
            "93\n",
            "94\n",
            "95\n",
            "96\n",
            "97\n",
            "98\n",
            "99\n"
          ],
          "name": "stdout"
        }
      ]
    },
    {
      "cell_type": "code",
      "metadata": {
        "colab": {
          "base_uri": "https://localhost:8080/"
        },
        "id": "fDZp0srJj2cg",
        "outputId": "0f86c363-8a39-41a6-fe81-6c58ed7f5b80"
      },
      "source": [
        "for i in range(2002, 2051, 4):\n",
        "  print(i)"
      ],
      "execution_count": null,
      "outputs": [
        {
          "output_type": "stream",
          "text": [
            "2002\n",
            "2006\n",
            "2010\n",
            "2014\n",
            "2018\n",
            "2022\n",
            "2026\n",
            "2030\n",
            "2034\n",
            "2038\n",
            "2042\n",
            "2046\n",
            "2050\n"
          ],
          "name": "stdout"
        }
      ]
    },
    {
      "cell_type": "code",
      "metadata": {
        "colab": {
          "base_uri": "https://localhost:8080/"
        },
        "id": "1lzyHsCDkIt4",
        "outputId": "c58167d9-ca37-4507-ebf0-5d5fc1ecdfd7"
      },
      "source": [
        "for i in range(3, 31, 3):\n",
        "  print(i)"
      ],
      "execution_count": null,
      "outputs": [
        {
          "output_type": "stream",
          "text": [
            "3\n",
            "6\n",
            "9\n",
            "12\n",
            "15\n",
            "18\n",
            "21\n",
            "24\n",
            "27\n",
            "30\n"
          ],
          "name": "stdout"
        }
      ]
    },
    {
      "cell_type": "code",
      "metadata": {
        "colab": {
          "base_uri": "https://localhost:8080/"
        },
        "id": "vCL8eMqWkR83",
        "outputId": "84865583-b24a-4d79-bab0-ce6566659111"
      },
      "source": [
        "for i in range(99, -1, -1):\n",
        "  print(i)"
      ],
      "execution_count": null,
      "outputs": [
        {
          "output_type": "stream",
          "text": [
            "99\n",
            "98\n",
            "97\n",
            "96\n",
            "95\n",
            "94\n",
            "93\n",
            "92\n",
            "91\n",
            "90\n",
            "89\n",
            "88\n",
            "87\n",
            "86\n",
            "85\n",
            "84\n",
            "83\n",
            "82\n",
            "81\n",
            "80\n",
            "79\n",
            "78\n",
            "77\n",
            "76\n",
            "75\n",
            "74\n",
            "73\n",
            "72\n",
            "71\n",
            "70\n",
            "69\n",
            "68\n",
            "67\n",
            "66\n",
            "65\n",
            "64\n",
            "63\n",
            "62\n",
            "61\n",
            "60\n",
            "59\n",
            "58\n",
            "57\n",
            "56\n",
            "55\n",
            "54\n",
            "53\n",
            "52\n",
            "51\n",
            "50\n",
            "49\n",
            "48\n",
            "47\n",
            "46\n",
            "45\n",
            "44\n",
            "43\n",
            "42\n",
            "41\n",
            "40\n",
            "39\n",
            "38\n",
            "37\n",
            "36\n",
            "35\n",
            "34\n",
            "33\n",
            "32\n",
            "31\n",
            "30\n",
            "29\n",
            "28\n",
            "27\n",
            "26\n",
            "25\n",
            "24\n",
            "23\n",
            "22\n",
            "21\n",
            "20\n",
            "19\n",
            "18\n",
            "17\n",
            "16\n",
            "15\n",
            "14\n",
            "13\n",
            "12\n",
            "11\n",
            "10\n",
            "9\n",
            "8\n",
            "7\n",
            "6\n",
            "5\n",
            "4\n",
            "3\n",
            "2\n",
            "1\n",
            "0\n"
          ],
          "name": "stdout"
        }
      ]
    },
    {
      "cell_type": "code",
      "metadata": {
        "colab": {
          "base_uri": "https://localhost:8080/"
        },
        "id": "cjYEQT9IkcTT",
        "outputId": "697d6648-369b-40f4-af83-b56bb2e36f0e"
      },
      "source": [
        "#or\n",
        "for i in range(100):\n",
        "    print(99 - i)"
      ],
      "execution_count": null,
      "outputs": [
        {
          "output_type": "stream",
          "text": [
            "99\n",
            "98\n",
            "97\n",
            "96\n",
            "95\n",
            "94\n",
            "93\n",
            "92\n",
            "91\n",
            "90\n",
            "89\n",
            "88\n",
            "87\n",
            "86\n",
            "85\n",
            "84\n",
            "83\n",
            "82\n",
            "81\n",
            "80\n",
            "79\n",
            "78\n",
            "77\n",
            "76\n",
            "75\n",
            "74\n",
            "73\n",
            "72\n",
            "71\n",
            "70\n",
            "69\n",
            "68\n",
            "67\n",
            "66\n",
            "65\n",
            "64\n",
            "63\n",
            "62\n",
            "61\n",
            "60\n",
            "59\n",
            "58\n",
            "57\n",
            "56\n",
            "55\n",
            "54\n",
            "53\n",
            "52\n",
            "51\n",
            "50\n",
            "49\n",
            "48\n",
            "47\n",
            "46\n",
            "45\n",
            "44\n",
            "43\n",
            "42\n",
            "41\n",
            "40\n",
            "39\n",
            "38\n",
            "37\n",
            "36\n",
            "35\n",
            "34\n",
            "33\n",
            "32\n",
            "31\n",
            "30\n",
            "29\n",
            "28\n",
            "27\n",
            "26\n",
            "25\n",
            "24\n",
            "23\n",
            "22\n",
            "21\n",
            "20\n",
            "19\n",
            "18\n",
            "17\n",
            "16\n",
            "15\n",
            "14\n",
            "13\n",
            "12\n",
            "11\n",
            "10\n",
            "9\n",
            "8\n",
            "7\n",
            "6\n",
            "5\n",
            "4\n",
            "3\n",
            "2\n",
            "1\n",
            "0\n"
          ],
          "name": "stdout"
        }
      ]
    },
    {
      "cell_type": "code",
      "metadata": {
        "colab": {
          "base_uri": "https://localhost:8080/"
        },
        "id": "wbYFBGIpkkqm",
        "outputId": "3402ff55-2abd-42d8-c040-2d02d15dd7f9"
      },
      "source": [
        "for num in range(10):\n",
        "    print(num / 10)"
      ],
      "execution_count": null,
      "outputs": [
        {
          "output_type": "stream",
          "text": [
            "0.0\n",
            "0.1\n",
            "0.2\n",
            "0.3\n",
            "0.4\n",
            "0.5\n",
            "0.6\n",
            "0.7\n",
            "0.8\n",
            "0.9\n"
          ],
          "name": "stdout"
        }
      ]
    },
    {
      "cell_type": "code",
      "metadata": {
        "colab": {
          "base_uri": "https://localhost:8080/"
        },
        "id": "EYshBjWEksI1",
        "outputId": "814cf7e5-964e-4721-c4ba-353dbe065cbd"
      },
      "source": [
        "for x in range(1, 10):\n",
        "  print (\"3\", \"x\", x, \"=\", x*3)"
      ],
      "execution_count": null,
      "outputs": [
        {
          "output_type": "stream",
          "text": [
            "3 x 1 = 3\n",
            "3 x 2 = 6\n",
            "3 x 3 = 9\n",
            "3 x 4 = 12\n",
            "3 x 5 = 15\n",
            "3 x 6 = 18\n",
            "3 x 7 = 21\n",
            "3 x 8 = 24\n",
            "3 x 9 = 27\n"
          ],
          "name": "stdout"
        }
      ]
    },
    {
      "cell_type": "code",
      "metadata": {
        "colab": {
          "base_uri": "https://localhost:8080/"
        },
        "id": "NRI-7bwKlGDF",
        "outputId": "12bf5471-efb1-4860-fea8-743722644747"
      },
      "source": [
        "for x in range(1, 10):\n",
        "  if x % 2 != 0:\n",
        "    print(\"3\", \"x\", x, \"=\", x*3)"
      ],
      "execution_count": null,
      "outputs": [
        {
          "output_type": "stream",
          "text": [
            "3 x 1 = 3\n",
            "3 x 3 = 9\n",
            "3 x 5 = 15\n",
            "3 x 7 = 21\n",
            "3 x 9 = 27\n"
          ],
          "name": "stdout"
        }
      ]
    },
    {
      "cell_type": "code",
      "metadata": {
        "colab": {
          "base_uri": "https://localhost:8080/"
        },
        "id": "2HwrJMUaqE5s",
        "outputId": "3a9d7d2d-b627-4c33-83dc-4a12e1eca71c"
      },
      "source": [
        "#or\n",
        "for x in range(1, 10, 2):\n",
        "    print(\"3\", \"x\", x, \"=\", x*3)"
      ],
      "execution_count": null,
      "outputs": [
        {
          "output_type": "stream",
          "text": [
            "3 x 1 = 3\n",
            "3 x 3 = 9\n",
            "3 x 5 = 15\n",
            "3 x 7 = 21\n",
            "3 x 9 = 27\n"
          ],
          "name": "stdout"
        }
      ]
    },
    {
      "cell_type": "code",
      "metadata": {
        "colab": {
          "base_uri": "https://localhost:8080/"
        },
        "id": "hEyhXyY_4t6D",
        "outputId": "2ff840d5-de71-44f4-eb63-3f3aab8fcd92"
      },
      "source": [
        "total = 0\n",
        "for x in range(11):\n",
        "  total += x\n",
        "print(total)"
      ],
      "execution_count": null,
      "outputs": [
        {
          "output_type": "stream",
          "text": [
            "55\n"
          ],
          "name": "stdout"
        }
      ]
    },
    {
      "cell_type": "code",
      "metadata": {
        "colab": {
          "base_uri": "https://localhost:8080/"
        },
        "id": "VmKb_bo61Kro",
        "outputId": "191f297c-dda5-4e5e-81ca-8bbda185b7d3"
      },
      "source": [
        "#or\n",
        "total = 0\n",
        "for x in range(11):\n",
        "  total = total + x\n",
        "print(total)"
      ],
      "execution_count": null,
      "outputs": [
        {
          "output_type": "stream",
          "text": [
            "55\n"
          ],
          "name": "stdout"
        }
      ]
    },
    {
      "cell_type": "code",
      "metadata": {
        "colab": {
          "base_uri": "https://localhost:8080/"
        },
        "id": "NFHXMKrQ4e6p",
        "outputId": "855e8e33-f704-4de1-d1bc-99e42dc43665"
      },
      "source": [
        "total = 0\n",
        "for x in range(1, 11, 2):\n",
        "  total += x\n",
        "print(total)"
      ],
      "execution_count": null,
      "outputs": [
        {
          "output_type": "stream",
          "text": [
            "25\n"
          ],
          "name": "stdout"
        }
      ]
    },
    {
      "cell_type": "code",
      "metadata": {
        "colab": {
          "base_uri": "https://localhost:8080/"
        },
        "id": "d7WopJ7u40xB",
        "outputId": "78502454-df28-4639-966a-4013c715fe67"
      },
      "source": [
        "total = 1\n",
        "for x in range(1, 11):\n",
        "  total *= x\n",
        "print(total)"
      ],
      "execution_count": null,
      "outputs": [
        {
          "output_type": "stream",
          "text": [
            "3628800\n"
          ],
          "name": "stdout"
        }
      ]
    },
    {
      "cell_type": "code",
      "metadata": {
        "colab": {
          "base_uri": "https://localhost:8080/"
        },
        "id": "Js_pJ2hF5EwM",
        "outputId": "0167be19-96e0-4fc3-d96e-3ad5dea8a5c1"
      },
      "source": [
        "price_list = [32100, 32150, 32000, 32500]\n",
        "for i in price_list:\n",
        "  print(i)\n",
        "\n",
        "#or\n",
        "for i in range(4):\n",
        "    print(price_list[i])"
      ],
      "execution_count": null,
      "outputs": [
        {
          "output_type": "stream",
          "text": [
            "32100\n",
            "32150\n",
            "32000\n",
            "32500\n",
            "32100\n",
            "32150\n",
            "32000\n",
            "32500\n"
          ],
          "name": "stdout"
        }
      ]
    },
    {
      "cell_type": "code",
      "metadata": {
        "colab": {
          "base_uri": "https://localhost:8080/"
        },
        "id": "ucuMkKGh8hFN",
        "outputId": "e44e3b15-ea38-4d14-c2d0-b5ac77984050"
      },
      "source": [
        "price_list = [32100, 32150, 32000, 32500]\n",
        "for i in range(4):\n",
        "    print(i, price_list[i])"
      ],
      "execution_count": null,
      "outputs": [
        {
          "output_type": "stream",
          "text": [
            "0 32100\n",
            "1 32150\n",
            "2 32000\n",
            "3 32500\n",
            "0 32100\n",
            "1 32150\n",
            "2 32000\n",
            "3 32500\n"
          ],
          "name": "stdout"
        }
      ]
    },
    {
      "cell_type": "code",
      "metadata": {
        "colab": {
          "base_uri": "https://localhost:8080/"
        },
        "id": "6hWaoN2b8t71",
        "outputId": "f192dfc4-3347-4e15-84a6-e2ad8ae6c2aa"
      },
      "source": [
        "#or\n",
        "for i, data in enumerate(price_list): #enumerate 함수\n",
        "    print(i, data)\n",
        "\n",
        "# enumerate 함수\n",
        "data = enumerate((1, 2, 3))\n",
        "print(data, type(data))\n",
        "\n",
        "for i, f in data:\n",
        "    print(i, \":\", f)\n",
        "\n",
        "dict1 = {'이름': '한사람', '나이': 33}\n",
        "data = enumerate(dict1)\n",
        "for i, key in data:\n",
        "    print(key, dict1[key])\n",
        "print()"
      ],
      "execution_count": null,
      "outputs": [
        {
          "output_type": "stream",
          "text": [
            "0 32100\n",
            "1 32150\n",
            "2 32000\n",
            "3 32500\n",
            "<enumerate object at 0x7f9ed2c11320> <class 'enumerate'>\n",
            "0 : 1\n",
            "1 : 2\n",
            "2 : 3\n",
            "이름 한사람\n",
            "나이 33\n",
            "\n"
          ],
          "name": "stdout"
        }
      ]
    },
    {
      "cell_type": "code",
      "metadata": {
        "colab": {
          "base_uri": "https://localhost:8080/"
        },
        "id": "NDiseEZg-Fgv",
        "outputId": "18e54f56-c33c-4b27-f72d-bdf18f31a7e2"
      },
      "source": [
        "price_list = [32100, 32150, 32000, 32500]\n",
        "for i in range(1, 4):\n",
        "    print(90 + 10 * i, price_list[i])"
      ],
      "execution_count": null,
      "outputs": [
        {
          "output_type": "stream",
          "text": [
            "100 32150\n",
            "110 32000\n",
            "120 32500\n"
          ],
          "name": "stdout"
        }
      ]
    },
    {
      "cell_type": "code",
      "metadata": {
        "id": "55A2HFoRCepr"
      },
      "source": [
        "my_list = [\"가\", \"나\", \"다\", \"라\"]\n",
        "for i in range(1, 4):"
      ],
      "execution_count": null,
      "outputs": []
    }
  ]
}