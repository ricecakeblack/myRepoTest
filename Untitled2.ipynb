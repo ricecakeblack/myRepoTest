{
  "nbformat": 4,
  "nbformat_minor": 0,
  "metadata": {
    "colab": {
      "provenance": [],
      "toc_visible": true,
      "mount_file_id": "1DoBglUlLJBw0C4MtD2OV42T6OBf_Q0VA",
      "authorship_tag": "ABX9TyOjJ0P+wjRveIEWesdMPX+V",
      "include_colab_link": true
    },
    "kernelspec": {
      "name": "python3",
      "display_name": "Python 3"
    },
    "language_info": {
      "name": "python"
    }
  },
  "cells": [
    {
      "cell_type": "markdown",
      "metadata": {
        "id": "view-in-github",
        "colab_type": "text"
      },
      "source": [
        "<a href=\"https://colab.research.google.com/github/ricecakeblack/myRepoTest/blob/main/Untitled2.ipynb\" target=\"_parent\"><img src=\"https://colab.research.google.com/assets/colab-badge.svg\" alt=\"Open In Colab\"/></a>"
      ]
    },
    {
      "cell_type": "code",
      "execution_count": null,
      "metadata": {
        "id": "N_xBDBtyQDJN"
      },
      "outputs": [],
      "source": []
    },
    {
      "cell_type": "markdown",
      "source": [],
      "metadata": {
        "id": "CH-OnuYkQHok"
      }
    },
    {
      "cell_type": "markdown",
      "source": [
        "#파일명 3개를 생성\n",
        "파일명: a.txt, b.txt, c.txt, a.jpg, b.gif\n"
      ],
      "metadata": {
        "id": "OcgNBRc8QKXy"
      }
    },
    {
      "cell_type": "code",
      "source": [
        "!touch a.txt b.txt c.txt a.jpg b.gif"
      ],
      "metadata": {
        "id": "HgfqyU8aQV4R"
      },
      "execution_count": null,
      "outputs": []
    },
    {
      "cell_type": "code",
      "source": [
        "!ls"
      ],
      "metadata": {
        "colab": {
          "base_uri": "https://localhost:8080/"
        },
        "id": "QF56ojKxQxKI",
        "outputId": "95ea47b2-c534-4a22-cfca-d62c9e205324"
      },
      "execution_count": null,
      "outputs": [
        {
          "output_type": "stream",
          "name": "stdout",
          "text": [
            "a.jpg  a.txt  b.gif  b.txt  c.txt  sample_data\n"
          ]
        }
      ]
    },
    {
      "cell_type": "code",
      "source": [
        "#파일 리스트에서 .txt만 골라내기\n",
        "import os\n",
        "fileList = os.listdir('.')\n",
        "fileList"
      ],
      "metadata": {
        "colab": {
          "base_uri": "https://localhost:8080/"
        },
        "id": "lA3rKeCyQ0y5",
        "outputId": "da04d463-b1fd-460d-f53e-43535d4db76a"
      },
      "execution_count": null,
      "outputs": [
        {
          "output_type": "execute_result",
          "data": {
            "text/plain": [
              "['.config', 'c.txt', 'b.gif', 'a.txt', 'b.txt', 'a.jpg', 'sample_data']"
            ]
          },
          "metadata": {},
          "execution_count": 25
        }
      ]
    },
    {
      "cell_type": "code",
      "source": [
        "# txt파일명만 골라서 출력하기\n",
        "# splitext 함수를 처음 사용하는 사람은 반드시 먼저 사용법을 익히고 간단히 실행까지 해보고 응용하기\n",
        "\n",
        "os.path.splitext(fileList[0])\n"
      ],
      "metadata": {
        "colab": {
          "base_uri": "https://localhost:8080/"
        },
        "id": "XL9r32tVQe62",
        "outputId": "9b4f283e-c06d-46d8-9310-cbb1a02525fe"
      },
      "execution_count": null,
      "outputs": [
        {
          "output_type": "execute_result",
          "data": {
            "text/plain": [
              "('c', '.txt')"
            ]
          },
          "metadata": {},
          "execution_count": 13
        }
      ]
    },
    {
      "cell_type": "code",
      "source": [
        "# 리스트에서 파일명을 하나씩 가져와서 확장자가 .txt인지 확인하고 .txt인 파일명만 출력하기, 새로운 리스트에 담기\n",
        "txtList = []\n",
        "\n",
        "for filename in fileList:\n",
        "    #print(filename)\n",
        "    splitName = os.path.splitext(filename)\n",
        "    #print(splitName[1])\n",
        "    if splitName[1]== '.txt':\n",
        "        txtList.append(filename)\n",
        "        #print(filename)\n",
        "\n",
        "txtList"
      ],
      "metadata": {
        "colab": {
          "base_uri": "https://localhost:8080/"
        },
        "id": "sUhBJeXdWS44",
        "outputId": "5443cf01-be33-464f-c1c8-43bb0654e53b"
      },
      "execution_count": null,
      "outputs": [
        {
          "output_type": "execute_result",
          "data": {
            "text/plain": [
              "['c.txt', 'a.txt', 'b.txt']"
            ]
          },
          "metadata": {},
          "execution_count": 20
        }
      ]
    },
    {
      "cell_type": "code",
      "source": [
        "# 함수로 만들기(인수값으로 확장자만 전달하면 리스트로 골라담아주는)\n",
        "def selList(fileList, extName):\n",
        "    resultList = []\n",
        "\n",
        "    for filename in fileList:\n",
        "        splitName = os.path.splitext(filename)\n",
        "\n",
        "        if splitName[1]== '.txt':\n",
        "            resultList.append(filename)\n",
        "\n",
        "    return resultList\n"
      ],
      "metadata": {
        "id": "tsVodaI1WrSS"
      },
      "execution_count": null,
      "outputs": []
    },
    {
      "cell_type": "code",
      "source": [
        "resultList = selList(fileList,'.jpg')\n",
        "resultList"
      ],
      "metadata": {
        "colab": {
          "base_uri": "https://localhost:8080/"
        },
        "id": "cOLYQuRnYki0",
        "outputId": "e5dbe980-b128-4dd0-96a2-c1b561d38138"
      },
      "execution_count": null,
      "outputs": [
        {
          "output_type": "execute_result",
          "data": {
            "text/plain": [
              "['c.txt', 'a.txt', 'b.txt']"
            ]
          },
          "metadata": {},
          "execution_count": 33
        }
      ]
    },
    {
      "cell_type": "code",
      "source": [
        "# 파일의 내용을 한줄씩 읽어온다\n",
        "\n",
        "filename = '/content/a.txt'\n",
        "f = open(filename, 'r')\n",
        "line = f.readline()\n",
        "print(line)\n",
        "line = f.readline()\n",
        "print(line)\n",
        "f.close()\n"
      ],
      "metadata": {
        "colab": {
          "base_uri": "https://localhost:8080/"
        },
        "id": "ZUHwQXaBZCP5",
        "outputId": "041925a9-aec6-4086-adb9-3a05c3200835"
      },
      "execution_count": null,
      "outputs": [
        {
          "output_type": "stream",
          "name": "stdout",
          "text": [
            "abcdef\n",
            "\n",
            "12345\n"
          ]
        }
      ]
    },
    {
      "cell_type": "code",
      "source": [
        "# while 문을 사용해서 파일의 모든 라인을 읽어온다.\n",
        "filename = '/content/a.txt'\n",
        "f = open(filename, 'r')\n",
        "\n",
        "while True:\n",
        "    line = f.readline()\n",
        "\n",
        "    if not line:\n",
        "        break\n",
        "    print(line)\n",
        "f.close()\n"
      ],
      "metadata": {
        "colab": {
          "base_uri": "https://localhost:8080/",
          "height": 251
        },
        "id": "oEy2acY_atGb",
        "outputId": "a7d5f289-4686-4a0e-ed68-5a1702ccf4c9"
      },
      "execution_count": 1,
      "outputs": [
        {
          "output_type": "error",
          "ename": "FileNotFoundError",
          "evalue": "ignored",
          "traceback": [
            "\u001b[0;31m---------------------------------------------------------------------------\u001b[0m",
            "\u001b[0;31mFileNotFoundError\u001b[0m                         Traceback (most recent call last)",
            "\u001b[0;32m<ipython-input-1-f0a6348fc935>\u001b[0m in \u001b[0;36m<cell line: 3>\u001b[0;34m()\u001b[0m\n\u001b[1;32m      1\u001b[0m \u001b[0;31m# while 문을 사용해서 파일의 모든 라인을 읽어온다.\u001b[0m\u001b[0;34m\u001b[0m\u001b[0;34m\u001b[0m\u001b[0m\n\u001b[1;32m      2\u001b[0m \u001b[0mfilename\u001b[0m \u001b[0;34m=\u001b[0m \u001b[0;34m'/content/a.txt'\u001b[0m\u001b[0;34m\u001b[0m\u001b[0;34m\u001b[0m\u001b[0m\n\u001b[0;32m----> 3\u001b[0;31m \u001b[0mf\u001b[0m \u001b[0;34m=\u001b[0m \u001b[0mopen\u001b[0m\u001b[0;34m(\u001b[0m\u001b[0mfilename\u001b[0m\u001b[0;34m,\u001b[0m \u001b[0;34m'r'\u001b[0m\u001b[0;34m)\u001b[0m\u001b[0;34m\u001b[0m\u001b[0;34m\u001b[0m\u001b[0m\n\u001b[0m\u001b[1;32m      4\u001b[0m \u001b[0;34m\u001b[0m\u001b[0m\n\u001b[1;32m      5\u001b[0m \u001b[0;32mwhile\u001b[0m \u001b[0;32mTrue\u001b[0m\u001b[0;34m:\u001b[0m\u001b[0;34m\u001b[0m\u001b[0;34m\u001b[0m\u001b[0m\n",
            "\u001b[0;31mFileNotFoundError\u001b[0m: [Errno 2] No such file or directory: '/content/a.txt'"
          ]
        }
      ]
    },
    {
      "cell_type": "code",
      "source": [
        "\n",
        "filename = '/content/a.txt'\n",
        "f = open(filename, 'r')\n",
        "\n",
        "lines = f.readlines()\n",
        "#readlines는 리스트로 리턴해준다.\n",
        "\n",
        "for line in lines:\n",
        "    print(line)\n",
        "\n",
        "f.close() #파일은 항상 닫아줘야 다른사람이 업데이트 가능"
      ],
      "metadata": {
        "colab": {
          "base_uri": "https://localhost:8080/"
        },
        "id": "RseajM09b6GK",
        "outputId": "e6cffc37-aadd-4442-b1f8-ec12d2ebb31b"
      },
      "execution_count": null,
      "outputs": [
        {
          "output_type": "stream",
          "name": "stdout",
          "text": [
            "abcdef\n",
            "\n",
            "12345\n"
          ]
        }
      ]
    },
    {
      "cell_type": "code",
      "source": [
        "#파일 생성하기\n",
        "\n",
        "filename = \"/content/myFile.txt\"\n",
        "\n",
        "f = open(filename,'w')\n",
        "\n",
        "for i in range(1, 21):\n",
        "    data = \"%d번째 줄입니다.\\n\" % i\n",
        "    f.write(data)\n",
        "\n",
        "f.close()"
      ],
      "metadata": {
        "id": "--LZCTl3cV-Z"
      },
      "execution_count": null,
      "outputs": []
    },
    {
      "cell_type": "code",
      "source": [
        "#파일에 문자열 집어넣기\n",
        "\n",
        "filename = \"/content/test.txt\"\n",
        "\n",
        "f = open(filename,'w')\n",
        "writeData = 'hello world\\n'\n",
        "f.write(writeData)\n",
        "writeData = 'hello world\\n'\n",
        "f.write(writeData)\n",
        "f.close()"
      ],
      "metadata": {
        "id": "G4W2UDmYdrq9"
      },
      "execution_count": null,
      "outputs": []
    },
    {
      "cell_type": "code",
      "source": [
        "#먼저 현재시간을 이해하는 함수의 사용법을 이해하자.\n",
        "\n",
        "from datetime import datetime\n",
        "\n",
        "now = datetime.now()\n",
        "#현재시간\n",
        "# print(\"현재 : \", now)\n",
        "# print(\"현재 날짜 : \", now.date())\n",
        "# print(\"현재 시간 : \", now.time())\n",
        "# print(\"년 : \", now.year)\n",
        "# print(\"월 : \", now.month)\n",
        "# print(\"일 : \", now.day)\n",
        "# print(\"시 : \", now.hour)\n",
        "# print(\"분 : \", now.minute)\n",
        "# print(\"초 : \", now.second)\n",
        "# print(\"마이크로초 : \", now.microsecond)\n",
        "# print(\"요일 : \", now.weekday())\n",
        "# print(\"문자열 변환 : \", now.strftime('%Y-%m-%d %H:%M:%S')) #str formatting\n",
        "# print(\"문자열 변환 : \", now.strftime('%Y/%m/%d %H/%M/%S'))\n",
        "\n",
        "#[23/10/10 13:45:10]"
      ],
      "metadata": {
        "colab": {
          "base_uri": "https://localhost:8080/"
        },
        "id": "QzCxyDrU4NmY",
        "outputId": "180e7324-d065-4dc0-f589-47cda2c91929"
      },
      "execution_count": null,
      "outputs": [
        {
          "output_type": "stream",
          "name": "stdout",
          "text": [
            "현재 :  2023-10-10 04:46:15.675573\n",
            "현재 날짜 :  2023-10-10\n",
            "현재 시간 :  04:46:15.675573\n",
            "년 :  2023\n",
            "월 :  10\n",
            "일 :  10\n",
            "시 :  4\n",
            "분 :  46\n",
            "초 :  15\n",
            "마이크로초 :  675573\n",
            "요일 :  1\n",
            "문자열 변환 :  2023-10-10 04:46:15\n",
            "문자열 변환 :  2023/10/10 04/46/15\n"
          ]
        }
      ]
    },
    {
      "cell_type": "code",
      "source": [
        "# 1초마다 현재시간을 파일에 적고, 'time.log'파일을 생성\n",
        "\n",
        "from datetime import datetime\n",
        "\n",
        "now = datetime.now()\n",
        "\n",
        "#프로그램 종료방법\n",
        "while True:\n",
        "    print(\"Hello\")\n",
        "    time.sleep(1)\n"
      ],
      "metadata": {
        "id": "GsH5-ZgZecx3"
      },
      "execution_count": null,
      "outputs": []
    },
    {
      "cell_type": "markdown",
      "source": [],
      "metadata": {
        "id": "gGcZtH2re0Lo"
      }
    },
    {
      "cell_type": "code",
      "source": [
        "!touch timePerSec.txt"
      ],
      "metadata": {
        "id": "SPUFQXAq8P7P"
      },
      "execution_count": null,
      "outputs": []
    },
    {
      "cell_type": "code",
      "source": [
        "from datetime import datetime\n",
        "\n",
        "filename = '/content/timePerSec.txt'\n",
        "f = open(filename, 'r')\n",
        "now = datetime.now()\n",
        "\n",
        "PerSec = print(int( now.second))\n",
        "\n",
        "print(\"초 변환\", now.strftime('%Y-%m-%d %H:%M:%S')) #str formatting\n",
        "\n",
        "\n",
        "while True:\n",
        "    line = f.readline(PerSec)\n",
        "    print(now)\n",
        "    if not line:\n",
        "        break\n",
        "print(line)"
      ],
      "metadata": {
        "colab": {
          "base_uri": "https://localhost:8080/",
          "height": 294
        },
        "id": "UXNpGEmJ8yk4",
        "outputId": "e5490198-a280-468d-a941-e82ebdbff2be"
      },
      "execution_count": null,
      "outputs": [
        {
          "output_type": "stream",
          "name": "stdout",
          "text": [
            "11\n",
            "초 변환 2023-10-10 05:07:11\n"
          ]
        },
        {
          "output_type": "error",
          "ename": "TypeError",
          "evalue": "ignored",
          "traceback": [
            "\u001b[0;31m---------------------------------------------------------------------------\u001b[0m",
            "\u001b[0;31mTypeError\u001b[0m                                 Traceback (most recent call last)",
            "\u001b[0;32m<ipython-input-70-c4202a4d0694>\u001b[0m in \u001b[0;36m<cell line: 12>\u001b[0;34m()\u001b[0m\n\u001b[1;32m     11\u001b[0m \u001b[0;34m\u001b[0m\u001b[0m\n\u001b[1;32m     12\u001b[0m \u001b[0;32mwhile\u001b[0m \u001b[0;32mTrue\u001b[0m\u001b[0;34m:\u001b[0m\u001b[0;34m\u001b[0m\u001b[0;34m\u001b[0m\u001b[0m\n\u001b[0;32m---> 13\u001b[0;31m     \u001b[0mline\u001b[0m \u001b[0;34m=\u001b[0m \u001b[0mf\u001b[0m\u001b[0;34m.\u001b[0m\u001b[0mreadline\u001b[0m\u001b[0;34m(\u001b[0m\u001b[0mPerSec\u001b[0m\u001b[0;34m)\u001b[0m\u001b[0;34m\u001b[0m\u001b[0;34m\u001b[0m\u001b[0m\n\u001b[0m\u001b[1;32m     14\u001b[0m     \u001b[0mprint\u001b[0m\u001b[0;34m(\u001b[0m\u001b[0mnow\u001b[0m\u001b[0;34m)\u001b[0m\u001b[0;34m\u001b[0m\u001b[0;34m\u001b[0m\u001b[0m\n\u001b[1;32m     15\u001b[0m     \u001b[0;32mif\u001b[0m \u001b[0;32mnot\u001b[0m \u001b[0mline\u001b[0m\u001b[0;34m:\u001b[0m\u001b[0;34m\u001b[0m\u001b[0;34m\u001b[0m\u001b[0m\n",
            "\u001b[0;31mTypeError\u001b[0m: 'NoneType' object cannot be interpreted as an integer"
          ]
        }
      ]
    },
    {
      "cell_type": "code",
      "source": [
        "#from 패키지 밑에 import 함수\n",
        "\n",
        "filename = '/content/timePerSec.txt'\n",
        "f = open(filename, 'r')\n",
        "\n",
        "lines = f.readlines()\n",
        "#readlines는 리스트로 리턴해준다.\n",
        "\n",
        "for line in lines:\n",
        "    print(line)\n",
        "\n",
        "f.close()"
      ],
      "metadata": {
        "id": "msQXGHt28Wqb"
      },
      "execution_count": null,
      "outputs": []
    },
    {
      "cell_type": "code",
      "source": [
        "# 파일 쓰기\n",
        "import time\n",
        "from datetime import datetime\n",
        "\n",
        "filename = \"/content/time.log\"\n",
        "\n",
        "# 파일을 연다\n",
        "f = open(filename,'w')\n",
        "\n",
        "while True:\n",
        "    now = datetime.now()\n",
        "    data = now.strftime('[%Y/%m/%d %H/%M/%S]\\n')\n",
        "    print(data)\n",
        "    time.sleep(1)\n",
        "    f.write(data)\n",
        "\n",
        "f.close()\n",
        "\n"
      ],
      "metadata": {
        "colab": {
          "base_uri": "https://localhost:8080/",
          "height": 551
        },
        "id": "hvzl1QDl_BZ3",
        "outputId": "00578249-743c-43e2-83c4-dbe2eeef956b"
      },
      "execution_count": null,
      "outputs": [
        {
          "output_type": "stream",
          "name": "stdout",
          "text": [
            "[2023/10/10 05/18/20]\n",
            "\n",
            "[2023/10/10 05/18/21]\n",
            "\n",
            "[2023/10/10 05/18/22]\n",
            "\n",
            "[2023/10/10 05/18/23]\n",
            "\n",
            "[2023/10/10 05/18/24]\n",
            "\n",
            "[2023/10/10 05/18/25]\n",
            "\n",
            "[2023/10/10 05/18/26]\n",
            "\n",
            "[2023/10/10 05/18/27]\n",
            "\n"
          ]
        },
        {
          "output_type": "error",
          "ename": "KeyboardInterrupt",
          "evalue": "ignored",
          "traceback": [
            "\u001b[0;31m---------------------------------------------------------------------------\u001b[0m",
            "\u001b[0;31mKeyboardInterrupt\u001b[0m                         Traceback (most recent call last)",
            "\u001b[0;32m<ipython-input-73-73dbc137a9a8>\u001b[0m in \u001b[0;36m<cell line: 10>\u001b[0;34m()\u001b[0m\n\u001b[1;32m     12\u001b[0m     \u001b[0mdata\u001b[0m \u001b[0;34m=\u001b[0m \u001b[0mnow\u001b[0m\u001b[0;34m.\u001b[0m\u001b[0mstrftime\u001b[0m\u001b[0;34m(\u001b[0m\u001b[0;34m'[%Y/%m/%d %H/%M/%S]\\n'\u001b[0m\u001b[0;34m)\u001b[0m\u001b[0;34m\u001b[0m\u001b[0;34m\u001b[0m\u001b[0m\n\u001b[1;32m     13\u001b[0m     \u001b[0mprint\u001b[0m\u001b[0;34m(\u001b[0m\u001b[0mdata\u001b[0m\u001b[0;34m)\u001b[0m\u001b[0;34m\u001b[0m\u001b[0;34m\u001b[0m\u001b[0m\n\u001b[0;32m---> 14\u001b[0;31m     \u001b[0mtime\u001b[0m\u001b[0;34m.\u001b[0m\u001b[0msleep\u001b[0m\u001b[0;34m(\u001b[0m\u001b[0;36m1\u001b[0m\u001b[0;34m)\u001b[0m\u001b[0;34m\u001b[0m\u001b[0;34m\u001b[0m\u001b[0m\n\u001b[0m\u001b[1;32m     15\u001b[0m     \u001b[0mf\u001b[0m\u001b[0;34m.\u001b[0m\u001b[0mwrite\u001b[0m\u001b[0;34m(\u001b[0m\u001b[0mdata\u001b[0m\u001b[0;34m)\u001b[0m\u001b[0;34m\u001b[0m\u001b[0;34m\u001b[0m\u001b[0m\n\u001b[1;32m     16\u001b[0m \u001b[0;34m\u001b[0m\u001b[0m\n",
            "\u001b[0;31mKeyboardInterrupt\u001b[0m: "
          ]
        }
      ]
    },
    {
      "cell_type": "code",
      "source": [
        "# a.txt 파일을 aa.txt파일명으로 수정하기\n",
        "\n",
        "import os\n",
        "oldName = '/content/a.txt'\n",
        "newName = '/content/aa.txt'\n",
        "\n",
        "os.rename(oldName, newName)\n",
        "\n"
      ],
      "metadata": {
        "id": "MrxcvynWBFjv",
        "colab": {
          "base_uri": "https://localhost:8080/",
          "height": 251
        },
        "outputId": "25a7e79d-7344-410c-dbcc-b811318bbbcf"
      },
      "execution_count": 3,
      "outputs": [
        {
          "output_type": "error",
          "ename": "FileNotFoundError",
          "evalue": "ignored",
          "traceback": [
            "\u001b[0;31m---------------------------------------------------------------------------\u001b[0m",
            "\u001b[0;31mFileNotFoundError\u001b[0m                         Traceback (most recent call last)",
            "\u001b[0;32m<ipython-input-3-3a0724eb51f1>\u001b[0m in \u001b[0;36m<cell line: 7>\u001b[0;34m()\u001b[0m\n\u001b[1;32m      5\u001b[0m \u001b[0mnewName\u001b[0m \u001b[0;34m=\u001b[0m \u001b[0;34m'/content/aa.txt'\u001b[0m\u001b[0;34m\u001b[0m\u001b[0;34m\u001b[0m\u001b[0m\n\u001b[1;32m      6\u001b[0m \u001b[0;34m\u001b[0m\u001b[0m\n\u001b[0;32m----> 7\u001b[0;31m \u001b[0mprint\u001b[0m\u001b[0;34m(\u001b[0m\u001b[0mos\u001b[0m\u001b[0;34m.\u001b[0m\u001b[0mrename\u001b[0m\u001b[0;34m(\u001b[0m\u001b[0moldName\u001b[0m\u001b[0;34m,\u001b[0m \u001b[0mnewName\u001b[0m\u001b[0;34m)\u001b[0m\u001b[0;34m)\u001b[0m\u001b[0;34m\u001b[0m\u001b[0;34m\u001b[0m\u001b[0m\n\u001b[0m\u001b[1;32m      8\u001b[0m \u001b[0;34m\u001b[0m\u001b[0m\n",
            "\u001b[0;31mFileNotFoundError\u001b[0m: [Errno 2] No such file or directory: '/content/a.txt' -> '/content/aa.txt'"
          ]
        }
      ]
    },
    {
      "cell_type": "code",
      "source": [
        "import os\n",
        "catImagePath = '/content/drive/MyDrive/구글클라우드/수업(코드)/data/Russianblue'\n",
        "\n",
        "filenames = os.listdir(catImagePath)\n",
        "#len(filenames) ->44 #파일 올라온거 확인\n"
      ],
      "metadata": {
        "id": "78kHsOnnBmHx",
        "colab": {
          "base_uri": "https://localhost:8080/"
        },
        "outputId": "49e79513-0a6e-40f3-c43b-77e9a1a72c56"
      },
      "execution_count": null,
      "outputs": [
        {
          "output_type": "execute_result",
          "data": {
            "text/plain": [
              "44"
            ]
          },
          "metadata": {},
          "execution_count": 77
        }
      ]
    },
    {
      "cell_type": "code",
      "source": [
        "#enumerate 함수\n",
        "a = ['a', 'b', 'c']\n",
        "\n",
        "for i in range(len(letters)):\n",
        "...     letter = letters[i]\n",
        "...     print(i, letter)\n"
      ],
      "metadata": {
        "colab": {
          "base_uri": "https://localhost:8080/",
          "height": 147
        },
        "id": "7e8uMPlQNVEb",
        "outputId": "cb0a83b8-bfe9-4dea-efb4-8115d3c572ef"
      },
      "execution_count": null,
      "outputs": [
        {
          "output_type": "error",
          "ename": "IndentationError",
          "evalue": "ignored",
          "traceback": [
            "\u001b[0;36m  File \u001b[0;32m\"<ipython-input-101-afcae3c300e1>\"\u001b[0;36m, line \u001b[0;32m5\u001b[0m\n\u001b[0;31m    ...     letter = letters[i]\u001b[0m\n\u001b[0m    ^\u001b[0m\n\u001b[0;31mIndentationError\u001b[0m\u001b[0;31m:\u001b[0m expected an indented block after 'for' statement on line 4\n"
          ]
        }
      ]
    },
    {
      "cell_type": "code",
      "source": [
        "for i, filename in enumerate(filenames):\n",
        "    #기존 파일명\n",
        "    os.path.join(catImagePath,filename))\n",
        "    #새로운 파일명:'cat' + '숫자'.+'jpg'\n",
        "    newName = \"cat\" + str(i+1).jpg\n",
        "    newName = os.path.join(catImagePath,newName)\n",
        "    os.rename(oldName, newName)\n"
      ],
      "metadata": {
        "colab": {
          "base_uri": "https://localhost:8080/",
          "height": 276
        },
        "id": "ZSPczFZcLl5v",
        "outputId": "30c8996b-6826-46fb-d597-35dfa0d590a2"
      },
      "execution_count": null,
      "outputs": [
        {
          "output_type": "stream",
          "name": "stdout",
          "text": [
            "/content/drive/MyDrive/구글클라우드/수업(코드)/data/Russianblue/다운로드.jpg\n"
          ]
        },
        {
          "output_type": "error",
          "ename": "AttributeError",
          "evalue": "ignored",
          "traceback": [
            "\u001b[0;31m---------------------------------------------------------------------------\u001b[0m",
            "\u001b[0;31mAttributeError\u001b[0m                            Traceback (most recent call last)",
            "\u001b[0;32m<ipython-input-95-999fd15d7473>\u001b[0m in \u001b[0;36m<cell line: 1>\u001b[0;34m()\u001b[0m\n\u001b[1;32m      3\u001b[0m     \u001b[0mprint\u001b[0m\u001b[0;34m(\u001b[0m\u001b[0mos\u001b[0m\u001b[0;34m.\u001b[0m\u001b[0mpath\u001b[0m\u001b[0;34m.\u001b[0m\u001b[0mjoin\u001b[0m\u001b[0;34m(\u001b[0m\u001b[0mcatImagePath\u001b[0m\u001b[0;34m,\u001b[0m\u001b[0mfilename\u001b[0m\u001b[0;34m)\u001b[0m\u001b[0;34m)\u001b[0m\u001b[0;34m\u001b[0m\u001b[0;34m\u001b[0m\u001b[0m\n\u001b[1;32m      4\u001b[0m     \u001b[0;31m#새로운 파일명:'cat' + '숫자'.+'jpg'\u001b[0m\u001b[0;34m\u001b[0m\u001b[0;34m\u001b[0m\u001b[0m\n\u001b[0;32m----> 5\u001b[0;31m     \u001b[0mnewName\u001b[0m \u001b[0;34m=\u001b[0m \u001b[0;34m\"cat\"\u001b[0m \u001b[0;34m+\u001b[0m \u001b[0mstr\u001b[0m\u001b[0;34m(\u001b[0m\u001b[0mi\u001b[0m\u001b[0;34m+\u001b[0m\u001b[0;36m1\u001b[0m\u001b[0;34m)\u001b[0m\u001b[0;34m.\u001b[0m\u001b[0mjpg\u001b[0m\u001b[0;34m\u001b[0m\u001b[0;34m\u001b[0m\u001b[0m\n\u001b[0m\u001b[1;32m      6\u001b[0m     \u001b[0mnewName\u001b[0m \u001b[0;34m=\u001b[0m \u001b[0mos\u001b[0m\u001b[0;34m.\u001b[0m\u001b[0mpath\u001b[0m\u001b[0;34m.\u001b[0m\u001b[0mjoin\u001b[0m\u001b[0;34m(\u001b[0m\u001b[0mcatImagePath\u001b[0m\u001b[0;34m,\u001b[0m\u001b[0mnewName\u001b[0m\u001b[0;34m)\u001b[0m\u001b[0;34m\u001b[0m\u001b[0;34m\u001b[0m\u001b[0m\n\u001b[1;32m      7\u001b[0m     \u001b[0mos\u001b[0m\u001b[0;34m.\u001b[0m\u001b[0mrename\u001b[0m\u001b[0;34m(\u001b[0m\u001b[0moldName\u001b[0m\u001b[0;34m,\u001b[0m \u001b[0mnewName\u001b[0m\u001b[0;34m)\u001b[0m\u001b[0;34m\u001b[0m\u001b[0;34m\u001b[0m\u001b[0m\n",
            "\u001b[0;31mAttributeError\u001b[0m: 'str' object has no attribute 'jpg'"
          ]
        }
      ]
    },
    {
      "cell_type": "code",
      "source": [
        "for i, filename in enumerate(filenames):\n",
        "    # 기존 파일명\n",
        "    oldName = os.path.join(catImagePath,filename)\n",
        "    # 새로운 파일명 : 'cat'+'숫자'+'.jpg'\n",
        "    newName = \"cat\"+str(i+1)+'.jfif'\n",
        "    newName = os.path.join(catImagePath,newName)\n",
        "    os.rename(oldName, newName)"
      ],
      "metadata": {
        "id": "3Oa2mHp0MElI"
      },
      "execution_count": null,
      "outputs": []
    },
    {
      "cell_type": "code",
      "source": [
        "from tqdm import tqdm\n",
        "import time\n",
        "a = ['1','2','3','4']\n",
        "\n",
        "for i in tqdm(a) :\n",
        "    time.sleep(5)\n",
        "    print(i)"
      ],
      "metadata": {
        "colab": {
          "base_uri": "https://localhost:8080/"
        },
        "id": "47t4VPNdPA3k",
        "outputId": "e1ac3912-03bc-4a40-9087-fc417c72201c"
      },
      "execution_count": null,
      "outputs": [
        {
          "output_type": "stream",
          "name": "stderr",
          "text": [
            " 25%|██▌       | 1/4 [00:05<00:15,  5.01s/it]"
          ]
        },
        {
          "output_type": "stream",
          "name": "stdout",
          "text": [
            "1\n"
          ]
        },
        {
          "output_type": "stream",
          "name": "stderr",
          "text": [
            "\r 50%|█████     | 2/4 [00:10<00:10,  5.01s/it]"
          ]
        },
        {
          "output_type": "stream",
          "name": "stdout",
          "text": [
            "2\n"
          ]
        },
        {
          "output_type": "stream",
          "name": "stderr",
          "text": [
            "\r 75%|███████▌  | 3/4 [00:15<00:05,  5.01s/it]"
          ]
        },
        {
          "output_type": "stream",
          "name": "stdout",
          "text": [
            "3\n"
          ]
        },
        {
          "output_type": "stream",
          "name": "stderr",
          "text": [
            "100%|██████████| 4/4 [00:20<00:00,  5.01s/it]"
          ]
        },
        {
          "output_type": "stream",
          "name": "stdout",
          "text": [
            "4\n"
          ]
        },
        {
          "output_type": "stream",
          "name": "stderr",
          "text": [
            "\n"
          ]
        }
      ]
    },
    {
      "cell_type": "code",
      "source": [],
      "metadata": {
        "id": "dPWOE9q5PkCN"
      },
      "execution_count": null,
      "outputs": []
    }
  ]
}