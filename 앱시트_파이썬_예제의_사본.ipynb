{
  "nbformat": 4,
  "nbformat_minor": 0,
  "metadata": {
    "colab": {
      "provenance": [],
      "include_colab_link": true
    },
    "kernelspec": {
      "name": "python3",
      "display_name": "Python 3"
    },
    "language_info": {
      "name": "python"
    }
  },
  "cells": [
    {
      "cell_type": "markdown",
      "metadata": {
        "id": "view-in-github",
        "colab_type": "text"
      },
      "source": [
        "<a href=\"https://colab.research.google.com/github/ricecakeblack/myRepoTest/blob/main/%EC%95%B1%EC%8B%9C%ED%8A%B8_%ED%8C%8C%EC%9D%B4%EC%8D%AC_%EC%98%88%EC%A0%9C%EC%9D%98_%EC%82%AC%EB%B3%B8.ipynb\" target=\"_parent\"><img src=\"https://colab.research.google.com/assets/colab-badge.svg\" alt=\"Open In Colab\"/></a>"
      ]
    },
    {
      "cell_type": "markdown",
      "source": [
        "# 스프레드시트 API\n",
        "\n",
        "\n",
        "1) 구글 클라우드 서비스 가입\n",
        "\n",
        "2) 프로젝트 만들기\n",
        "\n",
        "3) 서비스 계정 생성 후 역할 부여 (Basic 편집자)\n",
        "\n",
        "4) 서비스 계정 이메일 복사\n",
        "\n",
        "5) 상단의 키 메뉴 -> 키 추가 -> 새 키 만들기 -> json 파일로 저장\n",
        "\n",
        "6) 햄버거 버튼 -> API 서비스 -> 라이브러리에서 스프레드시트와 드라이브 키 검색 후 활성화\n",
        "\n",
        "7) 연동을 원하는 시트에 서비스 계정 이메일 공유 후 권한 추가\n",
        "\n",
        "\n",
        "참고 블로그 [링크](https://develop-davi-kr.tistory.com/entry/%ED%8C%8C%EC%9D%B4%EC%8D%AC%EC%9D%84-%EC%9D%B4%EC%9A%A9%ED%95%9C-%EA%B5%AC%EA%B8%80-%EC%8A%A4%ED%94%84%EB%A0%88%EB%93%9C%EC%8B%9C%ED%8A%B8-%EC%97%B0%EB%8F%99-%EB%B0%8F-%EC%9E%90%EB%8F%99%ED%99%94-%EB%B0%A9%EB%B2%95)\n"
      ],
      "metadata": {
        "id": "flBQZYuC36kI"
      }
    },
    {
      "cell_type": "code",
      "execution_count": null,
      "metadata": {
        "id": "aQ81rp6L3nB1"
      },
      "outputs": [],
      "source": [
        "import os\n",
        "import gspread\n",
        "from oauth2client.service_account import ServiceAccountCredentials\n",
        "\n",
        "scope = ['https://spreadsheets.google.com/feeds']                                         # Google API 요청 시 필요한 권한 유형\n",
        "json_file_name = 'bbb.json'                                                               # 서비스계정의 KEY. JSON Key File 경로\n",
        "credentials = ServiceAccountCredentials.from_json_keyfile_name(json_file_name, scope)     #사용자 계정의 자격증명\n",
        "gc = gspread.authorize(credentials)                                                       # Google API에 로그인\n",
        "\n",
        "spreadsheet_url = 'https://docs.google.com/spreadsheets/d/1TuoW1wazbIkYwljeEWe_CsLBiNWAiduriI8zbIYLE14/edit#gid=0' # 구글 스프레드시트 URL\n",
        "doc = gc.open_by_url(spreadsheet_url)   # 스프레드 시트 Open\n",
        "worksheet = doc.worksheet('Sheet1')     # 스프레드 시트의 워크시트 선택"
      ]
    },
    {
      "cell_type": "code",
      "source": [
        "# 시트에서 데이터 읽기\n",
        "data = worksheet.acell('A1').value\n",
        "\n",
        "# 시트에 데이터 쓰기\n",
        "worksheet.update_acell('A2', \"test\")\n",
        "\n",
        "print(data)"
      ],
      "metadata": {
        "id": "7f9RHdAI5ioC",
        "colab": {
          "base_uri": "https://localhost:8080/"
        },
        "outputId": "07b87161-b1f9-4df1-a0ba-f45ff41f450b"
      },
      "execution_count": null,
      "outputs": [
        {
          "output_type": "stream",
          "name": "stdout",
          "text": [
            "\n"
          ]
        }
      ]
    },
    {
      "cell_type": "code",
      "source": [
        "# 8자리 랜덤 문자 생성 후 시트에 쓰기\n",
        "\n",
        "import random as rd\n",
        "\n",
        "worksheet.update_acell('A1', \"ID\")\n",
        "\n",
        "for i in range(2, 12):\n",
        "  id = ''\n",
        "  for _ in range(8):\n",
        "    id += chr(rd.randint(97,122))\n",
        "  worksheet.update_acell(f'A{i}', id)\n",
        "  print(id)"
      ],
      "metadata": {
        "id": "rsm69w4x59xB",
        "colab": {
          "base_uri": "https://localhost:8080/"
        },
        "outputId": "6fd37e3f-a73e-4afb-e629-6f7ff42bde67"
      },
      "execution_count": null,
      "outputs": [
        {
          "output_type": "stream",
          "name": "stdout",
          "text": [
            "pytpxmgr\n",
            "qjwxogjm\n",
            "jpbrftsf\n",
            "xsvwpaiq\n",
            "wuxdoyln\n",
            "hxpsetif\n",
            "jcgzwcyk\n",
            "xjxlogdz\n",
            "jbzxkisg\n",
            "prpchvfd\n"
          ]
        }
      ]
    },
    {
      "cell_type": "markdown",
      "source": [
        "# 활용 예제1) 주식 정보 읽어서 시트에 업로드하기"
      ],
      "metadata": {
        "id": "rEeqRVw06Jpo"
      }
    },
    {
      "cell_type": "code",
      "source": [
        "!pip install finance-datareader"
      ],
      "metadata": {
        "id": "pe4UXgaA6G6f",
        "colab": {
          "base_uri": "https://localhost:8080/"
        },
        "outputId": "e86f691a-05d3-43d3-ac44-a594efc6906c"
      },
      "execution_count": null,
      "outputs": [
        {
          "output_type": "stream",
          "name": "stdout",
          "text": [
            "Collecting finance-datareader\n",
            "  Downloading finance_datareader-0.9.50-py3-none-any.whl (19 kB)\n",
            "Requirement already satisfied: pandas>=0.19.2 in /usr/local/lib/python3.10/dist-packages (from finance-datareader) (1.5.3)\n",
            "Requirement already satisfied: requests>=2.3.0 in /usr/local/lib/python3.10/dist-packages (from finance-datareader) (2.31.0)\n",
            "Collecting requests-file (from finance-datareader)\n",
            "  Downloading requests_file-1.5.1-py2.py3-none-any.whl (3.7 kB)\n",
            "Requirement already satisfied: lxml in /usr/local/lib/python3.10/dist-packages (from finance-datareader) (4.9.3)\n",
            "Requirement already satisfied: tqdm in /usr/local/lib/python3.10/dist-packages (from finance-datareader) (4.66.1)\n",
            "Requirement already satisfied: python-dateutil>=2.8.1 in /usr/local/lib/python3.10/dist-packages (from pandas>=0.19.2->finance-datareader) (2.8.2)\n",
            "Requirement already satisfied: pytz>=2020.1 in /usr/local/lib/python3.10/dist-packages (from pandas>=0.19.2->finance-datareader) (2023.3.post1)\n",
            "Requirement already satisfied: numpy>=1.21.0 in /usr/local/lib/python3.10/dist-packages (from pandas>=0.19.2->finance-datareader) (1.23.5)\n",
            "Requirement already satisfied: charset-normalizer<4,>=2 in /usr/local/lib/python3.10/dist-packages (from requests>=2.3.0->finance-datareader) (3.3.2)\n",
            "Requirement already satisfied: idna<4,>=2.5 in /usr/local/lib/python3.10/dist-packages (from requests>=2.3.0->finance-datareader) (3.4)\n",
            "Requirement already satisfied: urllib3<3,>=1.21.1 in /usr/local/lib/python3.10/dist-packages (from requests>=2.3.0->finance-datareader) (2.0.7)\n",
            "Requirement already satisfied: certifi>=2017.4.17 in /usr/local/lib/python3.10/dist-packages (from requests>=2.3.0->finance-datareader) (2023.7.22)\n",
            "Requirement already satisfied: six in /usr/local/lib/python3.10/dist-packages (from requests-file->finance-datareader) (1.16.0)\n",
            "Installing collected packages: requests-file, finance-datareader\n",
            "Successfully installed finance-datareader-0.9.50 requests-file-1.5.1\n"
          ]
        }
      ]
    },
    {
      "cell_type": "code",
      "source": [
        "import FinanceDataReader as fdr\n",
        "\n",
        "# 삼성전자의 주식 불러서 df에 저장\n",
        "df = fdr.DataReader('005930', '2023')\n",
        "\n",
        "# df\n",
        "\n",
        "worksheet.update_acell('B1', \"날짜\")\n",
        "worksheet.update_acell('C1', \"Open\")\n",
        "\n",
        "for i,j,k in zip(df.index, df['Open'], range(10)):\n",
        "  worksheet.update_acell(f'B{k+2}', str(i).split()[0])\n",
        "  worksheet.update_acell(f'C{k+2}', j)"
      ],
      "metadata": {
        "id": "67TsINrG6SNP"
      },
      "execution_count": null,
      "outputs": []
    },
    {
      "cell_type": "markdown",
      "source": [
        "# 활용 예제2) 공공데이터 API 연결해서 시트에 업로드하기\n",
        "\n",
        "* 활용 사이트 : 지표누리 (index.go.kr)\n",
        "\n",
        "1) 지표누리 회원가입\n",
        "\n",
        "2) 참여마당 활용 신청\n",
        "\n",
        "3) 필요한 API 승인 신청\n",
        "\n",
        "4) 승인확인 -> 지표 검색 -> 통계표에서 원하는 값 선택 후 JSON 링크 복사\n",
        "\n",
        "5) 파이썬 코드에서 JSON 링크 활용"
      ],
      "metadata": {
        "id": "LiHh6huC6zcx"
      }
    },
    {
      "cell_type": "code",
      "source": [
        "import json\n",
        "from urllib.request import urlopen\n",
        "import matplotlib.pyplot as plt\n",
        "\n",
        "#url을 통해 json 데이터 가져오기\n",
        "with urlopen(\"https://www.index.go.kr/unity/openApi/sttsJsonViewer.do?idntfcId=151132376D3F2DR0&ixCode=4221&statsCode=422101\") as url:\n",
        "    json_file = url.read()\n",
        "\n",
        "py_json = json.loads(json_file.decode('utf-8'))"
      ],
      "metadata": {
        "id": "MDPfXEl066JH"
      },
      "execution_count": null,
      "outputs": []
    },
    {
      "cell_type": "code",
      "source": [
        "date_li = []\n",
        "value_li = []\n",
        "\n",
        "# py_json\n",
        "for i in range(len(py_json)):\n",
        "  if py_json[i]['항목이름'] == '1인당 실질 국민총소득(만 원)':\n",
        "    date_li.append(py_json[i]['시점'])\n",
        "    value_li.append(py_json[i]['값'])\n",
        "\n",
        "n = len(date_li)\n",
        "\n",
        "date_li = date_li[n-10:n]\n",
        "value_li = value_li[n-10:n]\n",
        "\n",
        "worksheet.update_acell('D1', \"년도\")\n",
        "worksheet.update_acell('E1', \"국민총소득\")\n",
        "\n",
        "for i in range(len(date_li)):\n",
        "  worksheet.update_acell(f'D{i+2}',date_li[i])\n",
        "  worksheet.update_acell(f'E{i+2}', value_li[i])"
      ],
      "metadata": {
        "id": "RBU-dvqv66PP"
      },
      "execution_count": null,
      "outputs": []
    }
  ]
}