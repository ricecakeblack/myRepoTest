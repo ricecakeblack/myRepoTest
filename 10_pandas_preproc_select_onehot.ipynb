{
  "nbformat": 4,
  "nbformat_minor": 0,
  "metadata": {
    "colab": {
      "provenance": [],
      "include_colab_link": true
    },
    "kernelspec": {
      "name": "python3",
      "display_name": "Python 3"
    }
  },
  "cells": [
    {
      "cell_type": "markdown",
      "metadata": {
        "id": "view-in-github",
        "colab_type": "text"
      },
      "source": [
        "<a href=\"https://colab.research.google.com/github/ricecakeblack/myRepoTest/blob/main/10_pandas_preproc_select_onehot.ipynb\" target=\"_parent\"><img src=\"https://colab.research.google.com/assets/colab-badge.svg\" alt=\"Open In Colab\"/></a>"
      ]
    },
    {
      "cell_type": "code",
      "metadata": {
        "id": "TJDb6JNg2Qzo"
      },
      "source": [
        "import pandas as pd"
      ],
      "execution_count": null,
      "outputs": []
    },
    {
      "cell_type": "markdown",
      "metadata": {
        "id": "HtHnzIJ92bve"
      },
      "source": [
        "## 실습에 활용한 예제"
      ]
    },
    {
      "cell_type": "markdown",
      "metadata": {
        "id": "K4lU2VkD2dhO"
      },
      "source": [
        "[국내 아이돌 평판지수 (csv)](http://bit.ly/ds-korean-idol)"
      ]
    },
    {
      "cell_type": "code",
      "metadata": {
        "id": "JmGv-aCs2e1p"
      },
      "source": [],
      "execution_count": null,
      "outputs": []
    },
    {
      "cell_type": "markdown",
      "metadata": {
        "id": "k1rqdtaa2gx-"
      },
      "source": [
        "## DataFrame 로드"
      ]
    },
    {
      "cell_type": "code",
      "metadata": {
        "id": "IEmDZyF42hTk"
      },
      "source": [
        "df = pd.read_csv('https://bit.ly/ds-korean-idol')"
      ],
      "execution_count": null,
      "outputs": []
    },
    {
      "cell_type": "code",
      "metadata": {
        "id": "Mz1h61Ru2iP3"
      },
      "source": [
        "df"
      ],
      "execution_count": null,
      "outputs": []
    },
    {
      "cell_type": "markdown",
      "metadata": {
        "id": "2bMdqURV2ini"
      },
      "source": [
        "## 1. 데이터 타입별 column 선택 (select_dtypes)"
      ]
    },
    {
      "cell_type": "code",
      "metadata": {
        "id": "XFTyWBFY2iqT"
      },
      "source": [
        "df.info()"
      ],
      "execution_count": null,
      "outputs": []
    },
    {
      "cell_type": "markdown",
      "metadata": {
        "id": "OY3gPZ6O21Hz"
      },
      "source": [
        "### 1-1. 문자열이 있는 column 만 선택"
      ]
    },
    {
      "cell_type": "code",
      "metadata": {
        "id": "oUVzlfcS2xE6"
      },
      "source": [
        "df.select_dtypes(include='object')"
      ],
      "execution_count": null,
      "outputs": []
    },
    {
      "cell_type": "code",
      "metadata": {
        "id": "RXzN5p5v2xLw"
      },
      "source": [
        "df.select_dtypes(exclude='object')"
      ],
      "execution_count": null,
      "outputs": []
    },
    {
      "cell_type": "markdown",
      "metadata": {
        "id": "eWplbwl32xRa"
      },
      "source": [
        "문자열이 포함된 DataFrame의 연산으로 발생되는 Error를 피하기 위해서는..."
      ]
    },
    {
      "cell_type": "code",
      "metadata": {
        "id": "G55gaiNv3LqB"
      },
      "source": [
        "df + 10"
      ],
      "execution_count": null,
      "outputs": []
    },
    {
      "cell_type": "code",
      "metadata": {
        "id": "VKHjGmWC3CjW"
      },
      "source": [
        "df.select_dtypes(include='object') + 10"
      ],
      "execution_count": null,
      "outputs": []
    },
    {
      "cell_type": "code",
      "metadata": {
        "id": "Wopq7Lv329lW"
      },
      "source": [
        "df.select_dtypes(exclude='object') + 10"
      ],
      "execution_count": null,
      "outputs": []
    },
    {
      "cell_type": "code",
      "metadata": {
        "id": "_VhOKNSgdsYw"
      },
      "source": [
        "num_cols = df.select_dtypes(exclude='object').columns\n",
        "obj_cols = df.select_dtypes(include='object').columns"
      ],
      "execution_count": null,
      "outputs": []
    },
    {
      "cell_type": "code",
      "metadata": {
        "id": "LE1CuxW43BHg"
      },
      "source": [
        "df[obj_cols]"
      ],
      "execution_count": null,
      "outputs": []
    },
    {
      "cell_type": "markdown",
      "metadata": {
        "id": "PXRtZOzd3R9p"
      },
      "source": [
        "## 2. 원핫인코딩 (One-hot-encoding)"
      ]
    },
    {
      "cell_type": "markdown",
      "metadata": {
        "id": "QHUDXbpP3SFb"
      },
      "source": [
        "* 원핫인코딩은 한개의 요소는 True 그리고 나머지 요소는 False로 만들어 주는 기법입니다.\n",
        "* 원핫인코딩을 왜 필요할까요?"
      ]
    },
    {
      "cell_type": "code",
      "metadata": {
        "id": "d9tR9zyUfZvb"
      },
      "source": [
        "df = pd.read_csv('https://bit.ly/ds-korean-idol')"
      ],
      "execution_count": null,
      "outputs": []
    },
    {
      "cell_type": "code",
      "metadata": {
        "id": "5d0kyLK93SO8"
      },
      "source": [
        "df.head()"
      ],
      "execution_count": null,
      "outputs": []
    },
    {
      "cell_type": "code",
      "metadata": {
        "id": "skvs-RIz32jK"
      },
      "source": [
        "blood_map = {\n",
        "    'A': 0,\n",
        "    'B': 1,\n",
        "    'AB': 2,\n",
        "    'O': 3,\n",
        "}"
      ],
      "execution_count": null,
      "outputs": []
    },
    {
      "cell_type": "code",
      "metadata": {
        "id": "R7UNjTHp3wdM"
      },
      "source": [
        "df['혈액형_code'] = df['혈액형'].map(blood_map)"
      ],
      "execution_count": null,
      "outputs": []
    },
    {
      "cell_type": "code",
      "metadata": {
        "id": "BvcIs-SR3_N4"
      },
      "source": [
        "df.head()"
      ],
      "execution_count": null,
      "outputs": []
    },
    {
      "cell_type": "code",
      "metadata": {
        "id": "KiUrinVC4Jcx"
      },
      "source": [
        "df['혈액형_code'].value_counts()"
      ],
      "execution_count": null,
      "outputs": []
    },
    {
      "cell_type": "markdown",
      "metadata": {
        "id": "SK14We7S4MGt"
      },
      "source": [
        "* 우리가 만약 df['혈액형_code']를 머신러닝 알고리즘에 그대로 넣어 데이터를 예측하라고 지시한다면, 컴퓨터는 '혈액형_code'안에서 **값들간의 관계를 스스로 형성**하게 됩니다.\n",
        "* 이 상황에서 만약 B형은 1, AB형은 2라는 값을 가지고 있는데, 컴퓨터는 B형 + **AB형 = O형이다라고 잘못 관계**를 맺을 수 있게 됩니다.\n",
        "* 따라서, 우리는 4개의 별도의 column을 형성해주고 1개의 column에는 True 나머지는 모두 False를 넣어 줌으로써 **A, B, AB, O형의 관계는 독립적이다**를 표현해줍니다.\n",
        "* 이를 원핫인코딩이라고 합니다.\n"
      ]
    },
    {
      "cell_type": "code",
      "metadata": {
        "id": "YlJYkb3u5Kic"
      },
      "source": [
        "df['혈액형_code']"
      ],
      "execution_count": null,
      "outputs": []
    },
    {
      "cell_type": "code",
      "metadata": {
        "id": "ISCKIG_245XX"
      },
      "source": [
        "pd.get_dummies(df['혈액형_code'])"
      ],
      "execution_count": null,
      "outputs": []
    },
    {
      "cell_type": "markdown",
      "metadata": {
        "id": "ENUH3Frj5kQl"
      },
      "source": [
        "prefix를 설정하려면?"
      ]
    },
    {
      "cell_type": "code",
      "metadata": {
        "id": "f6D-fGu_5jRK"
      },
      "source": [
        "pd.get_dummies(df['혈액형_code'], prefix='혈액형')"
      ],
      "execution_count": null,
      "outputs": []
    },
    {
      "cell_type": "markdown",
      "metadata": {
        "id": "35wGEsjD5Ie5"
      },
      "source": [
        "나중에 머신러닝 알고리즘으로 발전하기 위해서는 꼭 알아야하는 개념입니다!\n",
        "\n",
        "지금은 원핫인코딩의 개념만 이해하셔도 충분합니다^0^"
      ]
    },
    {
      "cell_type": "code",
      "metadata": {
        "id": "g33FD1iP5fOR"
      },
      "source": [],
      "execution_count": null,
      "outputs": []
    }
  ]
}