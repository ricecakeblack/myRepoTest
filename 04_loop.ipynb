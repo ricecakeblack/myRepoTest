{
  "nbformat": 4,
  "nbformat_minor": 0,
  "metadata": {
    "colab": {
      "private_outputs": true,
      "provenance": [],
      "authorship_tag": "ABX9TyNAitaTZvx3MqYt+/T2DJ6Z",
      "include_colab_link": true
    },
    "kernelspec": {
      "name": "python3",
      "display_name": "Python 3"
    },
    "language_info": {
      "name": "python"
    }
  },
  "cells": [
    {
      "cell_type": "markdown",
      "metadata": {
        "id": "view-in-github",
        "colab_type": "text"
      },
      "source": [
        "<a href=\"https://colab.research.google.com/github/ricecakeblack/myRepoTest/blob/main/04_loop.ipynb\" target=\"_parent\"><img src=\"https://colab.research.google.com/assets/colab-badge.svg\" alt=\"Open In Colab\"/></a>"
      ]
    },
    {
      "cell_type": "markdown",
      "source": [
        "#for 문에서 자주 사용하는 함수\n",
        "# range\n",
        "# enumerate\n",
        "# zip\n"
      ],
      "metadata": {
        "id": "xm5LQ8HzcpiS"
      }
    },
    {
      "cell_type": "code",
      "source": [
        "list(range(100))"
      ],
      "metadata": {
        "id": "7Rx2MJscdAu4"
      },
      "execution_count": null,
      "outputs": []
    },
    {
      "cell_type": "code",
      "source": [
        "print(list(range(100)))"
      ],
      "metadata": {
        "id": "HVUySisOdCsa"
      },
      "execution_count": null,
      "outputs": []
    },
    {
      "cell_type": "markdown",
      "source": [
        "### range: 정수의 리스트를 생성하는 함수"
      ],
      "metadata": {
        "id": "pdrtIp1cdLUg"
      }
    },
    {
      "cell_type": "code",
      "source": [
        "# 0부터 9까지 있는 리스트 데이터를 만들어주세요\n",
        "list(range(10))"
      ],
      "metadata": {
        "id": "WFDtTLutdSN2"
      },
      "execution_count": null,
      "outputs": []
    },
    {
      "cell_type": "code",
      "source": [
        "# 5부터 시작하는 10까지\n",
        "list(range(5,10)) # start,end"
      ],
      "metadata": {
        "id": "D_RoNV8ndd_k"
      },
      "execution_count": null,
      "outputs": []
    },
    {
      "cell_type": "code",
      "source": [
        "list(range(1,10,2)) #start, end, stide)"
      ],
      "metadata": {
        "id": "CCQbyXU-dm34"
      },
      "execution_count": null,
      "outputs": []
    },
    {
      "cell_type": "code",
      "source": [
        "# 0부터 99까지 숫자를 모두 더해주세요.\n",
        "list = list(range(0,100))\n",
        "for i range:\n",
        "    list = i+list\n",
        "    print(list)"
      ],
      "metadata": {
        "id": "o8_m3pRMd1xs"
      },
      "execution_count": null,
      "outputs": []
    },
    {
      "cell_type": "code",
      "source": [
        "# 0부터 99까지 숫자를 모두 더해주세요.\n",
        "result - 0\n",
        "for data in range(100):\n",
        "    result = result + data\n",
        "    result += data #할당연산자\n",
        "\n",
        "print(result)"
      ],
      "metadata": {
        "id": "2Vpi6V99ebLT"
      },
      "execution_count": null,
      "outputs": []
    },
    {
      "cell_type": "markdown",
      "source": [
        "## enumertate() 함수\n",
        "- 순서가 있는 데이터 (Iterable)를 입력으로 받습니다.\n",
        "    - list, tuple, dictionary\n",
        "- 각 요소의 인덱스와 값을 함께 반환\n"
      ],
      "metadata": {
        "id": "cnB00-DIeuya"
      }
    },
    {
      "cell_type": "code",
      "source": [
        "ls = ['first', 'second', 'third']\n",
        "#for idx, data\n",
        "for idx, data in enumerate(ls):\n",
        "    print(idx, data)"
      ],
      "metadata": {
        "id": "P8VVusR_exYE"
      },
      "execution_count": null,
      "outputs": []
    },
    {
      "cell_type": "markdown",
      "source": [
        "## 2중 for 문"
      ],
      "metadata": {
        "id": "c9R7ou9vfazL"
      }
    },
    {
      "cell_type": "code",
      "source": [
        "# 구구단\n",
        "\n",
        "for i in range(2,10):\n",
        "    for j in range(1,10):\n",
        "        print(f'{i}*{j}={i*j}')\n",
        "    print()"
      ],
      "metadata": {
        "id": "GYpArNPVgSKd"
      },
      "execution_count": null,
      "outputs": []
    },
    {
      "cell_type": "markdown",
      "source": [
        "## _변수사용"
      ],
      "metadata": {
        "id": "G00F4u3Qgm5p"
      }
    },
    {
      "cell_type": "code",
      "source": [
        "# 10번 출력\n",
        "\n",
        "ls = range(11)\n",
        "\n",
        "for data in range(10):\n",
        "    print('python')\n"
      ],
      "metadata": {
        "id": "EjhpZNayheYr"
      },
      "execution_count": null,
      "outputs": []
    },
    {
      "cell_type": "code",
      "source": [
        "ls = [1,2,3,[4]]"
      ],
      "metadata": {
        "id": "EHa3SMfChtD7"
      },
      "execution_count": null,
      "outputs": []
    },
    {
      "cell_type": "code",
      "source": [
        "print(ls[2])"
      ],
      "metadata": {
        "id": "vG0KMns8i6EY"
      },
      "execution_count": null,
      "outputs": []
    },
    {
      "cell_type": "code",
      "source": [
        "print(ls[3][0])"
      ],
      "metadata": {
        "id": "PnkfnLzXi8Sw"
      },
      "execution_count": null,
      "outputs": []
    },
    {
      "cell_type": "code",
      "source": [
        "matrix = [[1,2,3],\n",
        "        [4,5,6,],\n",
        "        [7,8,9]]\n",
        "matrix"
      ],
      "metadata": {
        "id": "6nuoEi4ajDa2"
      },
      "execution_count": null,
      "outputs": []
    },
    {
      "cell_type": "code",
      "source": [
        "# 리스트 벗겨내기\n",
        "for row in matrix:\n",
        "    for element in row:\n",
        "      print(element, end='')\n",
        "    print()"
      ],
      "metadata": {
        "id": "XPWfINk-jtdh"
      },
      "execution_count": null,
      "outputs": []
    },
    {
      "cell_type": "code",
      "source": [
        "### list comprehension"
      ],
      "metadata": {
        "id": "M2EDZY7pl3Pg"
      },
      "execution_count": null,
      "outputs": []
    },
    {
      "cell_type": "code",
      "source": [
        "ls = [1, 3, 6, 9]"
      ],
      "metadata": {
        "id": "qq8bh_k9kCjr"
      },
      "execution_count": null,
      "outputs": []
    },
    {
      "cell_type": "code",
      "source": [
        "result = []\n",
        "for i in ls:\n",
        "    result.append (i ** 2)"
      ],
      "metadata": {
        "id": "w4MzA2OOlvMd"
      },
      "execution_count": null,
      "outputs": []
    },
    {
      "cell_type": "code",
      "source": [
        "result = [i **2 for i in ls]\n",
        "result"
      ],
      "metadata": {
        "id": "tMylBOSrmBPy"
      },
      "execution_count": null,
      "outputs": []
    },
    {
      "cell_type": "code",
      "source": [
        "words = ['apple', 'bamama', 'orange', 'grape', 'kiwi']"
      ],
      "metadata": {
        "id": "1nVPPghGmYYa"
      },
      "execution_count": null,
      "outputs": []
    },
    {
      "cell_type": "code",
      "source": [
        "#문자열 길이가 5 이상인 값만 선택후 result =[] 저장\n",
        "result = []\n",
        "for word in words :\n",
        "    if len(word) > 5:\n",
        "        result.append(word)\n",
        "result"
      ],
      "metadata": {
        "id": "Hr8YTYR8nAYg"
      },
      "execution_count": null,
      "outputs": []
    },
    {
      "cell_type": "code",
      "source": [
        "result = [word for word in words if len(word) > 5]\n",
        "result"
      ],
      "metadata": {
        "id": "Du6tNtWZnhUq"
      },
      "execution_count": null,
      "outputs": []
    },
    {
      "cell_type": "code",
      "source": [
        "#list comprehension quiz time!\n",
        "datas = ['kim test', 'cho python','park data', 'Kim jupyter', 'jung notebook', 'KIM vscode']"
      ],
      "metadata": {
        "id": "4QwrfT6voOZv"
      },
      "execution_count": null,
      "outputs": []
    },
    {
      "cell_type": "code",
      "source": [
        "#1. kim씨 성을 가진 사람을 제외한 나머지 사람의 이름만 리스트로 춮력\n",
        "#['python' , ' data', 'notebook']\n",
        "no_kims = []\n",
        "for data in datas:\n",
        "    print(data)\n",
        "    if data.split(' ')[0].lower() != 'kim' :\n",
        "        no_kims.append(data.split(' ')[1])\n",
        "no_kims"
      ],
      "metadata": {
        "id": "VvDRe2wbo7Hu"
      },
      "execution_count": null,
      "outputs": []
    },
    {
      "cell_type": "code",
      "source": [
        "no_kims = []\n",
        "no_kims = [data for data in datas if data.split(' ')[0].lower() != 'kim']\n",
        "no_kims"
      ],
      "metadata": {
        "id": "vZuxs9nks7Fl"
      },
      "execution_count": null,
      "outputs": []
    },
    {
      "cell_type": "code",
      "source": [
        "sample = '나는 지금 집에 가고 싶다.'\n",
        "sample.split(' ')\n",
        "# 리스트로 변환\n",
        "sample.split(' ')[2]"
      ],
      "metadata": {
        "id": "Wb6CQ6g5pkov"
      },
      "execution_count": null,
      "outputs": []
    },
    {
      "cell_type": "code",
      "source": [
        "# kim씨 성을 가진 사람을 제외하고 나머지 사람 출력\n",
        "# 단 조씨성을 가진 사람만 성을 제외한 나머지 이름만 출력\n",
        "# ['python', 'min data', 'jung notebook']\n",
        "no_kims = []\n",
        "\n",
        "for data in datas:\n",
        "    if data.split('')[0].lower() != 'kim':\n",
        "        no.kims.append(data.split(' ')[1] if data.split('')[0] == 'cho' else data)\n",
        "\n",
        "no_kims"
      ],
      "metadata": {
        "id": "JPyrtM94psZR"
      },
      "execution_count": null,
      "outputs": []
    },
    {
      "cell_type": "code",
      "source": [
        "no_kims = [data.split('')[1]\n",
        "           for data in datas\n",
        "           if data.split('')[0].lower() != 'kim']\n",
        "no_kims"
      ],
      "metadata": {
        "id": "XeYIQcYPKZaU"
      },
      "execution_count": null,
      "outputs": []
    },
    {
      "cell_type": "markdown",
      "source": [
        "## 2. 파라미터와 아규먼트(parameter, argument)\n",
        "- parameter\n",
        "    - 함수를 선언할때 함수에 입력받는 값을 지정한 변수\n",
        "- argument\n",
        "    - 함수를 호출할때 함수에 전달되는 변수\n",
        "- parameter와 argument 갯수, 순서가 중요합니다."
      ],
      "metadata": {
        "id": "f2rBbfdfLHfv"
      }
    },
    {
      "cell_type": "code",
      "source": [
        "# 함수 선언:\n",
        "# 숫자 두개를 입력받으면 그 두 숫자를 더한 값을 출력해주는 함수를 작성해주세요.\n",
        "\n",
        "def sum(a,b):\n",
        "    print(a+b)\n",
        "\n"
      ],
      "metadata": {
        "id": "0QJFPpSQeE0V"
      },
      "execution_count": null,
      "outputs": []
    },
    {
      "cell_type": "code",
      "source": [
        "# 함수 호출\n",
        "sum(10,20) #아규먼트"
      ],
      "metadata": {
        "id": "zusjyaMNeYsb"
      },
      "execution_count": null,
      "outputs": []
    },
    {
      "cell_type": "markdown",
      "source": [
        "# 갯수, 순서에 대한 설정\n",
        "- default parameter\n"
      ],
      "metadata": {
        "id": "7nCwtLZCeo_B"
      }
    },
    {
      "cell_type": "code",
      "source": [
        "def sum_up(a, b=10): # b = default parameter\n",
        "    print(a+b)\n",
        "\n",
        "sum_up(10)"
      ],
      "metadata": {
        "id": "uEkopOMhfIcf"
      },
      "execution_count": null,
      "outputs": []
    },
    {
      "cell_type": "code",
      "source": [
        "sum_up(20, 40) # 지정하고 두 개 넣으면 고정된 숫자가 변화함"
      ],
      "metadata": {
        "id": "T7N3IEehflpm"
      },
      "execution_count": null,
      "outputs": []
    },
    {
      "cell_type": "markdown",
      "source": [
        "## 특정값만 지정해서 변경"
      ],
      "metadata": {
        "id": "mzfnUXckf5OH"
      }
    },
    {
      "cell_type": "markdown",
      "source": [
        "- keyword argument"
      ],
      "metadata": {
        "id": "DYoAUs53gPPM"
      }
    },
    {
      "cell_type": "code",
      "source": [
        "def my_calc(num1, num2 = 10, num3 =20):\n",
        "    print(num1+num2 - num3)\n",
        "# 숫자 3개를 입력 받습니다.\n",
        "# 뒤에 숫자 2개는 각각 10과 20을 기본 설정해주세요.\n",
        "# 출력은 맨 앞 숫자 두 번째 숫자를 더하고 마지막 숫자를 뺀 결과"
      ],
      "metadata": {
        "id": "ZAFzj94UgRh9"
      },
      "execution_count": null,
      "outputs": []
    },
    {
      "cell_type": "code",
      "source": [
        "my_calc(1,2)"
      ],
      "metadata": {
        "id": "N0osziUYgqQg"
      },
      "execution_count": null,
      "outputs": []
    },
    {
      "cell_type": "code",
      "source": [
        "my_calc(3,10,100)"
      ],
      "metadata": {
        "id": "Glg3Wq3bgwD5"
      },
      "execution_count": null,
      "outputs": []
    },
    {
      "cell_type": "code",
      "source": [
        "my_calc(3)"
      ],
      "metadata": {
        "id": "8YrGpBYuhCtk"
      },
      "execution_count": null,
      "outputs": []
    },
    {
      "cell_type": "code",
      "source": [
        "my_calc(3, num3 = 200) #keyword argument"
      ],
      "metadata": {
        "id": "FhxxkUE1hPtD"
      },
      "execution_count": null,
      "outputs": []
    },
    {
      "cell_type": "code",
      "source": [
        "my_calc( num3=200, 5)\n",
        "# 순서가 중요함"
      ],
      "metadata": {
        "id": "ENmUpQO4hbeR"
      },
      "execution_count": null,
      "outputs": []
    },
    {
      "cell_type": "code",
      "source": [
        "my_calc(num3=200, num1= 10)"
      ],
      "metadata": {
        "id": "nYPUBGj2h3VI"
      },
      "execution_count": null,
      "outputs": []
    },
    {
      "cell_type": "code",
      "source": [
        "my_calc(15) + 5"
      ],
      "metadata": {
        "id": "vYWd5Fk_iCuW"
      },
      "execution_count": null,
      "outputs": []
    },
    {
      "cell_type": "code",
      "source": [
        "## 3. 리턴(return)\n",
        "- 함수의 실행결과를 저장하고자 할 때 사용하는 예약어\n",
        "- 함수 내부에서 사용\n"
      ],
      "metadata": {
        "id": "UsSlBvToiYSd"
      },
      "execution_count": null,
      "outputs": []
    },
    {
      "cell_type": "code",
      "source": [
        "def add_no_return(num1, num2):\n",
        "    print(num1 + num 2)"
      ],
      "metadata": {
        "id": "IzdFXfjEi5-_"
      },
      "execution_count": null,
      "outputs": []
    },
    {
      "cell_type": "code",
      "source": [
        "result = add_no_return(1,2)"
      ],
      "metadata": {
        "id": "tuijPF8NjC_b"
      },
      "execution_count": null,
      "outputs": []
    },
    {
      "cell_type": "code",
      "source": [
        "print(result)"
      ],
      "metadata": {
        "id": "TLjs9bYpjIw7"
      },
      "execution_count": null,
      "outputs": []
    },
    {
      "cell_type": "code",
      "source": [
        "result + 3"
      ],
      "metadata": {
        "id": "lqdCMbcejJs_"
      },
      "execution_count": null,
      "outputs": []
    },
    {
      "cell_type": "code",
      "source": [
        "def add_yes_return(num1, num2):\n",
        "    return num1 + num2"
      ],
      "metadata": {
        "id": "yRV_sxHyjWwY"
      },
      "execution_count": null,
      "outputs": []
    },
    {
      "cell_type": "code",
      "source": [
        "result = add_yes_return(1,2)\n",
        "result + 3"
      ],
      "metadata": {
        "id": "qxCkBYPGjkK2"
      },
      "execution_count": null,
      "outputs": []
    },
    {
      "cell_type": "code",
      "source": [
        "# 다중 리턴\n",
        "def get_name_and_age():\n",
        "    name \"ACE\"\n",
        "    age = 18\n",
        "    return name, age"
      ],
      "metadata": {
        "id": "VavU7YLtjpnz"
      },
      "execution_count": null,
      "outputs": []
    },
    {
      "cell_type": "code",
      "source": [
        "# 함수 호출\n",
        "name, age = get_name_and_age()\n",
        "print(name, age)"
      ],
      "metadata": {
        "id": "k10PN4BxkY4J"
      },
      "execution_count": null,
      "outputs": []
    },
    {
      "cell_type": "code",
      "source": [
        "# return의 다른 용도:\n",
        "def save_checkpoint(msg):\n",
        "    if msg == 'save':\n",
        "        return\n",
        "    print('continue~!')"
      ],
      "metadata": {
        "id": "D2OGOCPfkdU5"
      },
      "execution_count": null,
      "outputs": []
    },
    {
      "cell_type": "code",
      "source": [
        "save_checkpoint('집에 가고싶다')"
      ],
      "metadata": {
        "id": "ejyKlnQalRYJ"
      },
      "execution_count": null,
      "outputs": []
    },
    {
      "cell_type": "code",
      "source": [
        "save_checkpoint('save')"
      ],
      "metadata": {
        "id": "7x_YRkm4l18H"
      },
      "execution_count": null,
      "outputs": []
    },
    {
      "cell_type": "code",
      "source": [
        "%reset"
      ],
      "metadata": {
        "id": "Mc3vdVlwl5hR"
      },
      "execution_count": null,
      "outputs": []
    },
    {
      "cell_type": "code",
      "source": [
        "help(sum)"
      ],
      "metadata": {
        "id": "uKYXgXPamIYP"
      },
      "execution_count": null,
      "outputs": []
    },
    {
      "cell_type": "code",
      "source": [
        "sum([1,2,3], start = 10)"
      ],
      "metadata": {
        "id": "GNq6InLOmeya"
      },
      "execution_count": null,
      "outputs": []
    },
    {
      "cell_type": "code",
      "source": [
        "# value라는 변수를 입력받고, 입력받은 value변수를 print()하는 함수"
      ],
      "metadata": {
        "id": "PyN9ffqmm0YB"
      },
      "execution_count": null,
      "outputs": []
    },
    {
      "cell_type": "code",
      "source": [
        "def my_print(value):\n",
        "    print(value)"
      ],
      "metadata": {
        "id": "Zf23MFZl9NBJ"
      },
      "execution_count": null,
      "outputs": []
    },
    {
      "cell_type": "code",
      "source": [
        "my_print(1)"
      ],
      "metadata": {
        "id": "itvwwXmq9wOf"
      },
      "execution_count": null,
      "outputs": []
    },
    {
      "cell_type": "code",
      "source": [
        "my_print('text', 1)"
      ],
      "metadata": {
        "id": "mSBJicWc96Md"
      },
      "execution_count": null,
      "outputs": []
    },
    {
      "cell_type": "code",
      "source": [
        "#변수를 몇 개(한개 이상)받고 싶을 때 쓰는 방법\n",
        "def my_print(*args):\n",
        "    print(*args)\n",
        "\n",
        "my_print('text', 1, 2)"
      ],
      "metadata": {
        "id": "MMvLqnu0-AMs"
      },
      "execution_count": null,
      "outputs": []
    },
    {
      "cell_type": "code",
      "source": [
        "my_print(1)\n",
        "my_print(1,2)\n",
        "my_print(1,2,3)\n"
      ],
      "metadata": {
        "id": "aGPb80kP-YEc"
      },
      "execution_count": null,
      "outputs": []
    },
    {
      "cell_type": "code",
      "source": [
        "# 몇개를 입력받든, 모두다 print()하는 함수, 입력 변수는 3개 이상 입력받게 해주세요.\n",
        "def my_print_func(*args):\n",
        "    for arg in args:\n",
        "        print(arg)\n",
        "\n",
        "\n",
        "my_print_func(1,2)\n"
      ],
      "metadata": {
        "id": "cvvXa0cu_nY3"
      },
      "execution_count": null,
      "outputs": []
    },
    {
      "cell_type": "code",
      "source": [
        "data = [1,2,3,4,5,6,7]\n",
        "print(data)\n",
        "print(*data) #리스트를 언팩킹"
      ],
      "metadata": {
        "id": "PGvrnptXAfWE"
      },
      "execution_count": null,
      "outputs": []
    },
    {
      "cell_type": "code",
      "source": [
        "# keyword arguments 키와 벨류(딕셔너리 타이뱨\n",
        "def my_print(**kwargs):\n",
        "    print(kwargs)\n"
      ],
      "metadata": {
        "id": "a0rU5atDA1Rm"
      },
      "execution_count": null,
      "outputs": []
    },
    {
      "cell_type": "code",
      "source": [
        "my_print(name = 'cho', age = 17)"
      ],
      "metadata": {
        "id": "GAtYQS6_B4vK"
      },
      "execution_count": null,
      "outputs": []
    },
    {
      "cell_type": "code",
      "source": [
        "# args외 파라미터가 필요할 경우\n",
        "# *args 앞 또는 키워드 파라미터 사용\n",
        "def calc_avg(unit, *args):\n",
        "    print(sum(args)/len(args), unit)"
      ],
      "metadata": {
        "id": "4x5vMskHCQap"
      },
      "execution_count": null,
      "outputs": []
    },
    {
      "cell_type": "code",
      "source": [
        "calc_avg('cm', 11,22,33)"
      ],
      "metadata": {
        "id": "a_52aGe3DHLh"
      },
      "execution_count": null,
      "outputs": []
    },
    {
      "cell_type": "code",
      "source": [
        "calc_avg(11,22,33, 'cm')"
      ],
      "metadata": {
        "id": "RM1xjIxFDOhw"
      },
      "execution_count": null,
      "outputs": []
    },
    {
      "cell_type": "code",
      "source": [
        "def calc_avg(*args, unit = 'cm')\n",
        "    print(sum(args)/len(args),unit)\n",
        "\n",
        "calc_avg(11,22,33, unit = 'inch')"
      ],
      "metadata": {
        "id": "clT1STqWDpqn"
      },
      "execution_count": null,
      "outputs": []
    }
  ]
}